{
 "cells": [
  {
   "cell_type": "markdown",
   "id": "3ebee0df",
   "metadata": {
    "papermill": {
     "duration": 0.001979,
     "end_time": "2025-02-20T08:14:03.515592",
     "exception": false,
     "start_time": "2025-02-20T08:14:03.513613",
     "status": "completed"
    },
    "tags": []
   },
   "source": [
    "# First Python Program\n",
    "1. Hello World"
   ]
  },
  {
   "cell_type": "code",
   "execution_count": 1,
   "id": "a092988c",
   "metadata": {
    "execution": {
     "iopub.execute_input": "2025-02-20T08:14:03.520312Z",
     "iopub.status.busy": "2025-02-20T08:14:03.519901Z",
     "iopub.status.idle": "2025-02-20T08:14:03.526916Z",
     "shell.execute_reply": "2025-02-20T08:14:03.525722Z"
    },
    "papermill": {
     "duration": 0.011278,
     "end_time": "2025-02-20T08:14:03.528676",
     "exception": false,
     "start_time": "2025-02-20T08:14:03.517398",
     "status": "completed"
    },
    "tags": []
   },
   "outputs": [
    {
     "name": "stdout",
     "output_type": "stream",
     "text": [
      "Hello World..!\n"
     ]
    }
   ],
   "source": [
    "print('Hello World..!')"
   ]
  }
 ],
 "metadata": {
  "kaggle": {
   "accelerator": "none",
   "dataSources": [],
   "dockerImageVersionId": 30886,
   "isGpuEnabled": false,
   "isInternetEnabled": false,
   "language": "python",
   "sourceType": "notebook"
  },
  "kernelspec": {
   "display_name": "Python 3",
   "language": "python",
   "name": "python3"
  },
  "language_info": {
   "codemirror_mode": {
    "name": "ipython",
    "version": 3
   },
   "file_extension": ".py",
   "mimetype": "text/x-python",
   "name": "python",
   "nbconvert_exporter": "python",
   "pygments_lexer": "ipython3",
   "version": "3.10.12"
  },
  "papermill": {
   "default_parameters": {},
   "duration": 3.449014,
   "end_time": "2025-02-20T08:14:04.050366",
   "environment_variables": {},
   "exception": null,
   "input_path": "__notebook__.ipynb",
   "output_path": "__notebook__.ipynb",
   "parameters": {},
   "start_time": "2025-02-20T08:14:00.601352",
   "version": "2.6.0"
  }
 },
 "nbformat": 4,
 "nbformat_minor": 5
}
