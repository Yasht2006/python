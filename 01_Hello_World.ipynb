{
 "cells": [
  {
   "cell_type": "markdown",
   "id": "67cd9ad7",
   "metadata": {
    "papermill": {
     "duration": 0.002393,
     "end_time": "2025-02-20T08:16:18.955974",
     "exception": false,
     "start_time": "2025-02-20T08:16:18.953581",
     "status": "completed"
    },
    "tags": []
   },
   "source": [
    "# First Python Program\n",
    "1. Hello World"
   ]
  },
  {
   "cell_type": "code",
   "execution_count": 1,
   "id": "54b1fb1c",
   "metadata": {
    "execution": {
     "iopub.execute_input": "2025-02-20T08:16:18.960865Z",
     "iopub.status.busy": "2025-02-20T08:16:18.960550Z",
     "iopub.status.idle": "2025-02-20T08:16:18.967069Z",
     "shell.execute_reply": "2025-02-20T08:16:18.965945Z"
    },
    "papermill": {
     "duration": 0.010934,
     "end_time": "2025-02-20T08:16:18.968745",
     "exception": false,
     "start_time": "2025-02-20T08:16:18.957811",
     "status": "completed"
    },
    "tags": []
   },
   "outputs": [
    {
     "name": "stdout",
     "output_type": "stream",
     "text": [
      "Hello World..!\n"
     ]
    }
   ],
   "source": [
    "print('Hello World..!')"
   ]
  },
  {
   "cell_type": "code",
   "execution_count": null,
   "id": "d7b59efb",
   "metadata": {
    "papermill": {
     "duration": 0.001341,
     "end_time": "2025-02-20T08:16:18.971873",
     "exception": false,
     "start_time": "2025-02-20T08:16:18.970532",
     "status": "completed"
    },
    "tags": []
   },
   "outputs": [],
   "source": []
  }
 ],
 "metadata": {
  "kaggle": {
   "accelerator": "none",
   "dataSources": [],
   "dockerImageVersionId": 30886,
   "isGpuEnabled": false,
   "isInternetEnabled": false,
   "language": "python",
   "sourceType": "notebook"
  },
  "kernelspec": {
   "display_name": "Python 3",
   "language": "python",
   "name": "python3"
  },
  "language_info": {
   "codemirror_mode": {
    "name": "ipython",
    "version": 3
   },
   "file_extension": ".py",
   "mimetype": "text/x-python",
   "name": "python",
   "nbconvert_exporter": "python",
   "pygments_lexer": "ipython3",
   "version": "3.10.12"
  },
  "papermill": {
   "default_parameters": {},
   "duration": 3.174911,
   "end_time": "2025-02-20T08:16:19.391498",
   "environment_variables": {},
   "exception": null,
   "input_path": "__notebook__.ipynb",
   "output_path": "__notebook__.ipynb",
   "parameters": {},
   "start_time": "2025-02-20T08:16:16.216587",
   "version": "2.6.0"
  }
 },
 "nbformat": 4,
 "nbformat_minor": 5
}
