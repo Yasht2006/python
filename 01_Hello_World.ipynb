{
 "cells": [
  {
   "cell_type": "markdown",
   "id": "23a4da79",
   "metadata": {
    "_cell_guid": "b1076dfc-b9ad-4769-8c92-a6c4dae69d19",
    "_uuid": "8f2839f25d086af736a60e9eeb907d3b93b6e0e5",
    "papermill": {
     "duration": 0.002644,
     "end_time": "2025-02-20T08:40:15.512432",
     "exception": false,
     "start_time": "2025-02-20T08:40:15.509788",
     "status": "completed"
    },
    "tags": []
   },
   "source": [
    "# **First Python Program**"
   ]
  },
  {
   "cell_type": "code",
   "execution_count": 1,
   "id": "b5dd044e",
   "metadata": {
    "execution": {
     "iopub.execute_input": "2025-02-20T08:40:15.518828Z",
     "iopub.status.busy": "2025-02-20T08:40:15.518316Z",
     "iopub.status.idle": "2025-02-20T08:40:15.524881Z",
     "shell.execute_reply": "2025-02-20T08:40:15.523626Z"
    },
    "papermill": {
     "duration": 0.011691,
     "end_time": "2025-02-20T08:40:15.526661",
     "exception": false,
     "start_time": "2025-02-20T08:40:15.514970",
     "status": "completed"
    },
    "tags": []
   },
   "outputs": [
    {
     "name": "stdout",
     "output_type": "stream",
     "text": [
      "Welcome to Python\n",
      "Hello World..!\n"
     ]
    }
   ],
   "source": [
    "print('Welcome to Python')\n",
    "print('Hello World..!')"
   ]
  },
  {
   "cell_type": "markdown",
   "id": "a5be620c",
   "metadata": {
    "papermill": {
     "duration": 0.001938,
     "end_time": "2025-02-20T08:40:15.531125",
     "exception": false,
     "start_time": "2025-02-20T08:40:15.529187",
     "status": "completed"
    },
    "tags": []
   },
   "source": [
    "# Python Comments\n",
    "* Comments help programmers communicate and understand a program. They are not programming statements and thus are ignored by the interpreter.\n",
    " * There are two types of comments in Python:\n",
    "   * **line comment:** comments preceded by a **pound sign (#)** on a line\n",
    "   * **paragraph comment:** enclosed between **three consecutive single quotation marks (''')** on one or several lines.\n",
    "* When the Python interpreter sees **#**, it ignores all text after **#** on the same line.\n",
    "* When it sees **'''**, it scans for the next **'''** and ignores any text between the triple quotation marks."
   ]
  },
  {
   "cell_type": "code",
   "execution_count": 2,
   "id": "8e657300",
   "metadata": {
    "execution": {
     "iopub.execute_input": "2025-02-20T08:40:15.537086Z",
     "iopub.status.busy": "2025-02-20T08:40:15.536742Z",
     "iopub.status.idle": "2025-02-20T08:40:15.541874Z",
     "shell.execute_reply": "2025-02-20T08:40:15.540729Z"
    },
    "papermill": {
     "duration": 0.010057,
     "end_time": "2025-02-20T08:40:15.543638",
     "exception": false,
     "start_time": "2025-02-20T08:40:15.533581",
     "status": "completed"
    },
    "tags": []
   },
   "outputs": [
    {
     "name": "stdout",
     "output_type": "stream",
     "text": [
      "Welcome to Python\n"
     ]
    }
   ],
   "source": [
    "# This program displays Welcome to Python\n",
    "print(\"Welcome to Python\")"
   ]
  },
  {
   "cell_type": "code",
   "execution_count": 3,
   "id": "71df814e",
   "metadata": {
    "execution": {
     "iopub.execute_input": "2025-02-20T08:40:15.549944Z",
     "iopub.status.busy": "2025-02-20T08:40:15.549560Z",
     "iopub.status.idle": "2025-02-20T08:40:15.554757Z",
     "shell.execute_reply": "2025-02-20T08:40:15.553526Z"
    },
    "papermill": {
     "duration": 0.010225,
     "end_time": "2025-02-20T08:40:15.556345",
     "exception": false,
     "start_time": "2025-02-20T08:40:15.546120",
     "status": "completed"
    },
    "tags": []
   },
   "outputs": [
    {
     "name": "stdout",
     "output_type": "stream",
     "text": [
      "Welcome to Python\n"
     ]
    }
   ],
   "source": [
    "''' \n",
    "This program displays Welcome to Python\n",
    "Python is Fun\n",
    "'''\n",
    "print(\"Welcome to Python\")"
   ]
  },
  {
   "cell_type": "code",
   "execution_count": null,
   "id": "a0d9528e",
   "metadata": {
    "papermill": {
     "duration": 0.002076,
     "end_time": "2025-02-20T08:40:15.561082",
     "exception": false,
     "start_time": "2025-02-20T08:40:15.559006",
     "status": "completed"
    },
    "tags": []
   },
   "outputs": [],
   "source": []
  }
 ],
 "metadata": {
  "kaggle": {
   "accelerator": "none",
   "dataSources": [],
   "dockerImageVersionId": 30886,
   "isGpuEnabled": false,
   "isInternetEnabled": false,
   "language": "python",
   "sourceType": "notebook"
  },
  "kernelspec": {
   "display_name": "Python 3",
   "language": "python",
   "name": "python3"
  },
  "language_info": {
   "codemirror_mode": {
    "name": "ipython",
    "version": 3
   },
   "file_extension": ".py",
   "mimetype": "text/x-python",
   "name": "python",
   "nbconvert_exporter": "python",
   "pygments_lexer": "ipython3",
   "version": "3.10.12"
  },
  "papermill": {
   "default_parameters": {},
   "duration": 3.414715,
   "end_time": "2025-02-20T08:40:15.983336",
   "environment_variables": {},
   "exception": null,
   "input_path": "__notebook__.ipynb",
   "output_path": "__notebook__.ipynb",
   "parameters": {},
   "start_time": "2025-02-20T08:40:12.568621",
   "version": "2.6.0"
  }
 },
 "nbformat": 4,
 "nbformat_minor": 5
}
