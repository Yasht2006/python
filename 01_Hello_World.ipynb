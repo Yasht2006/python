{
 "cells": [
  {
   "cell_type": "markdown",
   "id": "26dbf046",
   "metadata": {
    "papermill": {
     "duration": 0.00229,
     "end_time": "2025-02-20T08:18:56.158120",
     "exception": false,
     "start_time": "2025-02-20T08:18:56.155830",
     "status": "completed"
    },
    "tags": []
   },
   "source": [
    "# First Python Program"
   ]
  },
  {
   "cell_type": "code",
   "execution_count": 1,
   "id": "a0da2fd2",
   "metadata": {
    "execution": {
     "iopub.execute_input": "2025-02-20T08:18:56.164183Z",
     "iopub.status.busy": "2025-02-20T08:18:56.163692Z",
     "iopub.status.idle": "2025-02-20T08:18:56.172191Z",
     "shell.execute_reply": "2025-02-20T08:18:56.170904Z"
    },
    "papermill": {
     "duration": 0.013176,
     "end_time": "2025-02-20T08:18:56.174194",
     "exception": false,
     "start_time": "2025-02-20T08:18:56.161018",
     "status": "completed"
    },
    "tags": []
   },
   "outputs": [
    {
     "name": "stdout",
     "output_type": "stream",
     "text": [
      "Welcome To Python..!\n",
      "Hello World..!\n"
     ]
    }
   ],
   "source": [
    "print('Welcome To Python..!')\n",
    "print('Hello World..!')"
   ]
  },
  {
   "cell_type": "code",
   "execution_count": null,
   "id": "5b637188",
   "metadata": {
    "papermill": {
     "duration": 0.002653,
     "end_time": "2025-02-20T08:18:56.178975",
     "exception": false,
     "start_time": "2025-02-20T08:18:56.176322",
     "status": "completed"
    },
    "tags": []
   },
   "outputs": [],
   "source": []
  }
 ],
 "metadata": {
  "kaggle": {
   "accelerator": "none",
   "dataSources": [],
   "dockerImageVersionId": 30886,
   "isGpuEnabled": false,
   "isInternetEnabled": false,
   "language": "python",
   "sourceType": "notebook"
  },
  "kernelspec": {
   "display_name": "Python 3",
   "language": "python",
   "name": "python3"
  },
  "language_info": {
   "codemirror_mode": {
    "name": "ipython",
    "version": 3
   },
   "file_extension": ".py",
   "mimetype": "text/x-python",
   "name": "python",
   "nbconvert_exporter": "python",
   "pygments_lexer": "ipython3",
   "version": "3.10.12"
  },
  "papermill": {
   "default_parameters": {},
   "duration": 2.748284,
   "end_time": "2025-02-20T08:18:56.500550",
   "environment_variables": {},
   "exception": null,
   "input_path": "__notebook__.ipynb",
   "output_path": "__notebook__.ipynb",
   "parameters": {},
   "start_time": "2025-02-20T08:18:53.752266",
   "version": "2.6.0"
  }
 },
 "nbformat": 4,
 "nbformat_minor": 5
}
