{
 "cells": [
  {
   "cell_type": "markdown",
   "id": "58f8d3f4",
   "metadata": {
    "_cell_guid": "b1076dfc-b9ad-4769-8c92-a6c4dae69d19",
    "_uuid": "8f2839f25d086af736a60e9eeb907d3b93b6e0e5",
    "papermill": {
     "duration": 0.002421,
     "end_time": "2025-02-20T08:41:38.518999",
     "exception": false,
     "start_time": "2025-02-20T08:41:38.516578",
     "status": "completed"
    },
    "tags": []
   },
   "source": [
    "# **First Python Program**"
   ]
  },
  {
   "cell_type": "code",
   "execution_count": 1,
   "id": "fa0fb579",
   "metadata": {
    "execution": {
     "iopub.execute_input": "2025-02-20T08:41:38.525244Z",
     "iopub.status.busy": "2025-02-20T08:41:38.524757Z",
     "iopub.status.idle": "2025-02-20T08:41:38.532202Z",
     "shell.execute_reply": "2025-02-20T08:41:38.530896Z"
    },
    "papermill": {
     "duration": 0.012618,
     "end_time": "2025-02-20T08:41:38.534119",
     "exception": false,
     "start_time": "2025-02-20T08:41:38.521501",
     "status": "completed"
    },
    "tags": []
   },
   "outputs": [
    {
     "name": "stdout",
     "output_type": "stream",
     "text": [
      "Welcome to Python\n",
      "Hello World..!\n"
     ]
    }
   ],
   "source": [
    "print('Welcome to Python')\n",
    "print('Hello World..!')"
   ]
  },
  {
   "cell_type": "markdown",
   "id": "24921082",
   "metadata": {
    "papermill": {
     "duration": 0.001873,
     "end_time": "2025-02-20T08:41:38.538363",
     "exception": false,
     "start_time": "2025-02-20T08:41:38.536490",
     "status": "completed"
    },
    "tags": []
   },
   "source": [
    "# Python Comments\n",
    "* Comments help programmers communicate and understand a program. They are not programming statements and thus are ignored by the interpreter.\n",
    " * There are two types of comments in Python:\n",
    "   * **line comment:** comments preceded by a **pound sign (#)** on a line\n",
    "   * **paragraph comment:** enclosed between **three consecutive single quotation marks (''')** on one or several lines.\n",
    "* When the Python interpreter sees **#**, it ignores all text after **#** on the same line.\n",
    "* When it sees **'''**, it scans for the next **'''** and ignores any text between the triple quotation marks."
   ]
  },
  {
   "cell_type": "code",
   "execution_count": 2,
   "id": "1f717d6d",
   "metadata": {
    "execution": {
     "iopub.execute_input": "2025-02-20T08:41:38.543698Z",
     "iopub.status.busy": "2025-02-20T08:41:38.543290Z",
     "iopub.status.idle": "2025-02-20T08:41:38.548594Z",
     "shell.execute_reply": "2025-02-20T08:41:38.547450Z"
    },
    "papermill": {
     "duration": 0.009844,
     "end_time": "2025-02-20T08:41:38.550218",
     "exception": false,
     "start_time": "2025-02-20T08:41:38.540374",
     "status": "completed"
    },
    "tags": []
   },
   "outputs": [
    {
     "name": "stdout",
     "output_type": "stream",
     "text": [
      "Welcome to Python\n"
     ]
    }
   ],
   "source": [
    "# This program displays Welcome to Python\n",
    "print(\"Welcome to Python\")"
   ]
  },
  {
   "cell_type": "code",
   "execution_count": 3,
   "id": "58599187",
   "metadata": {
    "execution": {
     "iopub.execute_input": "2025-02-20T08:41:38.555985Z",
     "iopub.status.busy": "2025-02-20T08:41:38.555655Z",
     "iopub.status.idle": "2025-02-20T08:41:38.560804Z",
     "shell.execute_reply": "2025-02-20T08:41:38.559612Z"
    },
    "papermill": {
     "duration": 0.00995,
     "end_time": "2025-02-20T08:41:38.562514",
     "exception": false,
     "start_time": "2025-02-20T08:41:38.552564",
     "status": "completed"
    },
    "tags": []
   },
   "outputs": [
    {
     "name": "stdout",
     "output_type": "stream",
     "text": [
      "Welcome to Python\n"
     ]
    }
   ],
   "source": [
    "''' \n",
    "This program displays Welcome to Python\n",
    "Python is Fun\n",
    "'''\n",
    "print(\"Welcome to Python\")"
   ]
  }
 ],
 "metadata": {
  "kaggle": {
   "accelerator": "none",
   "dataSources": [],
   "dockerImageVersionId": 30886,
   "isGpuEnabled": false,
   "isInternetEnabled": false,
   "language": "python",
   "sourceType": "notebook"
  },
  "kernelspec": {
   "display_name": "Python 3",
   "language": "python",
   "name": "python3"
  },
  "language_info": {
   "codemirror_mode": {
    "name": "ipython",
    "version": 3
   },
   "file_extension": ".py",
   "mimetype": "text/x-python",
   "name": "python",
   "nbconvert_exporter": "python",
   "pygments_lexer": "ipython3",
   "version": "3.10.12"
  },
  "papermill": {
   "default_parameters": {},
   "duration": 3.503917,
   "end_time": "2025-02-20T08:41:39.084966",
   "environment_variables": {},
   "exception": null,
   "input_path": "__notebook__.ipynb",
   "output_path": "__notebook__.ipynb",
   "parameters": {},
   "start_time": "2025-02-20T08:41:35.581049",
   "version": "2.6.0"
  }
 },
 "nbformat": 4,
 "nbformat_minor": 5
}
