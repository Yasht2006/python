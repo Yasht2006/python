{
 "cells": [
  {
   "cell_type": "markdown",
   "id": "26186c09",
   "metadata": {
    "papermill": {
     "duration": 0.00503,
     "end_time": "2025-02-22T08:40:57.698060",
     "exception": false,
     "start_time": "2025-02-22T08:40:57.693030",
     "status": "completed"
    },
    "tags": []
   },
   "source": [
    "# Pattern Program"
   ]
  },
  {
   "cell_type": "code",
   "execution_count": 1,
   "id": "ad0e98bf",
   "metadata": {
    "execution": {
     "iopub.execute_input": "2025-02-22T08:40:57.707693Z",
     "iopub.status.busy": "2025-02-22T08:40:57.707416Z",
     "iopub.status.idle": "2025-02-22T08:40:57.719098Z",
     "shell.execute_reply": "2025-02-22T08:40:57.717684Z"
    },
    "papermill": {
     "duration": 0.018621,
     "end_time": "2025-02-22T08:40:57.720801",
     "exception": false,
     "start_time": "2025-02-22T08:40:57.702180",
     "status": "completed"
    },
    "tags": []
   },
   "outputs": [
    {
     "name": "stdout",
     "output_type": "stream",
     "text": [
      "* * * * * \n",
      "*       * \n",
      "*       * \n",
      "*       * \n",
      "* * * * * \n"
     ]
    }
   ],
   "source": [
    "# 1. Square Hollow Pattern\n",
    "n = 6\n",
    "for i in range(1,n):\n",
    "    for j in range(1,n):\n",
    "        if(i==1 or j==1 or j==n-1 or i==n-1):\n",
    "            print('* ',end='')\n",
    "        else:\n",
    "            print('  ',end='')\n",
    "    print()"
   ]
  },
  {
   "cell_type": "code",
   "execution_count": 2,
   "id": "6d537e4d",
   "metadata": {
    "execution": {
     "iopub.execute_input": "2025-02-22T08:40:57.731258Z",
     "iopub.status.busy": "2025-02-22T08:40:57.730950Z",
     "iopub.status.idle": "2025-02-22T08:40:57.740136Z",
     "shell.execute_reply": "2025-02-22T08:40:57.739354Z"
    },
    "papermill": {
     "duration": 0.016136,
     "end_time": "2025-02-22T08:40:57.741982",
     "exception": false,
     "start_time": "2025-02-22T08:40:57.725846",
     "status": "completed"
    },
    "tags": []
   },
   "outputs": [
    {
     "name": "stdout",
     "output_type": "stream",
     "text": [
      "    1 \n",
      "   1 2 \n",
      "  1 2 3 \n",
      " 1 2 3 4 \n",
      "1 2 3 4 5 \n"
     ]
    }
   ],
   "source": [
    "# 2. Number triangle Pattern\n",
    "n = 6\n",
    "for i in range(1,n):\n",
    "    for k in range(1,n-i):\n",
    "        print(' ',end='')\n",
    "    for j in range(i):\n",
    "        print(j+1,'',end='')\n",
    "    print()"
   ]
  },
  {
   "cell_type": "code",
   "execution_count": 3,
   "id": "3eedaf5d",
   "metadata": {
    "execution": {
     "iopub.execute_input": "2025-02-22T08:40:57.752212Z",
     "iopub.status.busy": "2025-02-22T08:40:57.751939Z",
     "iopub.status.idle": "2025-02-22T08:40:57.762904Z",
     "shell.execute_reply": "2025-02-22T08:40:57.761824Z"
    },
    "papermill": {
     "duration": 0.017266,
     "end_time": "2025-02-22T08:40:57.764395",
     "exception": false,
     "start_time": "2025-02-22T08:40:57.747129",
     "status": "completed"
    },
    "tags": []
   },
   "outputs": [
    {
     "name": "stdout",
     "output_type": "stream",
     "text": [
      "    1 \n",
      "   2 2 \n",
      "  3 3 3 \n",
      " 4 4 4 4 \n",
      "5 5 5 5 5 \n"
     ]
    }
   ],
   "source": [
    "# 2. Number triangle Pattern\n",
    "n = 6\n",
    "for i in range(1,n):\n",
    "    for k in range(1,n-i):\n",
    "        print(' ',end='')\n",
    "    for j in range(i):\n",
    "        print(i,'',end='')\n",
    "    print()"
   ]
  },
  {
   "cell_type": "code",
   "execution_count": 4,
   "id": "f3472dd1",
   "metadata": {
    "execution": {
     "iopub.execute_input": "2025-02-22T08:40:57.776542Z",
     "iopub.status.busy": "2025-02-22T08:40:57.776186Z",
     "iopub.status.idle": "2025-02-22T08:40:57.785711Z",
     "shell.execute_reply": "2025-02-22T08:40:57.784352Z"
    },
    "papermill": {
     "duration": 0.017918,
     "end_time": "2025-02-22T08:40:57.787262",
     "exception": false,
     "start_time": "2025-02-22T08:40:57.769344",
     "status": "completed"
    },
    "tags": []
   },
   "outputs": [
    {
     "name": "stdout",
     "output_type": "stream",
     "text": [
      "1 \n",
      "1 2 \n",
      "1 2 3 \n",
      "1 2 3 4 \n",
      "1 2 3 4 5 \n"
     ]
    }
   ],
   "source": [
    "# 3. Number-increasing Pyramid Pattern \n",
    "n = 6\n",
    "for i in range(1,n):\n",
    "    for j in range(1,i+1):\n",
    "        print(j,'',end='')\n",
    "    print()"
   ]
  },
  {
   "cell_type": "code",
   "execution_count": 5,
   "id": "b2d2f352",
   "metadata": {
    "execution": {
     "iopub.execute_input": "2025-02-22T08:40:57.801195Z",
     "iopub.status.busy": "2025-02-22T08:40:57.800830Z",
     "iopub.status.idle": "2025-02-22T08:40:57.810567Z",
     "shell.execute_reply": "2025-02-22T08:40:57.809303Z"
    },
    "papermill": {
     "duration": 0.018245,
     "end_time": "2025-02-22T08:40:57.812030",
     "exception": false,
     "start_time": "2025-02-22T08:40:57.793785",
     "status": "completed"
    },
    "tags": []
   },
   "outputs": [
    {
     "name": "stdout",
     "output_type": "stream",
     "text": [
      "1 2 3 4 5 \n",
      "1 2 3 4 \n",
      "1 2 3 \n",
      "1 2 \n",
      "1 \n"
     ]
    }
   ],
   "source": [
    "# 4. Number-increasing Reverse Pyramid Pattern \n",
    "n = 6\n",
    "for i in range(n,1,-1):\n",
    "    for j in range(1,i):\n",
    "        print(j,'',end='')\n",
    "    print()"
   ]
  },
  {
   "cell_type": "code",
   "execution_count": 6,
   "id": "6135f074",
   "metadata": {
    "execution": {
     "iopub.execute_input": "2025-02-22T08:40:57.822429Z",
     "iopub.status.busy": "2025-02-22T08:40:57.822122Z",
     "iopub.status.idle": "2025-02-22T08:40:57.831848Z",
     "shell.execute_reply": "2025-02-22T08:40:57.830844Z"
    },
    "papermill": {
     "duration": 0.016316,
     "end_time": "2025-02-22T08:40:57.833175",
     "exception": false,
     "start_time": "2025-02-22T08:40:57.816859",
     "status": "completed"
    },
    "tags": []
   },
   "outputs": [
    {
     "name": "stdout",
     "output_type": "stream",
     "text": [
      "1 \n",
      "2 3 \n",
      "4 5 6 \n",
      "7 8 9 10 \n",
      "11 12 13 14 15 \n"
     ]
    }
   ],
   "source": [
    "# 5. Number-changing Pyramid Pattern \n",
    "n = 6\n",
    "start = 1;\n",
    "for i in range(1,n):\n",
    "    for j in range(1,i+1):\n",
    "        print(start,'',end='')\n",
    "        start += 1\n",
    "    print()"
   ]
  },
  {
   "cell_type": "code",
   "execution_count": 7,
   "id": "e3b91145",
   "metadata": {
    "execution": {
     "iopub.execute_input": "2025-02-22T08:40:57.843789Z",
     "iopub.status.busy": "2025-02-22T08:40:57.843487Z",
     "iopub.status.idle": "2025-02-22T08:40:57.851030Z",
     "shell.execute_reply": "2025-02-22T08:40:57.850344Z"
    },
    "papermill": {
     "duration": 0.014194,
     "end_time": "2025-02-22T08:40:57.852346",
     "exception": false,
     "start_time": "2025-02-22T08:40:57.838152",
     "status": "completed"
    },
    "tags": []
   },
   "outputs": [
    {
     "name": "stdout",
     "output_type": "stream",
     "text": [
      "0 \n",
      "1 0 \n",
      "0 1 0 \n",
      "1 0 1 0 \n"
     ]
    }
   ],
   "source": [
    "# 6. Zero-One Triangle Pattern\n",
    "n = 5\n",
    "o = 0\n",
    "e = 1\n",
    "for i in range(1,n):\n",
    "    for j in range(1,i+1):\n",
    "        if (i+j)%2==0:\n",
    "            print(o,'',end='')\n",
    "        else:\n",
    "            print(e,'',end='')\n",
    "    print()"
   ]
  },
  {
   "cell_type": "code",
   "execution_count": 8,
   "id": "3f50a61a",
   "metadata": {
    "execution": {
     "iopub.execute_input": "2025-02-22T08:40:57.864115Z",
     "iopub.status.busy": "2025-02-22T08:40:57.863741Z",
     "iopub.status.idle": "2025-02-22T08:40:57.875481Z",
     "shell.execute_reply": "2025-02-22T08:40:57.874111Z"
    },
    "papermill": {
     "duration": 0.019476,
     "end_time": "2025-02-22T08:40:57.877320",
     "exception": false,
     "start_time": "2025-02-22T08:40:57.857844",
     "status": "completed"
    },
    "tags": []
   },
   "outputs": [
    {
     "name": "stdout",
     "output_type": "stream",
     "text": [
      "        1 \n",
      "      2 1 2 \n",
      "    3 2 1 2 3 \n",
      "  4 3 2 1 2 3 4 \n"
     ]
    }
   ],
   "source": [
    "# 7. Palindrome Triangle Pattern\n",
    "n = 5\n",
    "for i in range(1,n):\n",
    "    for k in range(n-i):\n",
    "        print('  ',end='')\n",
    "    for j in range(i,0,-1):\n",
    "        print(j,'',end='')\n",
    "    for l in range(1,i):\n",
    "        print(l+1,'',end='')\n",
    "    print()"
   ]
  },
  {
   "cell_type": "code",
   "execution_count": 9,
   "id": "a45fd891",
   "metadata": {
    "execution": {
     "iopub.execute_input": "2025-02-22T08:40:57.888630Z",
     "iopub.status.busy": "2025-02-22T08:40:57.888236Z",
     "iopub.status.idle": "2025-02-22T08:40:57.897728Z",
     "shell.execute_reply": "2025-02-22T08:40:57.896599Z"
    },
    "papermill": {
     "duration": 0.016824,
     "end_time": "2025-02-22T08:40:57.899527",
     "exception": false,
     "start_time": "2025-02-22T08:40:57.882703",
     "status": "completed"
    },
    "tags": []
   },
   "outputs": [
    {
     "name": "stdout",
     "output_type": "stream",
     "text": [
      "    * * * * * \n",
      "   * * * * * \n",
      "  * * * * * \n",
      " * * * * * \n",
      "* * * * * \n"
     ]
    }
   ],
   "source": [
    "# 8. Rhombus Reverse Pattern\n",
    "n = 6\n",
    "for i in range(1,n):\n",
    "    for k in range(1,n-i):\n",
    "        print(' ',end='')\n",
    "    for j in range(1,n):\n",
    "        print('* ',end='')\n",
    "    print()"
   ]
  },
  {
   "cell_type": "code",
   "execution_count": 10,
   "id": "3ef612a3",
   "metadata": {
    "execution": {
     "iopub.execute_input": "2025-02-22T08:40:57.915672Z",
     "iopub.status.busy": "2025-02-22T08:40:57.915355Z",
     "iopub.status.idle": "2025-02-22T08:40:57.923364Z",
     "shell.execute_reply": "2025-02-22T08:40:57.920647Z"
    },
    "papermill": {
     "duration": 0.015764,
     "end_time": "2025-02-22T08:40:57.925025",
     "exception": false,
     "start_time": "2025-02-22T08:40:57.909261",
     "status": "completed"
    },
    "tags": []
   },
   "outputs": [
    {
     "name": "stdout",
     "output_type": "stream",
     "text": [
      "* * * * * \n",
      " * * * * * \n",
      "  * * * * * \n",
      "   * * * * * \n",
      "    * * * * * \n"
     ]
    }
   ],
   "source": [
    "# 8. Rhombus Pattern\n",
    "n = 6\n",
    "for i in range(1,n):\n",
    "    for k in range(1,i):\n",
    "        print(' ',end='')\n",
    "    for j in range(1,n):\n",
    "        print('* ',end='')\n",
    "    print()"
   ]
  },
  {
   "cell_type": "code",
   "execution_count": 11,
   "id": "09098ed7",
   "metadata": {
    "execution": {
     "iopub.execute_input": "2025-02-22T08:40:57.935991Z",
     "iopub.status.busy": "2025-02-22T08:40:57.935679Z",
     "iopub.status.idle": "2025-02-22T08:40:57.947116Z",
     "shell.execute_reply": "2025-02-22T08:40:57.946185Z"
    },
    "papermill": {
     "duration": 0.018654,
     "end_time": "2025-02-22T08:40:57.948688",
     "exception": false,
     "start_time": "2025-02-22T08:40:57.930034",
     "status": "completed"
    },
    "tags": []
   },
   "outputs": [
    {
     "name": "stdout",
     "output_type": "stream",
     "text": [
      "        *   \n",
      "      *   *   \n",
      "    *   *   *   \n",
      "  *   *   *   *   \n",
      "*   *   *   *   *   \n",
      "  *   *   *   *   \n",
      "    *   *   *   \n",
      "      *   *   \n",
      "        *   \n"
     ]
    }
   ],
   "source": [
    "# 9. Diamond Star Pattern\n",
    "n = 6\n",
    "for i in range(1,n):\n",
    "    for k in range(1,n-i):\n",
    "        print('  ',end='')\n",
    "    for j in range(i):\n",
    "        print('*   ',end='')\n",
    "    print()\n",
    "for i in range(n-1,1,-1):\n",
    "    for k in range(n-i):\n",
    "        print('  ',end='')\n",
    "    for j in range(i-1):\n",
    "        print('*   ',end='')\n",
    "    print()"
   ]
  },
  {
   "cell_type": "code",
   "execution_count": 12,
   "id": "da4bdcf0",
   "metadata": {
    "execution": {
     "iopub.execute_input": "2025-02-22T08:40:57.960076Z",
     "iopub.status.busy": "2025-02-22T08:40:57.959731Z",
     "iopub.status.idle": "2025-02-22T08:40:57.971906Z",
     "shell.execute_reply": "2025-02-22T08:40:57.970730Z"
    },
    "papermill": {
     "duration": 0.019495,
     "end_time": "2025-02-22T08:40:57.973453",
     "exception": false,
     "start_time": "2025-02-22T08:40:57.953958",
     "status": "completed"
    },
    "tags": []
   },
   "outputs": [
    {
     "name": "stdout",
     "output_type": "stream",
     "text": [
      "                    *  \n",
      "                *  *  \n",
      "            *  *  *  \n",
      "        *  *  *  *  \n",
      "    *  *  *  *  *  \n",
      "        *  *  *  *  \n",
      "            *  *  *  \n",
      "                *  *  \n",
      "                    *  \n"
     ]
    }
   ],
   "source": [
    "# Airoplane Pattern\n",
    "n = 6\n",
    "for i in range(1,n):\n",
    "    for k in range(n-i):\n",
    "        print('    ',end='')\n",
    "    for j in range(1,i+1):\n",
    "        print('*  ',end='')\n",
    "    print()\n",
    "for i in range(2,n):\n",
    "    for k in range(i):\n",
    "        print('    ',end='')\n",
    "    for j in range(n-i,0,-1):\n",
    "        print('*  ',end='')\n",
    "    print()"
   ]
  },
  {
   "cell_type": "code",
   "execution_count": 13,
   "id": "8e60e429",
   "metadata": {
    "execution": {
     "iopub.execute_input": "2025-02-22T08:40:57.985440Z",
     "iopub.status.busy": "2025-02-22T08:40:57.985025Z",
     "iopub.status.idle": "2025-02-22T08:40:58.001434Z",
     "shell.execute_reply": "2025-02-22T08:40:58.000440Z"
    },
    "papermill": {
     "duration": 0.023984,
     "end_time": "2025-02-22T08:40:58.002985",
     "exception": false,
     "start_time": "2025-02-22T08:40:57.979001",
     "status": "completed"
    },
    "tags": []
   },
   "outputs": [
    {
     "name": "stdout",
     "output_type": "stream",
     "text": [
      "*                 * \n",
      "* *             * * \n",
      "* * *         * * * \n",
      "* * * *     * * * * \n",
      "* * * * * * * * * * \n",
      "* * * * * * * * * * \n",
      "* * * *     * * * * \n",
      "* * *         * * * \n",
      "* *             * * \n",
      "*                 * \n"
     ]
    }
   ],
   "source": [
    "# 10. Butterfly Star Pattern\n",
    "n = 6\n",
    "for i in range(1,n):\n",
    "    for j in range(i):\n",
    "        print('* ',end='')\n",
    "    for k in range(2,2*(n-i)):\n",
    "        print('  ',end='')\n",
    "    for l in range(i):\n",
    "        print('* ',end='')\n",
    "    print()\n",
    "for i in range(n-1,0,-1):\n",
    "    for j in range(i):\n",
    "        print('* ',end='')\n",
    "    for k in range(2,2*(n-i)):\n",
    "        print('  ',end='')\n",
    "    for l in range(i):\n",
    "        print('* ',end='')\n",
    "    print()"
   ]
  },
  {
   "cell_type": "code",
   "execution_count": 14,
   "id": "a92b4d1e",
   "metadata": {
    "execution": {
     "iopub.execute_input": "2025-02-22T08:40:58.014198Z",
     "iopub.status.busy": "2025-02-22T08:40:58.013914Z",
     "iopub.status.idle": "2025-02-22T08:40:58.020709Z",
     "shell.execute_reply": "2025-02-22T08:40:58.019379Z"
    },
    "papermill": {
     "duration": 0.013881,
     "end_time": "2025-02-22T08:40:58.022361",
     "exception": false,
     "start_time": "2025-02-22T08:40:58.008480",
     "status": "completed"
    },
    "tags": []
   },
   "outputs": [
    {
     "name": "stdout",
     "output_type": "stream",
     "text": [
      "* * * * * \n",
      "* * * * * \n",
      "* * * * * \n",
      "* * * * * \n",
      "* * * * * \n"
     ]
    }
   ],
   "source": [
    "# 11. Square Fill Pattern\n",
    "n = 6\n",
    "for i in range(1,n):\n",
    "    for j in range(1,n):\n",
    "        print('* ',end='')\n",
    "    print()"
   ]
  },
  {
   "cell_type": "code",
   "execution_count": 15,
   "id": "8a630fc1",
   "metadata": {
    "execution": {
     "iopub.execute_input": "2025-02-22T08:40:58.033856Z",
     "iopub.status.busy": "2025-02-22T08:40:58.033551Z",
     "iopub.status.idle": "2025-02-22T08:40:58.040050Z",
     "shell.execute_reply": "2025-02-22T08:40:58.039023Z"
    },
    "papermill": {
     "duration": 0.013223,
     "end_time": "2025-02-22T08:40:58.041213",
     "exception": false,
     "start_time": "2025-02-22T08:40:58.027990",
     "status": "completed"
    },
    "tags": []
   },
   "outputs": [
    {
     "name": "stdout",
     "output_type": "stream",
     "text": [
      "* \n",
      "* * \n",
      "* * * \n",
      "* * * * \n",
      "* * * * * \n"
     ]
    }
   ],
   "source": [
    "# 12. Right Half Pyramid Pattern\n",
    "n = 6\n",
    "for i in range(1,n):\n",
    "    for j in range(i):\n",
    "        print('* ',end='')\n",
    "    print()"
   ]
  },
  {
   "cell_type": "code",
   "execution_count": 16,
   "id": "e18edf60",
   "metadata": {
    "execution": {
     "iopub.execute_input": "2025-02-22T08:40:58.052405Z",
     "iopub.status.busy": "2025-02-22T08:40:58.052048Z",
     "iopub.status.idle": "2025-02-22T08:40:58.057898Z",
     "shell.execute_reply": "2025-02-22T08:40:58.057006Z"
    },
    "papermill": {
     "duration": 0.012995,
     "end_time": "2025-02-22T08:40:58.059423",
     "exception": false,
     "start_time": "2025-02-22T08:40:58.046428",
     "status": "completed"
    },
    "tags": []
   },
   "outputs": [
    {
     "name": "stdout",
     "output_type": "stream",
     "text": [
      "* * * * * \n",
      "* * * * \n",
      "* * * \n",
      "* * \n",
      "* \n"
     ]
    }
   ],
   "source": [
    "# 13. Reverse Right Half Pyramid Pattern\n",
    "n = 6\n",
    "for i in range(1,n):\n",
    "    for j in range(n-i):\n",
    "        print('* ',end='')\n",
    "    print()"
   ]
  },
  {
   "cell_type": "code",
   "execution_count": 17,
   "id": "10716bd1",
   "metadata": {
    "execution": {
     "iopub.execute_input": "2025-02-22T08:40:58.071013Z",
     "iopub.status.busy": "2025-02-22T08:40:58.070712Z",
     "iopub.status.idle": "2025-02-22T08:40:58.078862Z",
     "shell.execute_reply": "2025-02-22T08:40:58.077830Z"
    },
    "papermill": {
     "duration": 0.015365,
     "end_time": "2025-02-22T08:40:58.080190",
     "exception": false,
     "start_time": "2025-02-22T08:40:58.064825",
     "status": "completed"
    },
    "tags": []
   },
   "outputs": [
    {
     "name": "stdout",
     "output_type": "stream",
     "text": [
      "          * \n",
      "        * * \n",
      "      * * * \n",
      "    * * * * \n",
      "  * * * * * \n"
     ]
    }
   ],
   "source": [
    "# 14. Left Half Pyramid Pattern\n",
    "n = 6\n",
    "for i in range(1,n):\n",
    "    for k in range(n-i):\n",
    "        print('  ',end='')\n",
    "    for j in range(i):\n",
    "        print('* ',end='')\n",
    "    print()"
   ]
  },
  {
   "cell_type": "code",
   "execution_count": 18,
   "id": "d8640b93",
   "metadata": {
    "execution": {
     "iopub.execute_input": "2025-02-22T08:40:58.091695Z",
     "iopub.status.busy": "2025-02-22T08:40:58.091377Z",
     "iopub.status.idle": "2025-02-22T08:40:58.101956Z",
     "shell.execute_reply": "2025-02-22T08:40:58.100785Z"
    },
    "papermill": {
     "duration": 0.017618,
     "end_time": "2025-02-22T08:40:58.103269",
     "exception": false,
     "start_time": "2025-02-22T08:40:58.085651",
     "status": "completed"
    },
    "tags": []
   },
   "outputs": [
    {
     "name": "stdout",
     "output_type": "stream",
     "text": [
      "  * * * * * \n",
      "    * * * * \n",
      "      * * * \n",
      "        * * \n",
      "          * \n"
     ]
    }
   ],
   "source": [
    "# 15. Reverse Left Half Pyramid Pattern\n",
    "n = 6\n",
    "for i in range(1,n):\n",
    "    for k in range(i):\n",
    "        print('  ',end='')\n",
    "    for j in range(n-i):\n",
    "        print('* ',end='')\n",
    "    print()"
   ]
  },
  {
   "cell_type": "code",
   "execution_count": 19,
   "id": "9b881662",
   "metadata": {
    "execution": {
     "iopub.execute_input": "2025-02-22T08:40:58.114351Z",
     "iopub.status.busy": "2025-02-22T08:40:58.114060Z",
     "iopub.status.idle": "2025-02-22T08:40:58.123487Z",
     "shell.execute_reply": "2025-02-22T08:40:58.122355Z"
    },
    "papermill": {
     "duration": 0.016418,
     "end_time": "2025-02-22T08:40:58.125036",
     "exception": false,
     "start_time": "2025-02-22T08:40:58.108618",
     "status": "completed"
    },
    "tags": []
   },
   "outputs": [
    {
     "name": "stdout",
     "output_type": "stream",
     "text": [
      "     * \n",
      "    * * \n",
      "   * * * \n",
      "  * * * * \n",
      " * * * * * \n"
     ]
    }
   ],
   "source": [
    "# 16. Triangle Star Pattern\n",
    "n = 6\n",
    "for i in range(1,n):\n",
    "    for k in range(n-i):\n",
    "        print(' ',end='')\n",
    "    for j in range(i):\n",
    "        print('* ',end='')\n",
    "    print()"
   ]
  },
  {
   "cell_type": "code",
   "execution_count": 20,
   "id": "defa822c",
   "metadata": {
    "execution": {
     "iopub.execute_input": "2025-02-22T08:40:58.136581Z",
     "iopub.status.busy": "2025-02-22T08:40:58.136180Z",
     "iopub.status.idle": "2025-02-22T08:40:58.146699Z",
     "shell.execute_reply": "2025-02-22T08:40:58.145793Z"
    },
    "papermill": {
     "duration": 0.018157,
     "end_time": "2025-02-22T08:40:58.148627",
     "exception": false,
     "start_time": "2025-02-22T08:40:58.130470",
     "status": "completed"
    },
    "tags": []
   },
   "outputs": [
    {
     "name": "stdout",
     "output_type": "stream",
     "text": [
      " 1 2 3 4 5 \n",
      "  2 3 4 5 \n",
      "   3 4 5 \n",
      "    4 5 \n",
      "     5 \n"
     ]
    }
   ],
   "source": [
    "# 17. Reverse number Triangle Pattern\n",
    "n = 6\n",
    "for i in range(1,n):\n",
    "    for k in range(i):\n",
    "        print(' ',end='')\n",
    "    for j in range(i,n):\n",
    "        print(j,'',end='')\n",
    "    print()"
   ]
  },
  {
   "cell_type": "code",
   "execution_count": 21,
   "id": "e567f01d",
   "metadata": {
    "execution": {
     "iopub.execute_input": "2025-02-22T08:40:58.160922Z",
     "iopub.status.busy": "2025-02-22T08:40:58.160629Z",
     "iopub.status.idle": "2025-02-22T08:40:58.174997Z",
     "shell.execute_reply": "2025-02-22T08:40:58.174303Z"
    },
    "papermill": {
     "duration": 0.021742,
     "end_time": "2025-02-22T08:40:58.176468",
     "exception": false,
     "start_time": "2025-02-22T08:40:58.154726",
     "status": "completed"
    },
    "tags": []
   },
   "outputs": [
    {
     "name": "stdout",
     "output_type": "stream",
     "text": [
      " 1 2 3 4 5 \n",
      "  2 3 4 5 \n",
      "   3 4 5 \n",
      "    4 5 \n",
      "     5 \n",
      "    4 5 \n",
      "   3 4 5 \n",
      "  2 3 4 5 \n",
      " 1 2 3 4 5 \n"
     ]
    }
   ],
   "source": [
    "# 18. Mirror Image Triangle Pattern\n",
    "n = 6\n",
    "for i in range(1,n):\n",
    "    for k in range(i):\n",
    "        print(' ',end='')\n",
    "    for j in range(i,n):\n",
    "        print(j,'',end='')\n",
    "    print()\n",
    "for i in range(2,n):\n",
    "    for k in range(n-i):\n",
    "        print(' ',end='')\n",
    "    for j in range(i):\n",
    "        print(n-i+j,'',end='')\n",
    "    print()"
   ]
  },
  {
   "cell_type": "code",
   "execution_count": 22,
   "id": "e7d3e5b8",
   "metadata": {
    "execution": {
     "iopub.execute_input": "2025-02-22T08:40:58.188553Z",
     "iopub.status.busy": "2025-02-22T08:40:58.188268Z",
     "iopub.status.idle": "2025-02-22T08:40:58.197094Z",
     "shell.execute_reply": "2025-02-22T08:40:58.196345Z"
    },
    "papermill": {
     "duration": 0.016116,
     "end_time": "2025-02-22T08:40:58.198351",
     "exception": false,
     "start_time": "2025-02-22T08:40:58.182235",
     "status": "completed"
    },
    "tags": []
   },
   "outputs": [
    {
     "name": "stdout",
     "output_type": "stream",
     "text": [
      "     * \n",
      "    * * \n",
      "   *   * \n",
      "  *     * \n",
      " * * * * * \n"
     ]
    }
   ],
   "source": [
    "# 19. Hollow Triangle Pattern\n",
    "n = 6\n",
    "for i in range(1,n):\n",
    "    for k in range(n-i):\n",
    "        print(' ',end='')\n",
    "    for j in range(1,i+1):\n",
    "        if(i==1 or j==1 or i==n-1 or j==i):\n",
    "            print('* ',end='')\n",
    "        else:\n",
    "            print('  ',end='')\n",
    "    print()"
   ]
  },
  {
   "cell_type": "code",
   "execution_count": 23,
   "id": "6edda4b1",
   "metadata": {
    "execution": {
     "iopub.execute_input": "2025-02-22T08:40:58.210391Z",
     "iopub.status.busy": "2025-02-22T08:40:58.210118Z",
     "iopub.status.idle": "2025-02-22T08:40:58.219530Z",
     "shell.execute_reply": "2025-02-22T08:40:58.218477Z"
    },
    "papermill": {
     "duration": 0.016678,
     "end_time": "2025-02-22T08:40:58.220813",
     "exception": false,
     "start_time": "2025-02-22T08:40:58.204135",
     "status": "completed"
    },
    "tags": []
   },
   "outputs": [
    {
     "name": "stdout",
     "output_type": "stream",
     "text": [
      " * * * * * \n",
      "  *     * \n",
      "   *   * \n",
      "    * * \n",
      "     * \n"
     ]
    }
   ],
   "source": [
    "# 20. Hollow Reverse Triangle Pattern\n",
    "n = 6\n",
    "for i in range(1,n):\n",
    "    for k in range(1,i+1):\n",
    "        print(' ',end='')\n",
    "    for j in range(1,n-i+1):\n",
    "        if(i==1 or j==1 or j==n-i):\n",
    "            print('* ',end='')\n",
    "        else:\n",
    "            print('  ',end='')\n",
    "    print()"
   ]
  },
  {
   "cell_type": "code",
   "execution_count": 24,
   "id": "21b6f749",
   "metadata": {
    "execution": {
     "iopub.execute_input": "2025-02-22T08:40:58.233222Z",
     "iopub.status.busy": "2025-02-22T08:40:58.232911Z",
     "iopub.status.idle": "2025-02-22T08:40:58.245734Z",
     "shell.execute_reply": "2025-02-22T08:40:58.244779Z"
    },
    "papermill": {
     "duration": 0.020481,
     "end_time": "2025-02-22T08:40:58.247127",
     "exception": false,
     "start_time": "2025-02-22T08:40:58.226646",
     "status": "completed"
    },
    "tags": []
   },
   "outputs": [
    {
     "name": "stdout",
     "output_type": "stream",
     "text": [
      "     * \n",
      "    * * \n",
      "   *   * \n",
      "  *     * \n",
      " *       * \n",
      "  *     * \n",
      "   *   * \n",
      "    * * \n",
      "     * \n"
     ]
    }
   ],
   "source": [
    "# 21. Hollow Diamond Pyramid\n",
    "n = 6\n",
    "for i in range(1,n):\n",
    "    for k in range(n-i):\n",
    "        print(' ',end='')\n",
    "    for j in range(1,i+1):\n",
    "        if(i==1 or j==1 or j==i):\n",
    "            print('* ',end='')\n",
    "        else:\n",
    "            print('  ',end='')\n",
    "    print()\n",
    "for i in range(2,n):\n",
    "    for k in range(1,i+1):\n",
    "        print(' ',end='')\n",
    "    for j in range(1,n-i+1):\n",
    "        if(i==1 or j==1 or j==n-i):\n",
    "            print('* ',end='')\n",
    "        else:\n",
    "            print('  ',end='')\n",
    "    print()"
   ]
  },
  {
   "cell_type": "code",
   "execution_count": 25,
   "id": "ce8c812e",
   "metadata": {
    "execution": {
     "iopub.execute_input": "2025-02-22T08:40:58.260057Z",
     "iopub.status.busy": "2025-02-22T08:40:58.259774Z",
     "iopub.status.idle": "2025-02-22T08:40:58.272712Z",
     "shell.execute_reply": "2025-02-22T08:40:58.271320Z"
    },
    "papermill": {
     "duration": 0.021454,
     "end_time": "2025-02-22T08:40:58.274570",
     "exception": false,
     "start_time": "2025-02-22T08:40:58.253116",
     "status": "completed"
    },
    "tags": []
   },
   "outputs": [
    {
     "name": "stdout",
     "output_type": "stream",
     "text": [
      " * * * * * \n",
      "  *     * \n",
      "   *   * \n",
      "    * * \n",
      "     * \n",
      "    * * \n",
      "   *   * \n",
      "  *     * \n",
      " * * * * * \n"
     ]
    }
   ],
   "source": [
    "# 22. Hollow Hourglass Pattern\n",
    "n = 6\n",
    "for i in range(1,n):\n",
    "    for k in range(i):\n",
    "        print(' ',end='')\n",
    "    for j in range(1,n-i+1):\n",
    "        if(i==1 or i==n-1 or j==1 or j==n-i):\n",
    "            print('* ',end='')\n",
    "        else:\n",
    "            print('  ',end='')\n",
    "    print()\n",
    "for i in range(2,n):\n",
    "    for k in range(n-i):\n",
    "        print(' ',end='')\n",
    "    for j in range(1,i+1):\n",
    "        if(i==1 or i==n-1 or j==1 or j==i):\n",
    "            print('* ',end='')\n",
    "        else:\n",
    "            print('  ',end='')\n",
    "    print()"
   ]
  },
  {
   "cell_type": "code",
   "execution_count": 26,
   "id": "d22184c6",
   "metadata": {
    "execution": {
     "iopub.execute_input": "2025-02-22T08:40:58.287206Z",
     "iopub.status.busy": "2025-02-22T08:40:58.286836Z",
     "iopub.status.idle": "2025-02-22T08:40:58.299746Z",
     "shell.execute_reply": "2025-02-22T08:40:58.298900Z"
    },
    "papermill": {
     "duration": 0.020494,
     "end_time": "2025-02-22T08:40:58.301061",
     "exception": false,
     "start_time": "2025-02-22T08:40:58.280567",
     "status": "completed"
    },
    "tags": []
   },
   "outputs": [
    {
     "name": "stdout",
     "output_type": "stream",
     "text": [
      "     1 \n",
      "    1 1 \n",
      "   1 2 1 \n",
      "  1 3 3 1 \n",
      " 1 4 6 4 1 \n"
     ]
    }
   ],
   "source": [
    "# 23. Pascal’s Triangle\n",
    "n = 6\n",
    "for i in range(1,n):\n",
    "    for k in range(n-i):\n",
    "        print(' ',end='')\n",
    "    val = 1\n",
    "    for j in range(1,i+1):\n",
    "        print(int(val),'',end='')\n",
    "        val = val * (i - j) / j\n",
    "    print()"
   ]
  },
  {
   "cell_type": "code",
   "execution_count": 27,
   "id": "c46609f7",
   "metadata": {
    "execution": {
     "iopub.execute_input": "2025-02-22T08:40:58.315416Z",
     "iopub.status.busy": "2025-02-22T08:40:58.315103Z",
     "iopub.status.idle": "2025-02-22T08:40:58.323413Z",
     "shell.execute_reply": "2025-02-22T08:40:58.321926Z"
    },
    "papermill": {
     "duration": 0.017602,
     "end_time": "2025-02-22T08:40:58.325012",
     "exception": false,
     "start_time": "2025-02-22T08:40:58.307410",
     "status": "completed"
    },
    "tags": []
   },
   "outputs": [
    {
     "name": "stdout",
     "output_type": "stream",
     "text": [
      "* \n",
      "* * \n",
      "* * * \n",
      "* * * * \n",
      "* * * * * \n",
      "* * * * \n",
      "* * * \n",
      "* * \n",
      "* \n"
     ]
    }
   ],
   "source": [
    "# 24. Right Pascal’s Triangle\n",
    "n = 6\n",
    "for i in range(1,n):\n",
    "    for j in range(i):\n",
    "        print('* ',end='')\n",
    "    print()\n",
    "for i in range(2,n):\n",
    "    for j in range(n-i):\n",
    "        print('* ',end='')\n",
    "    print()"
   ]
  },
  {
   "cell_type": "code",
   "execution_count": 28,
   "id": "8174e478",
   "metadata": {
    "execution": {
     "iopub.execute_input": "2025-02-22T08:40:58.338083Z",
     "iopub.status.busy": "2025-02-22T08:40:58.337788Z",
     "iopub.status.idle": "2025-02-22T08:40:58.349348Z",
     "shell.execute_reply": "2025-02-22T08:40:58.348125Z"
    },
    "papermill": {
     "duration": 0.019933,
     "end_time": "2025-02-22T08:40:58.351131",
     "exception": false,
     "start_time": "2025-02-22T08:40:58.331198",
     "status": "completed"
    },
    "tags": []
   },
   "outputs": [
    {
     "name": "stdout",
     "output_type": "stream",
     "text": [
      "A \n",
      "A B A \n",
      "A B C B A \n",
      "A B C D C B A \n",
      "A B C D E D C B A \n"
     ]
    }
   ],
   "source": [
    "n = 6\n",
    "for i in range(1,n):\n",
    "    for j in range(1,i+1):\n",
    "        print(chr(64+j),'',end='')\n",
    "    for k in range(i-1,0,-1):\n",
    "        print(chr(64+k),'',end='')\n",
    "    print()"
   ]
  },
  {
   "cell_type": "code",
   "execution_count": 29,
   "id": "5f2f8513",
   "metadata": {
    "execution": {
     "iopub.execute_input": "2025-02-22T08:40:58.363750Z",
     "iopub.status.busy": "2025-02-22T08:40:58.363450Z",
     "iopub.status.idle": "2025-02-22T08:40:58.373416Z",
     "shell.execute_reply": "2025-02-22T08:40:58.372573Z"
    },
    "papermill": {
     "duration": 0.017709,
     "end_time": "2025-02-22T08:40:58.374780",
     "exception": false,
     "start_time": "2025-02-22T08:40:58.357071",
     "status": "completed"
    },
    "tags": []
   },
   "outputs": [
    {
     "name": "stdout",
     "output_type": "stream",
     "text": [
      "1 \n",
      "1 2 1 \n",
      "1 2 3 2 1 \n",
      "1 2 3 4 3 2 1 \n",
      "1 2 3 4 5 4 3 2 1 \n"
     ]
    }
   ],
   "source": [
    "n = 6\n",
    "for i in range(1,n):\n",
    "    for j in range(1,i+1):\n",
    "        print(j,'',end='')\n",
    "    for k in range(i-1,0,-1):\n",
    "        print(k,'',end='')\n",
    "    print()"
   ]
  }
 ],
 "metadata": {
  "kaggle": {
   "accelerator": "none",
   "dataSources": [],
   "dockerImageVersionId": 30918,
   "isGpuEnabled": false,
   "isInternetEnabled": false,
   "language": "python",
   "sourceType": "notebook"
  },
  "kernelspec": {
   "display_name": "Python 3",
   "language": "python",
   "name": "python3"
  },
  "language_info": {
   "codemirror_mode": {
    "name": "ipython",
    "version": 3
   },
   "file_extension": ".py",
   "mimetype": "text/x-python",
   "name": "python",
   "nbconvert_exporter": "python",
   "pygments_lexer": "ipython3",
   "version": "3.10.12"
  },
  "papermill": {
   "default_parameters": {},
   "duration": 3.345184,
   "end_time": "2025-02-22T08:40:58.799528",
   "environment_variables": {},
   "exception": null,
   "input_path": "__notebook__.ipynb",
   "output_path": "__notebook__.ipynb",
   "parameters": {},
   "start_time": "2025-02-22T08:40:55.454344",
   "version": "2.6.0"
  }
 },
 "nbformat": 4,
 "nbformat_minor": 5
}
