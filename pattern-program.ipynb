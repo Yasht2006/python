{
 "cells": [
  {
   "cell_type": "markdown",
   "id": "a6878932",
   "metadata": {
    "papermill": {
     "duration": 0.003121,
     "end_time": "2025-02-21T07:30:32.647773",
     "exception": false,
     "start_time": "2025-02-21T07:30:32.644652",
     "status": "completed"
    },
    "tags": []
   },
   "source": [
    "# Pattern Program"
   ]
  },
  {
   "cell_type": "code",
   "execution_count": 1,
   "id": "6ede8574",
   "metadata": {
    "execution": {
     "iopub.execute_input": "2025-02-21T07:30:32.654618Z",
     "iopub.status.busy": "2025-02-21T07:30:32.654250Z",
     "iopub.status.idle": "2025-02-21T07:30:32.665544Z",
     "shell.execute_reply": "2025-02-21T07:30:32.664222Z"
    },
    "papermill": {
     "duration": 0.016455,
     "end_time": "2025-02-21T07:30:32.667171",
     "exception": false,
     "start_time": "2025-02-21T07:30:32.650716",
     "status": "completed"
    },
    "tags": []
   },
   "outputs": [
    {
     "name": "stdout",
     "output_type": "stream",
     "text": [
      "* * * * * \n",
      "*       * \n",
      "*       * \n",
      "*       * \n",
      "* * * * * \n"
     ]
    }
   ],
   "source": [
    "# 1. Square Hollow Pattern\n",
    "n = 6\n",
    "for i in range(1,n):\n",
    "    for j in range(1,n):\n",
    "        if(i==1 or j==1 or j==n-1 or i==n-1):\n",
    "            print('* ',end='')\n",
    "        else:\n",
    "            print('  ',end='')\n",
    "    print()"
   ]
  },
  {
   "cell_type": "code",
   "execution_count": 2,
   "id": "e767420d",
   "metadata": {
    "execution": {
     "iopub.execute_input": "2025-02-21T07:30:32.674228Z",
     "iopub.status.busy": "2025-02-21T07:30:32.673857Z",
     "iopub.status.idle": "2025-02-21T07:30:32.688530Z",
     "shell.execute_reply": "2025-02-21T07:30:32.687379Z"
    },
    "papermill": {
     "duration": 0.020132,
     "end_time": "2025-02-21T07:30:32.690290",
     "exception": false,
     "start_time": "2025-02-21T07:30:32.670158",
     "status": "completed"
    },
    "tags": []
   },
   "outputs": [
    {
     "name": "stdout",
     "output_type": "stream",
     "text": [
      "    1 \n",
      "   1 2 \n",
      "  1 2 3 \n",
      " 1 2 3 4 \n",
      "1 2 3 4 5 \n"
     ]
    }
   ],
   "source": [
    "# 2. Number triangle Pattern\n",
    "n = 6\n",
    "for i in range(1,n):\n",
    "    for k in range(1,n-i):\n",
    "        print(' ',end='')\n",
    "    for j in range(i):\n",
    "        print(j+1,'',end='')\n",
    "    print()"
   ]
  },
  {
   "cell_type": "code",
   "execution_count": 3,
   "id": "6a171f65",
   "metadata": {
    "execution": {
     "iopub.execute_input": "2025-02-21T07:30:32.697311Z",
     "iopub.status.busy": "2025-02-21T07:30:32.696955Z",
     "iopub.status.idle": "2025-02-21T07:30:32.712221Z",
     "shell.execute_reply": "2025-02-21T07:30:32.711111Z"
    },
    "papermill": {
     "duration": 0.020747,
     "end_time": "2025-02-21T07:30:32.714014",
     "exception": false,
     "start_time": "2025-02-21T07:30:32.693267",
     "status": "completed"
    },
    "tags": []
   },
   "outputs": [
    {
     "name": "stdout",
     "output_type": "stream",
     "text": [
      "    1 \n",
      "   2 2 \n",
      "  3 3 3 \n",
      " 4 4 4 4 \n",
      "5 5 5 5 5 \n"
     ]
    }
   ],
   "source": [
    "# 2. Number triangle Pattern\n",
    "n = 6\n",
    "for i in range(1,n):\n",
    "    for k in range(1,n-i):\n",
    "        print(' ',end='')\n",
    "    for j in range(i):\n",
    "        print(i,'',end='')\n",
    "    print()"
   ]
  },
  {
   "cell_type": "code",
   "execution_count": 4,
   "id": "00b9c24e",
   "metadata": {
    "execution": {
     "iopub.execute_input": "2025-02-21T07:30:32.720980Z",
     "iopub.status.busy": "2025-02-21T07:30:32.720579Z",
     "iopub.status.idle": "2025-02-21T07:30:32.732481Z",
     "shell.execute_reply": "2025-02-21T07:30:32.731410Z"
    },
    "papermill": {
     "duration": 0.017438,
     "end_time": "2025-02-21T07:30:32.734407",
     "exception": false,
     "start_time": "2025-02-21T07:30:32.716969",
     "status": "completed"
    },
    "tags": []
   },
   "outputs": [
    {
     "name": "stdout",
     "output_type": "stream",
     "text": [
      "1 \n",
      "1 2 \n",
      "1 2 3 \n",
      "1 2 3 4 \n",
      "1 2 3 4 5 \n"
     ]
    }
   ],
   "source": [
    "# 3. Number-increasing Pyramid Pattern \n",
    "n = 6\n",
    "for i in range(1,n):\n",
    "    for j in range(1,i+1):\n",
    "        print(j,'',end='')\n",
    "    print()"
   ]
  },
  {
   "cell_type": "code",
   "execution_count": 5,
   "id": "5d80af6f",
   "metadata": {
    "execution": {
     "iopub.execute_input": "2025-02-21T07:30:32.741537Z",
     "iopub.status.busy": "2025-02-21T07:30:32.741166Z",
     "iopub.status.idle": "2025-02-21T07:30:32.751707Z",
     "shell.execute_reply": "2025-02-21T07:30:32.750477Z"
    },
    "papermill": {
     "duration": 0.015974,
     "end_time": "2025-02-21T07:30:32.753424",
     "exception": false,
     "start_time": "2025-02-21T07:30:32.737450",
     "status": "completed"
    },
    "tags": []
   },
   "outputs": [
    {
     "name": "stdout",
     "output_type": "stream",
     "text": [
      "1 2 3 4 5 \n",
      "1 2 3 4 \n",
      "1 2 3 \n",
      "1 2 \n",
      "1 \n"
     ]
    }
   ],
   "source": [
    "# 4. Number-increasing Reverse Pyramid Pattern \n",
    "n = 6\n",
    "for i in range(n,1,-1):\n",
    "    for j in range(1,i):\n",
    "        print(j,'',end='')\n",
    "    print()"
   ]
  },
  {
   "cell_type": "code",
   "execution_count": 6,
   "id": "dd1dd93f",
   "metadata": {
    "execution": {
     "iopub.execute_input": "2025-02-21T07:30:32.760514Z",
     "iopub.status.busy": "2025-02-21T07:30:32.760132Z",
     "iopub.status.idle": "2025-02-21T07:30:32.773280Z",
     "shell.execute_reply": "2025-02-21T07:30:32.772216Z"
    },
    "papermill": {
     "duration": 0.018525,
     "end_time": "2025-02-21T07:30:32.775030",
     "exception": false,
     "start_time": "2025-02-21T07:30:32.756505",
     "status": "completed"
    },
    "tags": []
   },
   "outputs": [
    {
     "name": "stdout",
     "output_type": "stream",
     "text": [
      "1 \n",
      "2 3 \n",
      "4 5 6 \n",
      "7 8 9 10 \n",
      "11 12 13 14 15 \n"
     ]
    }
   ],
   "source": [
    "# 5. Number-changing Pyramid Pattern \n",
    "n = 6\n",
    "start = 1;\n",
    "for i in range(1,n):\n",
    "    for j in range(1,i+1):\n",
    "        print(start,'',end='')\n",
    "        start += 1\n",
    "    print()"
   ]
  },
  {
   "cell_type": "code",
   "execution_count": 7,
   "id": "577d2125",
   "metadata": {
    "execution": {
     "iopub.execute_input": "2025-02-21T07:30:32.781925Z",
     "iopub.status.busy": "2025-02-21T07:30:32.781605Z",
     "iopub.status.idle": "2025-02-21T07:30:32.789917Z",
     "shell.execute_reply": "2025-02-21T07:30:32.788742Z"
    },
    "papermill": {
     "duration": 0.013344,
     "end_time": "2025-02-21T07:30:32.791448",
     "exception": false,
     "start_time": "2025-02-21T07:30:32.778104",
     "status": "completed"
    },
    "tags": []
   },
   "outputs": [
    {
     "name": "stdout",
     "output_type": "stream",
     "text": [
      "0 \n",
      "1 0 \n",
      "0 1 0 \n",
      "1 0 1 0 \n"
     ]
    }
   ],
   "source": [
    "# 6. Zero-One Triangle Pattern\n",
    "n = 5\n",
    "o = 0\n",
    "e = 1\n",
    "for i in range(1,n):\n",
    "    for j in range(1,i+1):\n",
    "        if (i+j)%2==0:\n",
    "            print(o,'',end='')\n",
    "        else:\n",
    "            print(e,'',end='')\n",
    "    print()"
   ]
  },
  {
   "cell_type": "code",
   "execution_count": 8,
   "id": "f6f1ba79",
   "metadata": {
    "execution": {
     "iopub.execute_input": "2025-02-21T07:30:32.798793Z",
     "iopub.status.busy": "2025-02-21T07:30:32.798432Z",
     "iopub.status.idle": "2025-02-21T07:30:32.809717Z",
     "shell.execute_reply": "2025-02-21T07:30:32.808608Z"
    },
    "papermill": {
     "duration": 0.016651,
     "end_time": "2025-02-21T07:30:32.811207",
     "exception": false,
     "start_time": "2025-02-21T07:30:32.794556",
     "status": "completed"
    },
    "tags": []
   },
   "outputs": [
    {
     "name": "stdout",
     "output_type": "stream",
     "text": [
      "        1 \n",
      "      2 1 2 \n",
      "    3 2 1 2 3 \n",
      "  4 3 2 1 2 3 4 \n"
     ]
    }
   ],
   "source": [
    "# 7. Palindrome Triangle Pattern\n",
    "n = 5\n",
    "for i in range(1,n):\n",
    "    for k in range(n-i):\n",
    "        print('  ',end='')\n",
    "    for j in range(i,0,-1):\n",
    "        print(j,'',end='')\n",
    "    for l in range(1,i):\n",
    "        print(l+1,'',end='')\n",
    "    print()"
   ]
  }
 ],
 "metadata": {
  "kaggle": {
   "accelerator": "none",
   "dataSources": [],
   "dockerImageVersionId": 30918,
   "isGpuEnabled": false,
   "isInternetEnabled": false,
   "language": "python",
   "sourceType": "notebook"
  },
  "kernelspec": {
   "display_name": "Python 3",
   "language": "python",
   "name": "python3"
  },
  "language_info": {
   "codemirror_mode": {
    "name": "ipython",
    "version": 3
   },
   "file_extension": ".py",
   "mimetype": "text/x-python",
   "name": "python",
   "nbconvert_exporter": "python",
   "pygments_lexer": "ipython3",
   "version": "3.10.12"
  },
  "papermill": {
   "default_parameters": {},
   "duration": 3.385103,
   "end_time": "2025-02-21T07:30:33.232851",
   "environment_variables": {},
   "exception": null,
   "input_path": "__notebook__.ipynb",
   "output_path": "__notebook__.ipynb",
   "parameters": {},
   "start_time": "2025-02-21T07:30:29.847748",
   "version": "2.6.0"
  }
 },
 "nbformat": 4,
 "nbformat_minor": 5
}
