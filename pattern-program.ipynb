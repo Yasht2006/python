{
 "cells": [
  {
   "cell_type": "markdown",
   "id": "ed8f26b1",
   "metadata": {
    "papermill": {
     "duration": 0.007782,
     "end_time": "2025-02-23T07:34:55.495890",
     "exception": false,
     "start_time": "2025-02-23T07:34:55.488108",
     "status": "completed"
    },
    "tags": []
   },
   "source": [
    "# Pattern Program"
   ]
  },
  {
   "cell_type": "code",
   "execution_count": 1,
   "id": "aec61035",
   "metadata": {
    "execution": {
     "iopub.execute_input": "2025-02-23T07:34:55.512213Z",
     "iopub.status.busy": "2025-02-23T07:34:55.511687Z",
     "iopub.status.idle": "2025-02-23T07:34:55.524503Z",
     "shell.execute_reply": "2025-02-23T07:34:55.523214Z"
    },
    "papermill": {
     "duration": 0.02286,
     "end_time": "2025-02-23T07:34:55.526239",
     "exception": false,
     "start_time": "2025-02-23T07:34:55.503379",
     "status": "completed"
    },
    "tags": []
   },
   "outputs": [
    {
     "name": "stdout",
     "output_type": "stream",
     "text": [
      "* * * * * \n",
      "*       * \n",
      "*       * \n",
      "*       * \n",
      "* * * * * \n"
     ]
    }
   ],
   "source": [
    "# 1. Square Hollow Pattern\n",
    "n = 6\n",
    "for i in range(1,n):\n",
    "    for j in range(1,n):\n",
    "        if(i==1 or j==1 or j==n-1 or i==n-1):\n",
    "            print('* ',end='')\n",
    "        else:\n",
    "            print('  ',end='')\n",
    "    print()"
   ]
  },
  {
   "cell_type": "code",
   "execution_count": 2,
   "id": "0073abfa",
   "metadata": {
    "execution": {
     "iopub.execute_input": "2025-02-23T07:34:55.542239Z",
     "iopub.status.busy": "2025-02-23T07:34:55.541851Z",
     "iopub.status.idle": "2025-02-23T07:34:55.551169Z",
     "shell.execute_reply": "2025-02-23T07:34:55.548960Z"
    },
    "papermill": {
     "duration": 0.019415,
     "end_time": "2025-02-23T07:34:55.553127",
     "exception": false,
     "start_time": "2025-02-23T07:34:55.533712",
     "status": "completed"
    },
    "tags": []
   },
   "outputs": [
    {
     "name": "stdout",
     "output_type": "stream",
     "text": [
      "    1 \n",
      "   1 2 \n",
      "  1 2 3 \n",
      " 1 2 3 4 \n",
      "1 2 3 4 5 \n"
     ]
    }
   ],
   "source": [
    "# 2. Number triangle Pattern\n",
    "n = 6\n",
    "for i in range(1,n):\n",
    "    for k in range(1,n-i):\n",
    "        print(' ',end='')\n",
    "    for j in range(i):\n",
    "        print(j+1,'',end='')\n",
    "    print()"
   ]
  },
  {
   "cell_type": "code",
   "execution_count": 3,
   "id": "dae4244b",
   "metadata": {
    "execution": {
     "iopub.execute_input": "2025-02-23T07:34:55.569574Z",
     "iopub.status.busy": "2025-02-23T07:34:55.569149Z",
     "iopub.status.idle": "2025-02-23T07:34:55.585206Z",
     "shell.execute_reply": "2025-02-23T07:34:55.584050Z"
    },
    "papermill": {
     "duration": 0.026537,
     "end_time": "2025-02-23T07:34:55.587233",
     "exception": false,
     "start_time": "2025-02-23T07:34:55.560696",
     "status": "completed"
    },
    "tags": []
   },
   "outputs": [
    {
     "name": "stdout",
     "output_type": "stream",
     "text": [
      "    1 \n",
      "   2 2 \n",
      "  3 3 3 \n",
      " 4 4 4 4 \n",
      "5 5 5 5 5 \n"
     ]
    }
   ],
   "source": [
    "# 2. Number triangle Pattern\n",
    "n = 6\n",
    "for i in range(1,n):\n",
    "    for k in range(1,n-i):\n",
    "        print(' ',end='')\n",
    "    for j in range(i):\n",
    "        print(i,'',end='')\n",
    "    print()"
   ]
  },
  {
   "cell_type": "code",
   "execution_count": 4,
   "id": "9e3d82e6",
   "metadata": {
    "execution": {
     "iopub.execute_input": "2025-02-23T07:34:55.603502Z",
     "iopub.status.busy": "2025-02-23T07:34:55.603058Z",
     "iopub.status.idle": "2025-02-23T07:34:55.613149Z",
     "shell.execute_reply": "2025-02-23T07:34:55.612082Z"
    },
    "papermill": {
     "duration": 0.02018,
     "end_time": "2025-02-23T07:34:55.615011",
     "exception": false,
     "start_time": "2025-02-23T07:34:55.594831",
     "status": "completed"
    },
    "tags": []
   },
   "outputs": [
    {
     "name": "stdout",
     "output_type": "stream",
     "text": [
      "1 \n",
      "1 2 \n",
      "1 2 3 \n",
      "1 2 3 4 \n",
      "1 2 3 4 5 \n"
     ]
    }
   ],
   "source": [
    "# 3. Number-increasing Pyramid Pattern \n",
    "n = 6\n",
    "for i in range(1,n):\n",
    "    for j in range(1,i+1):\n",
    "        print(j,'',end='')\n",
    "    print()"
   ]
  },
  {
   "cell_type": "code",
   "execution_count": 5,
   "id": "e8da4b8a",
   "metadata": {
    "execution": {
     "iopub.execute_input": "2025-02-23T07:34:55.631317Z",
     "iopub.status.busy": "2025-02-23T07:34:55.630867Z",
     "iopub.status.idle": "2025-02-23T07:34:55.641564Z",
     "shell.execute_reply": "2025-02-23T07:34:55.640265Z"
    },
    "papermill": {
     "duration": 0.020902,
     "end_time": "2025-02-23T07:34:55.643460",
     "exception": false,
     "start_time": "2025-02-23T07:34:55.622558",
     "status": "completed"
    },
    "tags": []
   },
   "outputs": [
    {
     "name": "stdout",
     "output_type": "stream",
     "text": [
      "1 2 3 4 5 \n",
      "1 2 3 4 \n",
      "1 2 3 \n",
      "1 2 \n",
      "1 \n"
     ]
    }
   ],
   "source": [
    "# 4. Number-increasing Reverse Pyramid Pattern \n",
    "n = 6\n",
    "for i in range(n,1,-1):\n",
    "    for j in range(1,i):\n",
    "        print(j,'',end='')\n",
    "    print()"
   ]
  },
  {
   "cell_type": "code",
   "execution_count": 6,
   "id": "1bc2e837",
   "metadata": {
    "execution": {
     "iopub.execute_input": "2025-02-23T07:34:55.661009Z",
     "iopub.status.busy": "2025-02-23T07:34:55.660666Z",
     "iopub.status.idle": "2025-02-23T07:34:55.673119Z",
     "shell.execute_reply": "2025-02-23T07:34:55.671516Z"
    },
    "papermill": {
     "duration": 0.02385,
     "end_time": "2025-02-23T07:34:55.675007",
     "exception": false,
     "start_time": "2025-02-23T07:34:55.651157",
     "status": "completed"
    },
    "tags": []
   },
   "outputs": [
    {
     "name": "stdout",
     "output_type": "stream",
     "text": [
      "1 \n",
      "2 3 \n",
      "4 5 6 \n",
      "7 8 9 10 \n",
      "11 12 13 14 15 \n"
     ]
    }
   ],
   "source": [
    "# 5. Number-changing Pyramid Pattern \n",
    "n = 6\n",
    "start = 1;\n",
    "for i in range(1,n):\n",
    "    for j in range(1,i+1):\n",
    "        print(start,'',end='')\n",
    "        start += 1\n",
    "    print()"
   ]
  },
  {
   "cell_type": "code",
   "execution_count": 7,
   "id": "bf19b5ef",
   "metadata": {
    "execution": {
     "iopub.execute_input": "2025-02-23T07:34:55.692251Z",
     "iopub.status.busy": "2025-02-23T07:34:55.691826Z",
     "iopub.status.idle": "2025-02-23T07:34:55.701977Z",
     "shell.execute_reply": "2025-02-23T07:34:55.700571Z"
    },
    "papermill": {
     "duration": 0.021379,
     "end_time": "2025-02-23T07:34:55.704150",
     "exception": false,
     "start_time": "2025-02-23T07:34:55.682771",
     "status": "completed"
    },
    "tags": []
   },
   "outputs": [
    {
     "name": "stdout",
     "output_type": "stream",
     "text": [
      "0 \n",
      "1 0 \n",
      "0 1 0 \n",
      "1 0 1 0 \n"
     ]
    }
   ],
   "source": [
    "# 6. Zero-One Triangle Pattern\n",
    "n = 5\n",
    "o = 0\n",
    "e = 1\n",
    "for i in range(1,n):\n",
    "    for j in range(1,i+1):\n",
    "        if (i+j)%2==0:\n",
    "            print(o,'',end='')\n",
    "        else:\n",
    "            print(e,'',end='')\n",
    "    print()"
   ]
  },
  {
   "cell_type": "code",
   "execution_count": 8,
   "id": "d7a414fb",
   "metadata": {
    "execution": {
     "iopub.execute_input": "2025-02-23T07:34:55.721203Z",
     "iopub.status.busy": "2025-02-23T07:34:55.720692Z",
     "iopub.status.idle": "2025-02-23T07:34:55.734546Z",
     "shell.execute_reply": "2025-02-23T07:34:55.733172Z"
    },
    "papermill": {
     "duration": 0.024443,
     "end_time": "2025-02-23T07:34:55.736516",
     "exception": false,
     "start_time": "2025-02-23T07:34:55.712073",
     "status": "completed"
    },
    "tags": []
   },
   "outputs": [
    {
     "name": "stdout",
     "output_type": "stream",
     "text": [
      "        1 \n",
      "      2 1 2 \n",
      "    3 2 1 2 3 \n",
      "  4 3 2 1 2 3 4 \n"
     ]
    }
   ],
   "source": [
    "# 7. Palindrome Triangle Pattern\n",
    "n = 5\n",
    "for i in range(1,n):\n",
    "    for k in range(n-i):\n",
    "        print('  ',end='')\n",
    "    for j in range(i,0,-1):\n",
    "        print(j,'',end='')\n",
    "    for l in range(1,i):\n",
    "        print(l+1,'',end='')\n",
    "    print()"
   ]
  },
  {
   "cell_type": "code",
   "execution_count": 9,
   "id": "3939a395",
   "metadata": {
    "execution": {
     "iopub.execute_input": "2025-02-23T07:34:55.753373Z",
     "iopub.status.busy": "2025-02-23T07:34:55.752915Z",
     "iopub.status.idle": "2025-02-23T07:34:55.764336Z",
     "shell.execute_reply": "2025-02-23T07:34:55.762995Z"
    },
    "papermill": {
     "duration": 0.021847,
     "end_time": "2025-02-23T07:34:55.766204",
     "exception": false,
     "start_time": "2025-02-23T07:34:55.744357",
     "status": "completed"
    },
    "tags": []
   },
   "outputs": [
    {
     "name": "stdout",
     "output_type": "stream",
     "text": [
      "    * * * * * \n",
      "   * * * * * \n",
      "  * * * * * \n",
      " * * * * * \n",
      "* * * * * \n"
     ]
    }
   ],
   "source": [
    "# 8. Rhombus Reverse Pattern\n",
    "n = 6\n",
    "for i in range(1,n):\n",
    "    for k in range(1,n-i):\n",
    "        print(' ',end='')\n",
    "    for j in range(1,n):\n",
    "        print('* ',end='')\n",
    "    print()"
   ]
  },
  {
   "cell_type": "code",
   "execution_count": 10,
   "id": "895a3c7a",
   "metadata": {
    "execution": {
     "iopub.execute_input": "2025-02-23T07:34:55.783649Z",
     "iopub.status.busy": "2025-02-23T07:34:55.783272Z",
     "iopub.status.idle": "2025-02-23T07:34:55.794595Z",
     "shell.execute_reply": "2025-02-23T07:34:55.793378Z"
    },
    "papermill": {
     "duration": 0.022043,
     "end_time": "2025-02-23T07:34:55.796320",
     "exception": false,
     "start_time": "2025-02-23T07:34:55.774277",
     "status": "completed"
    },
    "tags": []
   },
   "outputs": [
    {
     "name": "stdout",
     "output_type": "stream",
     "text": [
      "* * * * * \n",
      " * * * * * \n",
      "  * * * * * \n",
      "   * * * * * \n",
      "    * * * * * \n"
     ]
    }
   ],
   "source": [
    "# 8. Rhombus Pattern\n",
    "n = 6\n",
    "for i in range(1,n):\n",
    "    for k in range(1,i):\n",
    "        print(' ',end='')\n",
    "    for j in range(1,n):\n",
    "        print('* ',end='')\n",
    "    print()"
   ]
  },
  {
   "cell_type": "code",
   "execution_count": 11,
   "id": "b01ad9a0",
   "metadata": {
    "execution": {
     "iopub.execute_input": "2025-02-23T07:34:55.813482Z",
     "iopub.status.busy": "2025-02-23T07:34:55.813067Z",
     "iopub.status.idle": "2025-02-23T07:34:55.828063Z",
     "shell.execute_reply": "2025-02-23T07:34:55.826836Z"
    },
    "papermill": {
     "duration": 0.025676,
     "end_time": "2025-02-23T07:34:55.829895",
     "exception": false,
     "start_time": "2025-02-23T07:34:55.804219",
     "status": "completed"
    },
    "tags": []
   },
   "outputs": [
    {
     "name": "stdout",
     "output_type": "stream",
     "text": [
      "        *   \n",
      "      *   *   \n",
      "    *   *   *   \n",
      "  *   *   *   *   \n",
      "*   *   *   *   *   \n",
      "  *   *   *   *   \n",
      "    *   *   *   \n",
      "      *   *   \n",
      "        *   \n"
     ]
    }
   ],
   "source": [
    "# 9. Diamond Star Pattern\n",
    "n = 6\n",
    "for i in range(1,n):\n",
    "    for k in range(1,n-i):\n",
    "        print('  ',end='')\n",
    "    for j in range(i):\n",
    "        print('*   ',end='')\n",
    "    print()\n",
    "for i in range(n-1,1,-1):\n",
    "    for k in range(n-i):\n",
    "        print('  ',end='')\n",
    "    for j in range(i-1):\n",
    "        print('*   ',end='')\n",
    "    print()"
   ]
  },
  {
   "cell_type": "code",
   "execution_count": 12,
   "id": "63803003",
   "metadata": {
    "execution": {
     "iopub.execute_input": "2025-02-23T07:34:55.847159Z",
     "iopub.status.busy": "2025-02-23T07:34:55.846617Z",
     "iopub.status.idle": "2025-02-23T07:34:55.864908Z",
     "shell.execute_reply": "2025-02-23T07:34:55.863251Z"
    },
    "papermill": {
     "duration": 0.029067,
     "end_time": "2025-02-23T07:34:55.866996",
     "exception": false,
     "start_time": "2025-02-23T07:34:55.837929",
     "status": "completed"
    },
    "tags": []
   },
   "outputs": [
    {
     "name": "stdout",
     "output_type": "stream",
     "text": [
      "                    *  \n",
      "                *  *  \n",
      "            *  *  *  \n",
      "        *  *  *  *  \n",
      "    *  *  *  *  *  \n",
      "        *  *  *  *  \n",
      "            *  *  *  \n",
      "                *  *  \n",
      "                    *  \n"
     ]
    }
   ],
   "source": [
    "# Airoplane Pattern\n",
    "n = 6\n",
    "for i in range(1,n):\n",
    "    for k in range(n-i):\n",
    "        print('    ',end='')\n",
    "    for j in range(1,i+1):\n",
    "        print('*  ',end='')\n",
    "    print()\n",
    "for i in range(2,n):\n",
    "    for k in range(i):\n",
    "        print('    ',end='')\n",
    "    for j in range(n-i,0,-1):\n",
    "        print('*  ',end='')\n",
    "    print()"
   ]
  },
  {
   "cell_type": "code",
   "execution_count": 13,
   "id": "cbb26b22",
   "metadata": {
    "execution": {
     "iopub.execute_input": "2025-02-23T07:34:55.884145Z",
     "iopub.status.busy": "2025-02-23T07:34:55.883720Z",
     "iopub.status.idle": "2025-02-23T07:34:55.908697Z",
     "shell.execute_reply": "2025-02-23T07:34:55.907540Z"
    },
    "papermill": {
     "duration": 0.035699,
     "end_time": "2025-02-23T07:34:55.910875",
     "exception": false,
     "start_time": "2025-02-23T07:34:55.875176",
     "status": "completed"
    },
    "tags": []
   },
   "outputs": [
    {
     "name": "stdout",
     "output_type": "stream",
     "text": [
      "*                 * \n",
      "* *             * * \n",
      "* * *         * * * \n",
      "* * * *     * * * * \n",
      "* * * * * * * * * * \n",
      "* * * * * * * * * * \n",
      "* * * *     * * * * \n",
      "* * *         * * * \n",
      "* *             * * \n",
      "*                 * \n"
     ]
    }
   ],
   "source": [
    "# 10. Butterfly Star Pattern\n",
    "n = 6\n",
    "for i in range(1,n):\n",
    "    for j in range(i):\n",
    "        print('* ',end='')\n",
    "    for k in range(2,2*(n-i)):\n",
    "        print('  ',end='')\n",
    "    for l in range(i):\n",
    "        print('* ',end='')\n",
    "    print()\n",
    "for i in range(n-1,0,-1):\n",
    "    for j in range(i):\n",
    "        print('* ',end='')\n",
    "    for k in range(2,2*(n-i)):\n",
    "        print('  ',end='')\n",
    "    for l in range(i):\n",
    "        print('* ',end='')\n",
    "    print()"
   ]
  },
  {
   "cell_type": "code",
   "execution_count": 14,
   "id": "c477a834",
   "metadata": {
    "execution": {
     "iopub.execute_input": "2025-02-23T07:34:55.928485Z",
     "iopub.status.busy": "2025-02-23T07:34:55.928026Z",
     "iopub.status.idle": "2025-02-23T07:34:55.938397Z",
     "shell.execute_reply": "2025-02-23T07:34:55.937069Z"
    },
    "papermill": {
     "duration": 0.021308,
     "end_time": "2025-02-23T07:34:55.940356",
     "exception": false,
     "start_time": "2025-02-23T07:34:55.919048",
     "status": "completed"
    },
    "tags": []
   },
   "outputs": [
    {
     "name": "stdout",
     "output_type": "stream",
     "text": [
      "* * * * * \n",
      "* * * * * \n",
      "* * * * * \n",
      "* * * * * \n",
      "* * * * * \n"
     ]
    }
   ],
   "source": [
    "# 11. Square Fill Pattern\n",
    "n = 6\n",
    "for i in range(1,n):\n",
    "    for j in range(1,n):\n",
    "        print('* ',end='')\n",
    "    print()"
   ]
  },
  {
   "cell_type": "code",
   "execution_count": 15,
   "id": "f9a201f8",
   "metadata": {
    "execution": {
     "iopub.execute_input": "2025-02-23T07:34:55.958235Z",
     "iopub.status.busy": "2025-02-23T07:34:55.957876Z",
     "iopub.status.idle": "2025-02-23T07:34:55.965699Z",
     "shell.execute_reply": "2025-02-23T07:34:55.964461Z"
    },
    "papermill": {
     "duration": 0.018939,
     "end_time": "2025-02-23T07:34:55.967679",
     "exception": false,
     "start_time": "2025-02-23T07:34:55.948740",
     "status": "completed"
    },
    "tags": []
   },
   "outputs": [
    {
     "name": "stdout",
     "output_type": "stream",
     "text": [
      "* \n",
      "* * \n",
      "* * * \n",
      "* * * * \n",
      "* * * * * \n"
     ]
    }
   ],
   "source": [
    "# 12. Right Half Pyramid Pattern\n",
    "n = 6\n",
    "for i in range(1,n):\n",
    "    for j in range(i):\n",
    "        print('* ',end='')\n",
    "    print()"
   ]
  },
  {
   "cell_type": "code",
   "execution_count": 16,
   "id": "4c98e6b0",
   "metadata": {
    "execution": {
     "iopub.execute_input": "2025-02-23T07:34:55.986262Z",
     "iopub.status.busy": "2025-02-23T07:34:55.985856Z",
     "iopub.status.idle": "2025-02-23T07:34:55.993971Z",
     "shell.execute_reply": "2025-02-23T07:34:55.992163Z"
    },
    "papermill": {
     "duration": 0.019193,
     "end_time": "2025-02-23T07:34:55.995842",
     "exception": false,
     "start_time": "2025-02-23T07:34:55.976649",
     "status": "completed"
    },
    "tags": []
   },
   "outputs": [
    {
     "name": "stdout",
     "output_type": "stream",
     "text": [
      "* * * * * \n",
      "* * * * \n",
      "* * * \n",
      "* * \n",
      "* \n"
     ]
    }
   ],
   "source": [
    "# 13. Reverse Right Half Pyramid Pattern\n",
    "n = 6\n",
    "for i in range(1,n):\n",
    "    for j in range(n-i):\n",
    "        print('* ',end='')\n",
    "    print()"
   ]
  },
  {
   "cell_type": "code",
   "execution_count": 17,
   "id": "c7593d24",
   "metadata": {
    "execution": {
     "iopub.execute_input": "2025-02-23T07:34:56.016306Z",
     "iopub.status.busy": "2025-02-23T07:34:56.015959Z",
     "iopub.status.idle": "2025-02-23T07:34:56.027963Z",
     "shell.execute_reply": "2025-02-23T07:34:56.026989Z"
    },
    "papermill": {
     "duration": 0.025409,
     "end_time": "2025-02-23T07:34:56.029951",
     "exception": false,
     "start_time": "2025-02-23T07:34:56.004542",
     "status": "completed"
    },
    "tags": []
   },
   "outputs": [
    {
     "name": "stdout",
     "output_type": "stream",
     "text": [
      "          * \n",
      "        * * \n",
      "      * * * \n",
      "    * * * * \n",
      "  * * * * * \n"
     ]
    }
   ],
   "source": [
    "# 14. Left Half Pyramid Pattern\n",
    "n = 6\n",
    "for i in range(1,n):\n",
    "    for k in range(n-i):\n",
    "        print('  ',end='')\n",
    "    for j in range(i):\n",
    "        print('* ',end='')\n",
    "    print()"
   ]
  },
  {
   "cell_type": "code",
   "execution_count": 18,
   "id": "101867ef",
   "metadata": {
    "execution": {
     "iopub.execute_input": "2025-02-23T07:34:56.050512Z",
     "iopub.status.busy": "2025-02-23T07:34:56.050098Z",
     "iopub.status.idle": "2025-02-23T07:34:56.060408Z",
     "shell.execute_reply": "2025-02-23T07:34:56.057800Z"
    },
    "papermill": {
     "duration": 0.022455,
     "end_time": "2025-02-23T07:34:56.062300",
     "exception": false,
     "start_time": "2025-02-23T07:34:56.039845",
     "status": "completed"
    },
    "tags": []
   },
   "outputs": [
    {
     "name": "stdout",
     "output_type": "stream",
     "text": [
      "  * * * * * \n",
      "    * * * * \n",
      "      * * * \n",
      "        * * \n",
      "          * \n"
     ]
    }
   ],
   "source": [
    "# 15. Reverse Left Half Pyramid Pattern\n",
    "n = 6\n",
    "for i in range(1,n):\n",
    "    for k in range(i):\n",
    "        print('  ',end='')\n",
    "    for j in range(n-i):\n",
    "        print('* ',end='')\n",
    "    print()"
   ]
  },
  {
   "cell_type": "code",
   "execution_count": 19,
   "id": "8dc3bf9d",
   "metadata": {
    "execution": {
     "iopub.execute_input": "2025-02-23T07:34:56.081729Z",
     "iopub.status.busy": "2025-02-23T07:34:56.081329Z",
     "iopub.status.idle": "2025-02-23T07:34:56.090776Z",
     "shell.execute_reply": "2025-02-23T07:34:56.088160Z"
    },
    "papermill": {
     "duration": 0.022275,
     "end_time": "2025-02-23T07:34:56.093512",
     "exception": false,
     "start_time": "2025-02-23T07:34:56.071237",
     "status": "completed"
    },
    "tags": []
   },
   "outputs": [
    {
     "name": "stdout",
     "output_type": "stream",
     "text": [
      "     * \n",
      "    * * \n",
      "   * * * \n",
      "  * * * * \n",
      " * * * * * \n"
     ]
    }
   ],
   "source": [
    "# 16. Triangle Star Pattern\n",
    "n = 6\n",
    "for i in range(1,n):\n",
    "    for k in range(n-i):\n",
    "        print(' ',end='')\n",
    "    for j in range(i):\n",
    "        print('* ',end='')\n",
    "    print()"
   ]
  },
  {
   "cell_type": "code",
   "execution_count": 20,
   "id": "801d6b04",
   "metadata": {
    "execution": {
     "iopub.execute_input": "2025-02-23T07:34:56.113601Z",
     "iopub.status.busy": "2025-02-23T07:34:56.113200Z",
     "iopub.status.idle": "2025-02-23T07:34:56.126105Z",
     "shell.execute_reply": "2025-02-23T07:34:56.124787Z"
    },
    "papermill": {
     "duration": 0.025364,
     "end_time": "2025-02-23T07:34:56.128061",
     "exception": false,
     "start_time": "2025-02-23T07:34:56.102697",
     "status": "completed"
    },
    "tags": []
   },
   "outputs": [
    {
     "name": "stdout",
     "output_type": "stream",
     "text": [
      " 1 2 3 4 5 \n",
      "  2 3 4 5 \n",
      "   3 4 5 \n",
      "    4 5 \n",
      "     5 \n"
     ]
    }
   ],
   "source": [
    "# 17. Reverse number Triangle Pattern\n",
    "n = 6\n",
    "for i in range(1,n):\n",
    "    for k in range(i):\n",
    "        print(' ',end='')\n",
    "    for j in range(i,n):\n",
    "        print(j,'',end='')\n",
    "    print()"
   ]
  },
  {
   "cell_type": "code",
   "execution_count": 21,
   "id": "dc2dd518",
   "metadata": {
    "execution": {
     "iopub.execute_input": "2025-02-23T07:34:56.146595Z",
     "iopub.status.busy": "2025-02-23T07:34:56.146201Z",
     "iopub.status.idle": "2025-02-23T07:34:56.165982Z",
     "shell.execute_reply": "2025-02-23T07:34:56.164805Z"
    },
    "papermill": {
     "duration": 0.031072,
     "end_time": "2025-02-23T07:34:56.167871",
     "exception": false,
     "start_time": "2025-02-23T07:34:56.136799",
     "status": "completed"
    },
    "tags": []
   },
   "outputs": [
    {
     "name": "stdout",
     "output_type": "stream",
     "text": [
      " 1 2 3 4 5 \n",
      "  2 3 4 5 \n",
      "   3 4 5 \n",
      "    4 5 \n",
      "     5 \n",
      "    4 5 \n",
      "   3 4 5 \n",
      "  2 3 4 5 \n",
      " 1 2 3 4 5 \n"
     ]
    }
   ],
   "source": [
    "# 18. Mirror Image Triangle Pattern\n",
    "n = 6\n",
    "for i in range(1,n):\n",
    "    for k in range(i):\n",
    "        print(' ',end='')\n",
    "    for j in range(i,n):\n",
    "        print(j,'',end='')\n",
    "    print()\n",
    "for i in range(2,n):\n",
    "    for k in range(n-i):\n",
    "        print(' ',end='')\n",
    "    for j in range(i):\n",
    "        print(n-i+j,'',end='')\n",
    "    print()"
   ]
  },
  {
   "cell_type": "code",
   "execution_count": 22,
   "id": "62704e97",
   "metadata": {
    "execution": {
     "iopub.execute_input": "2025-02-23T07:34:56.186335Z",
     "iopub.status.busy": "2025-02-23T07:34:56.186008Z",
     "iopub.status.idle": "2025-02-23T07:34:56.198510Z",
     "shell.execute_reply": "2025-02-23T07:34:56.197126Z"
    },
    "papermill": {
     "duration": 0.023812,
     "end_time": "2025-02-23T07:34:56.200472",
     "exception": false,
     "start_time": "2025-02-23T07:34:56.176660",
     "status": "completed"
    },
    "tags": []
   },
   "outputs": [
    {
     "name": "stdout",
     "output_type": "stream",
     "text": [
      "     * \n",
      "    * * \n",
      "   *   * \n",
      "  *     * \n",
      " * * * * * \n"
     ]
    }
   ],
   "source": [
    "# 19. Hollow Triangle Pattern\n",
    "n = 6\n",
    "for i in range(1,n):\n",
    "    for k in range(n-i):\n",
    "        print(' ',end='')\n",
    "    for j in range(1,i+1):\n",
    "        if(i==1 or j==1 or i==n-1 or j==i):\n",
    "            print('* ',end='')\n",
    "        else:\n",
    "            print('  ',end='')\n",
    "    print()"
   ]
  },
  {
   "cell_type": "code",
   "execution_count": 23,
   "id": "cd431a71",
   "metadata": {
    "execution": {
     "iopub.execute_input": "2025-02-23T07:34:56.219095Z",
     "iopub.status.busy": "2025-02-23T07:34:56.218736Z",
     "iopub.status.idle": "2025-02-23T07:34:56.231469Z",
     "shell.execute_reply": "2025-02-23T07:34:56.230234Z"
    },
    "papermill": {
     "duration": 0.024111,
     "end_time": "2025-02-23T07:34:56.233358",
     "exception": false,
     "start_time": "2025-02-23T07:34:56.209247",
     "status": "completed"
    },
    "tags": []
   },
   "outputs": [
    {
     "name": "stdout",
     "output_type": "stream",
     "text": [
      " * * * * * \n",
      "  *     * \n",
      "   *   * \n",
      "    * * \n",
      "     * \n"
     ]
    }
   ],
   "source": [
    "# 20. Hollow Reverse Triangle Pattern\n",
    "n = 6\n",
    "for i in range(1,n):\n",
    "    for k in range(1,i+1):\n",
    "        print(' ',end='')\n",
    "    for j in range(1,n-i+1):\n",
    "        if(i==1 or j==1 or j==n-i):\n",
    "            print('* ',end='')\n",
    "        else:\n",
    "            print('  ',end='')\n",
    "    print()"
   ]
  },
  {
   "cell_type": "code",
   "execution_count": 24,
   "id": "4d2b1ebe",
   "metadata": {
    "execution": {
     "iopub.execute_input": "2025-02-23T07:34:56.253010Z",
     "iopub.status.busy": "2025-02-23T07:34:56.252666Z",
     "iopub.status.idle": "2025-02-23T07:34:56.268706Z",
     "shell.execute_reply": "2025-02-23T07:34:56.267361Z"
    },
    "papermill": {
     "duration": 0.027959,
     "end_time": "2025-02-23T07:34:56.270476",
     "exception": false,
     "start_time": "2025-02-23T07:34:56.242517",
     "status": "completed"
    },
    "tags": []
   },
   "outputs": [
    {
     "name": "stdout",
     "output_type": "stream",
     "text": [
      "     * \n",
      "    * * \n",
      "   *   * \n",
      "  *     * \n",
      " *       * \n",
      "  *     * \n",
      "   *   * \n",
      "    * * \n",
      "     * \n"
     ]
    }
   ],
   "source": [
    "# 21. Hollow Diamond Pyramid\n",
    "n = 6\n",
    "for i in range(1,n):\n",
    "    for k in range(n-i):\n",
    "        print(' ',end='')\n",
    "    for j in range(1,i+1):\n",
    "        if(i==1 or j==1 or j==i):\n",
    "            print('* ',end='')\n",
    "        else:\n",
    "            print('  ',end='')\n",
    "    print()\n",
    "for i in range(2,n):\n",
    "    for k in range(1,i+1):\n",
    "        print(' ',end='')\n",
    "    for j in range(1,n-i+1):\n",
    "        if(i==1 or j==1 or j==n-i):\n",
    "            print('* ',end='')\n",
    "        else:\n",
    "            print('  ',end='')\n",
    "    print()"
   ]
  },
  {
   "cell_type": "code",
   "execution_count": 25,
   "id": "5a99ce89",
   "metadata": {
    "execution": {
     "iopub.execute_input": "2025-02-23T07:34:56.290379Z",
     "iopub.status.busy": "2025-02-23T07:34:56.290031Z",
     "iopub.status.idle": "2025-02-23T07:34:56.310643Z",
     "shell.execute_reply": "2025-02-23T07:34:56.309334Z"
    },
    "papermill": {
     "duration": 0.033277,
     "end_time": "2025-02-23T07:34:56.312906",
     "exception": false,
     "start_time": "2025-02-23T07:34:56.279629",
     "status": "completed"
    },
    "tags": []
   },
   "outputs": [
    {
     "name": "stdout",
     "output_type": "stream",
     "text": [
      " * * * * * \n",
      "  *     * \n",
      "   *   * \n",
      "    * * \n",
      "     * \n",
      "    * * \n",
      "   *   * \n",
      "  *     * \n",
      " * * * * * \n"
     ]
    }
   ],
   "source": [
    "# 22. Hollow Hourglass Pattern\n",
    "n = 6\n",
    "for i in range(1,n):\n",
    "    for k in range(i):\n",
    "        print(' ',end='')\n",
    "    for j in range(1,n-i+1):\n",
    "        if(i==1 or i==n-1 or j==1 or j==n-i):\n",
    "            print('* ',end='')\n",
    "        else:\n",
    "            print('  ',end='')\n",
    "    print()\n",
    "for i in range(2,n):\n",
    "    for k in range(n-i):\n",
    "        print(' ',end='')\n",
    "    for j in range(1,i+1):\n",
    "        if(i==1 or i==n-1 or j==1 or j==i):\n",
    "            print('* ',end='')\n",
    "        else:\n",
    "            print('  ',end='')\n",
    "    print()"
   ]
  },
  {
   "cell_type": "code",
   "execution_count": 26,
   "id": "5f048bb2",
   "metadata": {
    "execution": {
     "iopub.execute_input": "2025-02-23T07:34:56.332867Z",
     "iopub.status.busy": "2025-02-23T07:34:56.332488Z",
     "iopub.status.idle": "2025-02-23T07:34:56.345964Z",
     "shell.execute_reply": "2025-02-23T07:34:56.344565Z"
    },
    "papermill": {
     "duration": 0.025605,
     "end_time": "2025-02-23T07:34:56.347979",
     "exception": false,
     "start_time": "2025-02-23T07:34:56.322374",
     "status": "completed"
    },
    "tags": []
   },
   "outputs": [
    {
     "name": "stdout",
     "output_type": "stream",
     "text": [
      "     1 \n",
      "    1 1 \n",
      "   1 2 1 \n",
      "  1 3 3 1 \n",
      " 1 4 6 4 1 \n"
     ]
    }
   ],
   "source": [
    "# 23. Pascal’s Triangle\n",
    "n = 6\n",
    "for i in range(1,n):\n",
    "    for k in range(n-i):\n",
    "        print(' ',end='')\n",
    "    val = 1\n",
    "    for j in range(1,i+1):\n",
    "        print(int(val),'',end='')\n",
    "        val = val * (i - j) / j\n",
    "    print()"
   ]
  },
  {
   "cell_type": "code",
   "execution_count": 27,
   "id": "f90f54f1",
   "metadata": {
    "execution": {
     "iopub.execute_input": "2025-02-23T07:34:56.368596Z",
     "iopub.status.busy": "2025-02-23T07:34:56.368190Z",
     "iopub.status.idle": "2025-02-23T07:34:56.378703Z",
     "shell.execute_reply": "2025-02-23T07:34:56.377592Z"
    },
    "papermill": {
     "duration": 0.023473,
     "end_time": "2025-02-23T07:34:56.380746",
     "exception": false,
     "start_time": "2025-02-23T07:34:56.357273",
     "status": "completed"
    },
    "tags": []
   },
   "outputs": [
    {
     "name": "stdout",
     "output_type": "stream",
     "text": [
      "* \n",
      "* * \n",
      "* * * \n",
      "* * * * \n",
      "* * * * * \n",
      "* * * * \n",
      "* * * \n",
      "* * \n",
      "* \n"
     ]
    }
   ],
   "source": [
    "# 24. Right Pascal’s Triangle\n",
    "n = 6\n",
    "for i in range(1,n):\n",
    "    for j in range(i):\n",
    "        print('* ',end='')\n",
    "    print()\n",
    "for i in range(2,n):\n",
    "    for j in range(n-i):\n",
    "        print('* ',end='')\n",
    "    print()"
   ]
  },
  {
   "cell_type": "code",
   "execution_count": 28,
   "id": "845e52bb",
   "metadata": {
    "execution": {
     "iopub.execute_input": "2025-02-23T07:34:56.400357Z",
     "iopub.status.busy": "2025-02-23T07:34:56.400017Z",
     "iopub.status.idle": "2025-02-23T07:34:56.414113Z",
     "shell.execute_reply": "2025-02-23T07:34:56.413043Z"
    },
    "papermill": {
     "duration": 0.026046,
     "end_time": "2025-02-23T07:34:56.416113",
     "exception": false,
     "start_time": "2025-02-23T07:34:56.390067",
     "status": "completed"
    },
    "tags": []
   },
   "outputs": [
    {
     "name": "stdout",
     "output_type": "stream",
     "text": [
      "A \n",
      "A B A \n",
      "A B C B A \n",
      "A B C D C B A \n",
      "A B C D E D C B A \n"
     ]
    }
   ],
   "source": [
    "n = 6\n",
    "for i in range(1,n):\n",
    "    for j in range(1,i+1):\n",
    "        print(chr(64+j),'',end='')\n",
    "    for k in range(i-1,0,-1):\n",
    "        print(chr(64+k),'',end='')\n",
    "    print()"
   ]
  },
  {
   "cell_type": "code",
   "execution_count": 29,
   "id": "d20dfadd",
   "metadata": {
    "execution": {
     "iopub.execute_input": "2025-02-23T07:34:56.435889Z",
     "iopub.status.busy": "2025-02-23T07:34:56.435473Z",
     "iopub.status.idle": "2025-02-23T07:34:56.452385Z",
     "shell.execute_reply": "2025-02-23T07:34:56.450030Z"
    },
    "papermill": {
     "duration": 0.029314,
     "end_time": "2025-02-23T07:34:56.454628",
     "exception": false,
     "start_time": "2025-02-23T07:34:56.425314",
     "status": "completed"
    },
    "tags": []
   },
   "outputs": [
    {
     "name": "stdout",
     "output_type": "stream",
     "text": [
      "1 \n",
      "1 2 1 \n",
      "1 2 3 2 1 \n",
      "1 2 3 4 3 2 1 \n",
      "1 2 3 4 5 4 3 2 1 \n"
     ]
    }
   ],
   "source": [
    "n = 6\n",
    "for i in range(1,n):\n",
    "    for j in range(1,i+1):\n",
    "        print(j,'',end='')\n",
    "    for k in range(i-1,0,-1):\n",
    "        print(k,'',end='')\n",
    "    print()"
   ]
  },
  {
   "cell_type": "markdown",
   "id": "138c14ff",
   "metadata": {
    "papermill": {
     "duration": 0.008943,
     "end_time": "2025-02-23T07:34:56.473248",
     "exception": false,
     "start_time": "2025-02-23T07:34:56.464305",
     "status": "completed"
    },
    "tags": []
   },
   "source": [
    "# Name Pattern"
   ]
  },
  {
   "cell_type": "code",
   "execution_count": 30,
   "id": "b5db9a10",
   "metadata": {
    "execution": {
     "iopub.execute_input": "2025-02-23T07:34:56.493390Z",
     "iopub.status.busy": "2025-02-23T07:34:56.493025Z",
     "iopub.status.idle": "2025-02-23T07:34:56.504796Z",
     "shell.execute_reply": "2025-02-23T07:34:56.503818Z"
    },
    "papermill": {
     "duration": 0.023877,
     "end_time": "2025-02-23T07:34:56.506603",
     "exception": false,
     "start_time": "2025-02-23T07:34:56.482726",
     "status": "completed"
    },
    "tags": []
   },
   "outputs": [
    {
     "name": "stdout",
     "output_type": "stream",
     "text": [
      "*       * \n",
      "  *   *   \n",
      "    * \n",
      "    * \n",
      "    * \n"
     ]
    }
   ],
   "source": [
    "# Y Pattern\n",
    "n = 3\n",
    "for i in range(1,n):\n",
    "    for j in range(1,i+1):\n",
    "        if i==1 or j==i:\n",
    "            print('* ',end='')\n",
    "        else:\n",
    "            print('  ',end='')\n",
    "    for k in range(3,2 * (n+1-i)):\n",
    "        print('  ',end='')\n",
    "    for l in range(1,i+1):\n",
    "        if l==1:\n",
    "            print('* ',end='')\n",
    "        else:\n",
    "            print('  ',end='')\n",
    "    print()\n",
    "for i in range(1,n+1):\n",
    "    for k in range((n-i)):\n",
    "        print('  ',end='')\n",
    "    for j in range(1,i+1):\n",
    "        if i==j:\n",
    "            print('* ',end='')\n",
    "        else:\n",
    "            print('  ',end='')\n",
    "    print()"
   ]
  },
  {
   "cell_type": "code",
   "execution_count": 31,
   "id": "cd146fe4",
   "metadata": {
    "execution": {
     "iopub.execute_input": "2025-02-23T07:34:56.527283Z",
     "iopub.status.busy": "2025-02-23T07:34:56.526891Z",
     "iopub.status.idle": "2025-02-23T07:34:56.537606Z",
     "shell.execute_reply": "2025-02-23T07:34:56.536364Z"
    },
    "papermill": {
     "duration": 0.023409,
     "end_time": "2025-02-23T07:34:56.539509",
     "exception": false,
     "start_time": "2025-02-23T07:34:56.516100",
     "status": "completed"
    },
    "tags": []
   },
   "outputs": [
    {
     "name": "stdout",
     "output_type": "stream",
     "text": [
      " *   * \n",
      "  * * \n",
      "   * \n",
      "   *  \n"
     ]
    }
   ],
   "source": [
    "import math\n",
    "n = 4\n",
    "for i in range(1,n):\n",
    "    for k in range(i):\n",
    "        print(' ',end='')\n",
    "    for j in range(n-i,0,-1):\n",
    "        if i==n-1 or j==1 or j==n-i:\n",
    "            print('* ',end='')\n",
    "        else:\n",
    "            print('  ',end='')\n",
    "    print()\n",
    "for i in range(3,n):\n",
    "    for j in range(1,n):\n",
    "        if j==math.ceil((n-1)/2):\n",
    "            print(' *',end='')\n",
    "        else:\n",
    "            print('  ',end='')\n",
    "    print()"
   ]
  },
  {
   "cell_type": "code",
   "execution_count": 32,
   "id": "0fc04f08",
   "metadata": {
    "execution": {
     "iopub.execute_input": "2025-02-23T07:34:56.560182Z",
     "iopub.status.busy": "2025-02-23T07:34:56.559700Z",
     "iopub.status.idle": "2025-02-23T07:34:56.573573Z",
     "shell.execute_reply": "2025-02-23T07:34:56.572338Z"
    },
    "papermill": {
     "duration": 0.026868,
     "end_time": "2025-02-23T07:34:56.575996",
     "exception": false,
     "start_time": "2025-02-23T07:34:56.549128",
     "status": "completed"
    },
    "tags": []
   },
   "outputs": [
    {
     "name": "stdout",
     "output_type": "stream",
     "text": [
      "     * \n",
      "    * * \n",
      "   *   * \n",
      "  * * * * \n",
      " *       * \n"
     ]
    }
   ],
   "source": [
    "# A Pattern\n",
    "n = 6\n",
    "for i in range(1,n):\n",
    "    for k in range(n-i):\n",
    "        print(' ',end='')\n",
    "    for j in range(1,i+1):\n",
    "        if i==1 or i==n-2 or j==1 or j==i:\n",
    "            print('* ',end='')\n",
    "        else:\n",
    "            print('  ',end='')\n",
    "    print()"
   ]
  },
  {
   "cell_type": "code",
   "execution_count": 33,
   "id": "4064e174",
   "metadata": {
    "execution": {
     "iopub.execute_input": "2025-02-23T07:34:56.596374Z",
     "iopub.status.busy": "2025-02-23T07:34:56.596014Z",
     "iopub.status.idle": "2025-02-23T07:34:56.609106Z",
     "shell.execute_reply": "2025-02-23T07:34:56.608039Z"
    },
    "papermill": {
     "duration": 0.025252,
     "end_time": "2025-02-23T07:34:56.610907",
     "exception": false,
     "start_time": "2025-02-23T07:34:56.585655",
     "status": "completed"
    },
    "tags": []
   },
   "outputs": [
    {
     "name": "stdout",
     "output_type": "stream",
     "text": [
      "* * * * * \n",
      "*         \n",
      "* * * * * \n",
      "        * \n",
      "* * * * * \n"
     ]
    }
   ],
   "source": [
    "# S Pattern\n",
    "import math\n",
    "n = 6\n",
    "for i in range(1,n):\n",
    "    for j in range(1,n):\n",
    "        if i==1 or i==n-1 or i==int(math.ceil((n-1)/2)) or (j==1 and i==2) or (j==n-1 and i==n-2):\n",
    "            print('* ',end='')\n",
    "        else:\n",
    "            print('  ',end='')\n",
    "    print()"
   ]
  },
  {
   "cell_type": "code",
   "execution_count": 34,
   "id": "e2a934d5",
   "metadata": {
    "execution": {
     "iopub.execute_input": "2025-02-23T07:34:56.631554Z",
     "iopub.status.busy": "2025-02-23T07:34:56.631170Z",
     "iopub.status.idle": "2025-02-23T07:34:56.639952Z",
     "shell.execute_reply": "2025-02-23T07:34:56.637319Z"
    },
    "papermill": {
     "duration": 0.02093,
     "end_time": "2025-02-23T07:34:56.641688",
     "exception": false,
     "start_time": "2025-02-23T07:34:56.620758",
     "status": "completed"
    },
    "tags": []
   },
   "outputs": [
    {
     "name": "stdout",
     "output_type": "stream",
     "text": [
      "*       * \n",
      "*       * \n",
      "* * * * * \n",
      "*       * \n",
      "*       * \n"
     ]
    }
   ],
   "source": [
    "# H Pattern\n",
    "import math\n",
    "n = 6\n",
    "for i in range(1,n):\n",
    "    for j in range(1,n):\n",
    "        if j==1 or j==n-1 or i==math.ceil((n-1)/2):\n",
    "            print('* ',end='')\n",
    "        else:\n",
    "            print('  ',end='')\n",
    "    print()"
   ]
  }
 ],
 "metadata": {
  "kaggle": {
   "accelerator": "none",
   "dataSources": [],
   "dockerImageVersionId": 30918,
   "isGpuEnabled": false,
   "isInternetEnabled": false,
   "language": "python",
   "sourceType": "notebook"
  },
  "kernelspec": {
   "display_name": "Python 3",
   "language": "python",
   "name": "python3"
  },
  "language_info": {
   "codemirror_mode": {
    "name": "ipython",
    "version": 3
   },
   "file_extension": ".py",
   "mimetype": "text/x-python",
   "name": "python",
   "nbconvert_exporter": "python",
   "pygments_lexer": "ipython3",
   "version": "3.10.12"
  },
  "papermill": {
   "default_parameters": {},
   "duration": 4.742846,
   "end_time": "2025-02-23T07:34:57.172194",
   "environment_variables": {},
   "exception": null,
   "input_path": "__notebook__.ipynb",
   "output_path": "__notebook__.ipynb",
   "parameters": {},
   "start_time": "2025-02-23T07:34:52.429348",
   "version": "2.6.0"
  }
 },
 "nbformat": 4,
 "nbformat_minor": 5
}
