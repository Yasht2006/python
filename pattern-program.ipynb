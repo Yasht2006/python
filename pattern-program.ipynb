{
 "cells": [
  {
   "cell_type": "code",
   "execution_count": 1,
   "id": "ad7c7e2f",
   "metadata": {
    "execution": {
     "iopub.execute_input": "2025-02-21T07:19:32.459535Z",
     "iopub.status.busy": "2025-02-21T07:19:32.459159Z",
     "iopub.status.idle": "2025-02-21T07:19:32.471314Z",
     "shell.execute_reply": "2025-02-21T07:19:32.469296Z"
    },
    "papermill": {
     "duration": 0.018134,
     "end_time": "2025-02-21T07:19:32.473067",
     "exception": false,
     "start_time": "2025-02-21T07:19:32.454933",
     "status": "completed"
    },
    "tags": []
   },
   "outputs": [
    {
     "name": "stdout",
     "output_type": "stream",
     "text": [
      "* * * * * \n",
      "*       * \n",
      "*       * \n",
      "*       * \n",
      "* * * * * \n"
     ]
    }
   ],
   "source": [
    "n = 6\n",
    "for i in range(1,n):\n",
    "    for j in range(1,n):\n",
    "        if(i==1 or j==1 or j==n-1 or i==n-1):\n",
    "            print('* ',end='')\n",
    "        else:\n",
    "            print('  ',end='')\n",
    "    print()"
   ]
  },
  {
   "cell_type": "code",
   "execution_count": 2,
   "id": "d691ee45",
   "metadata": {
    "execution": {
     "iopub.execute_input": "2025-02-21T07:19:32.479955Z",
     "iopub.status.busy": "2025-02-21T07:19:32.479557Z",
     "iopub.status.idle": "2025-02-21T07:19:32.490564Z",
     "shell.execute_reply": "2025-02-21T07:19:32.489552Z"
    },
    "papermill": {
     "duration": 0.015945,
     "end_time": "2025-02-21T07:19:32.492062",
     "exception": false,
     "start_time": "2025-02-21T07:19:32.476117",
     "status": "completed"
    },
    "tags": []
   },
   "outputs": [
    {
     "name": "stdout",
     "output_type": "stream",
     "text": [
      "    1 \n",
      "   1 2 \n",
      "  1 2 3 \n",
      " 1 2 3 4 \n",
      "1 2 3 4 5 \n"
     ]
    }
   ],
   "source": [
    "n = 6\n",
    "for i in range(1,n):\n",
    "    for k in range(1,n-i):\n",
    "        print(' ',end='')\n",
    "    for j in range(i):\n",
    "        print(j+1,'',end='')\n",
    "    print()"
   ]
  },
  {
   "cell_type": "code",
   "execution_count": 3,
   "id": "1a124465",
   "metadata": {
    "execution": {
     "iopub.execute_input": "2025-02-21T07:19:32.498317Z",
     "iopub.status.busy": "2025-02-21T07:19:32.498007Z",
     "iopub.status.idle": "2025-02-21T07:19:32.509130Z",
     "shell.execute_reply": "2025-02-21T07:19:32.508217Z"
    },
    "papermill": {
     "duration": 0.015863,
     "end_time": "2025-02-21T07:19:32.510717",
     "exception": false,
     "start_time": "2025-02-21T07:19:32.494854",
     "status": "completed"
    },
    "tags": []
   },
   "outputs": [
    {
     "name": "stdout",
     "output_type": "stream",
     "text": [
      "    1 \n",
      "   2 2 \n",
      "  3 3 3 \n",
      " 4 4 4 4 \n",
      "5 5 5 5 5 \n"
     ]
    }
   ],
   "source": [
    "n = 6\n",
    "for i in range(1,n):\n",
    "    for k in range(1,n-i):\n",
    "        print(' ',end='')\n",
    "    for j in range(i):\n",
    "        print(i,'',end='')\n",
    "    print()"
   ]
  },
  {
   "cell_type": "code",
   "execution_count": 4,
   "id": "180dfd30",
   "metadata": {
    "execution": {
     "iopub.execute_input": "2025-02-21T07:19:32.517198Z",
     "iopub.status.busy": "2025-02-21T07:19:32.516898Z",
     "iopub.status.idle": "2025-02-21T07:19:32.526140Z",
     "shell.execute_reply": "2025-02-21T07:19:32.525306Z"
    },
    "papermill": {
     "duration": 0.014316,
     "end_time": "2025-02-21T07:19:32.527886",
     "exception": false,
     "start_time": "2025-02-21T07:19:32.513570",
     "status": "completed"
    },
    "tags": []
   },
   "outputs": [
    {
     "name": "stdout",
     "output_type": "stream",
     "text": [
      "1 \n",
      "1 2 \n",
      "1 2 3 \n",
      "1 2 3 4 \n",
      "1 2 3 4 5 \n"
     ]
    }
   ],
   "source": [
    "n = 6\n",
    "for i in range(1,n):\n",
    "    for j in range(1,i+1):\n",
    "        print(j,'',end='')\n",
    "    print()"
   ]
  },
  {
   "cell_type": "code",
   "execution_count": 5,
   "id": "a606e95e",
   "metadata": {
    "execution": {
     "iopub.execute_input": "2025-02-21T07:19:32.534647Z",
     "iopub.status.busy": "2025-02-21T07:19:32.534297Z",
     "iopub.status.idle": "2025-02-21T07:19:32.544114Z",
     "shell.execute_reply": "2025-02-21T07:19:32.542919Z"
    },
    "papermill": {
     "duration": 0.014978,
     "end_time": "2025-02-21T07:19:32.545832",
     "exception": false,
     "start_time": "2025-02-21T07:19:32.530854",
     "status": "completed"
    },
    "tags": []
   },
   "outputs": [
    {
     "name": "stdout",
     "output_type": "stream",
     "text": [
      "1 2 3 4 5 \n",
      "1 2 3 4 \n",
      "1 2 3 \n",
      "1 2 \n",
      "1 \n"
     ]
    }
   ],
   "source": [
    "n = 6\n",
    "for i in range(n,1,-1):\n",
    "    for j in range(1,i):\n",
    "        print(j,'',end='')\n",
    "    print()"
   ]
  },
  {
   "cell_type": "code",
   "execution_count": 6,
   "id": "aa65d0c0",
   "metadata": {
    "execution": {
     "iopub.execute_input": "2025-02-21T07:19:32.552768Z",
     "iopub.status.busy": "2025-02-21T07:19:32.552395Z",
     "iopub.status.idle": "2025-02-21T07:19:32.565638Z",
     "shell.execute_reply": "2025-02-21T07:19:32.564472Z"
    },
    "papermill": {
     "duration": 0.018459,
     "end_time": "2025-02-21T07:19:32.567268",
     "exception": false,
     "start_time": "2025-02-21T07:19:32.548809",
     "status": "completed"
    },
    "tags": []
   },
   "outputs": [
    {
     "name": "stdout",
     "output_type": "stream",
     "text": [
      "1 \n",
      "2 3 \n",
      "4 5 6 \n",
      "7 8 9 10 \n",
      "11 12 13 14 15 \n"
     ]
    }
   ],
   "source": [
    "n = 6\n",
    "start = 1;\n",
    "for i in range(1,n):\n",
    "    for j in range(1,i+1):\n",
    "        print(start,'',end='')\n",
    "        start += 1\n",
    "    print()"
   ]
  },
  {
   "cell_type": "code",
   "execution_count": 7,
   "id": "60a9275e",
   "metadata": {
    "execution": {
     "iopub.execute_input": "2025-02-21T07:19:32.574435Z",
     "iopub.status.busy": "2025-02-21T07:19:32.574111Z",
     "iopub.status.idle": "2025-02-21T07:19:32.583111Z",
     "shell.execute_reply": "2025-02-21T07:19:32.582116Z"
    },
    "papermill": {
     "duration": 0.01435,
     "end_time": "2025-02-21T07:19:32.584649",
     "exception": false,
     "start_time": "2025-02-21T07:19:32.570299",
     "status": "completed"
    },
    "tags": []
   },
   "outputs": [
    {
     "name": "stdout",
     "output_type": "stream",
     "text": [
      "0 \n",
      "1 0 \n",
      "0 1 0 \n",
      "1 0 1 0 \n"
     ]
    }
   ],
   "source": [
    "n = 5\n",
    "o = 0\n",
    "e = 1\n",
    "for i in range(1,n):\n",
    "    for j in range(1,i+1):\n",
    "        if (i+j)%2==0:\n",
    "            print(o,'',end='')\n",
    "        else:\n",
    "            print(e,'',end='')\n",
    "    print()"
   ]
  },
  {
   "cell_type": "code",
   "execution_count": 8,
   "id": "c48483cc",
   "metadata": {
    "execution": {
     "iopub.execute_input": "2025-02-21T07:19:32.591566Z",
     "iopub.status.busy": "2025-02-21T07:19:32.591264Z",
     "iopub.status.idle": "2025-02-21T07:19:32.602720Z",
     "shell.execute_reply": "2025-02-21T07:19:32.601649Z"
    },
    "papermill": {
     "duration": 0.016519,
     "end_time": "2025-02-21T07:19:32.604246",
     "exception": false,
     "start_time": "2025-02-21T07:19:32.587727",
     "status": "completed"
    },
    "tags": []
   },
   "outputs": [
    {
     "name": "stdout",
     "output_type": "stream",
     "text": [
      "        1 \n",
      "      2 1 2 \n",
      "    3 2 1 2 3 \n",
      "  4 3 2 1 2 3 4 \n"
     ]
    }
   ],
   "source": [
    "n = 5\n",
    "for i in range(1,n):\n",
    "    for k in range(n-i):\n",
    "        print('  ',end='')\n",
    "    for j in range(i,0,-1):\n",
    "        print(j,'',end='')\n",
    "    for l in range(1,i):\n",
    "        print(l+1,'',end='')\n",
    "    print()"
   ]
  }
 ],
 "metadata": {
  "kaggle": {
   "accelerator": "none",
   "dataSources": [],
   "dockerImageVersionId": 30918,
   "isGpuEnabled": false,
   "isInternetEnabled": false,
   "language": "python",
   "sourceType": "notebook"
  },
  "kernelspec": {
   "display_name": "Python 3",
   "language": "python",
   "name": "python3"
  },
  "language_info": {
   "codemirror_mode": {
    "name": "ipython",
    "version": 3
   },
   "file_extension": ".py",
   "mimetype": "text/x-python",
   "name": "python",
   "nbconvert_exporter": "python",
   "pygments_lexer": "ipython3",
   "version": "3.10.12"
  },
  "papermill": {
   "default_parameters": {},
   "duration": 3.340952,
   "end_time": "2025-02-21T07:19:33.026245",
   "environment_variables": {},
   "exception": null,
   "input_path": "__notebook__.ipynb",
   "output_path": "__notebook__.ipynb",
   "parameters": {},
   "start_time": "2025-02-21T07:19:29.685293",
   "version": "2.6.0"
  }
 },
 "nbformat": 4,
 "nbformat_minor": 5
}
