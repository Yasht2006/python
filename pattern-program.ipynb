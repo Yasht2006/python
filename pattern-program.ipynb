{
 "cells": [
  {
   "cell_type": "markdown",
   "id": "0c61bf35",
   "metadata": {
    "papermill": {
     "duration": 0.003154,
     "end_time": "2025-02-21T07:22:27.735056",
     "exception": false,
     "start_time": "2025-02-21T07:22:27.731902",
     "status": "completed"
    },
    "tags": []
   },
   "source": [
    "# Pattern Program"
   ]
  },
  {
   "cell_type": "code",
   "execution_count": 1,
   "id": "35610c1c",
   "metadata": {
    "execution": {
     "iopub.execute_input": "2025-02-21T07:22:27.741638Z",
     "iopub.status.busy": "2025-02-21T07:22:27.741258Z",
     "iopub.status.idle": "2025-02-21T07:22:27.754508Z",
     "shell.execute_reply": "2025-02-21T07:22:27.753456Z"
    },
    "papermill": {
     "duration": 0.018341,
     "end_time": "2025-02-21T07:22:27.756161",
     "exception": false,
     "start_time": "2025-02-21T07:22:27.737820",
     "status": "completed"
    },
    "tags": []
   },
   "outputs": [
    {
     "name": "stdout",
     "output_type": "stream",
     "text": [
      "* * * * * \n",
      "*       * \n",
      "*       * \n",
      "*       * \n",
      "* * * * * \n"
     ]
    }
   ],
   "source": [
    "n = 6\n",
    "for i in range(1,n):\n",
    "    for j in range(1,n):\n",
    "        if(i==1 or j==1 or j==n-1 or i==n-1):\n",
    "            print('* ',end='')\n",
    "        else:\n",
    "            print('  ',end='')\n",
    "    print()"
   ]
  },
  {
   "cell_type": "code",
   "execution_count": 2,
   "id": "ba59fe50",
   "metadata": {
    "execution": {
     "iopub.execute_input": "2025-02-21T07:22:27.762467Z",
     "iopub.status.busy": "2025-02-21T07:22:27.762156Z",
     "iopub.status.idle": "2025-02-21T07:22:27.776028Z",
     "shell.execute_reply": "2025-02-21T07:22:27.774791Z"
    },
    "papermill": {
     "duration": 0.018798,
     "end_time": "2025-02-21T07:22:27.777773",
     "exception": false,
     "start_time": "2025-02-21T07:22:27.758975",
     "status": "completed"
    },
    "tags": []
   },
   "outputs": [
    {
     "name": "stdout",
     "output_type": "stream",
     "text": [
      "    1 \n",
      "   1 2 \n",
      "  1 2 3 \n",
      " 1 2 3 4 \n",
      "1 2 3 4 5 \n"
     ]
    }
   ],
   "source": [
    "n = 6\n",
    "for i in range(1,n):\n",
    "    for k in range(1,n-i):\n",
    "        print(' ',end='')\n",
    "    for j in range(i):\n",
    "        print(j+1,'',end='')\n",
    "    print()"
   ]
  },
  {
   "cell_type": "code",
   "execution_count": 3,
   "id": "7daf78f1",
   "metadata": {
    "execution": {
     "iopub.execute_input": "2025-02-21T07:22:27.784201Z",
     "iopub.status.busy": "2025-02-21T07:22:27.783867Z",
     "iopub.status.idle": "2025-02-21T07:22:27.794190Z",
     "shell.execute_reply": "2025-02-21T07:22:27.793246Z"
    },
    "papermill": {
     "duration": 0.015271,
     "end_time": "2025-02-21T07:22:27.795759",
     "exception": false,
     "start_time": "2025-02-21T07:22:27.780488",
     "status": "completed"
    },
    "tags": []
   },
   "outputs": [
    {
     "name": "stdout",
     "output_type": "stream",
     "text": [
      "    1 \n",
      "   2 2 \n",
      "  3 3 3 \n",
      " 4 4 4 4 \n",
      "5 5 5 5 5 \n"
     ]
    }
   ],
   "source": [
    "n = 6\n",
    "for i in range(1,n):\n",
    "    for k in range(1,n-i):\n",
    "        print(' ',end='')\n",
    "    for j in range(i):\n",
    "        print(i,'',end='')\n",
    "    print()"
   ]
  },
  {
   "cell_type": "code",
   "execution_count": 4,
   "id": "189ee010",
   "metadata": {
    "execution": {
     "iopub.execute_input": "2025-02-21T07:22:27.802381Z",
     "iopub.status.busy": "2025-02-21T07:22:27.802092Z",
     "iopub.status.idle": "2025-02-21T07:22:27.811523Z",
     "shell.execute_reply": "2025-02-21T07:22:27.810382Z"
    },
    "papermill": {
     "duration": 0.014922,
     "end_time": "2025-02-21T07:22:27.813553",
     "exception": false,
     "start_time": "2025-02-21T07:22:27.798631",
     "status": "completed"
    },
    "tags": []
   },
   "outputs": [
    {
     "name": "stdout",
     "output_type": "stream",
     "text": [
      "1 \n",
      "1 2 \n",
      "1 2 3 \n",
      "1 2 3 4 \n",
      "1 2 3 4 5 \n"
     ]
    }
   ],
   "source": [
    "n = 6\n",
    "for i in range(1,n):\n",
    "    for j in range(1,i+1):\n",
    "        print(j,'',end='')\n",
    "    print()"
   ]
  },
  {
   "cell_type": "code",
   "execution_count": 5,
   "id": "5dfa4ff1",
   "metadata": {
    "execution": {
     "iopub.execute_input": "2025-02-21T07:22:27.820465Z",
     "iopub.status.busy": "2025-02-21T07:22:27.820162Z",
     "iopub.status.idle": "2025-02-21T07:22:27.830297Z",
     "shell.execute_reply": "2025-02-21T07:22:27.829309Z"
    },
    "papermill": {
     "duration": 0.015323,
     "end_time": "2025-02-21T07:22:27.831902",
     "exception": false,
     "start_time": "2025-02-21T07:22:27.816579",
     "status": "completed"
    },
    "tags": []
   },
   "outputs": [
    {
     "name": "stdout",
     "output_type": "stream",
     "text": [
      "1 2 3 4 5 \n",
      "1 2 3 4 \n",
      "1 2 3 \n",
      "1 2 \n",
      "1 \n"
     ]
    }
   ],
   "source": [
    "n = 6\n",
    "for i in range(n,1,-1):\n",
    "    for j in range(1,i):\n",
    "        print(j,'',end='')\n",
    "    print()"
   ]
  },
  {
   "cell_type": "code",
   "execution_count": 6,
   "id": "fa47d31d",
   "metadata": {
    "execution": {
     "iopub.execute_input": "2025-02-21T07:22:27.838767Z",
     "iopub.status.busy": "2025-02-21T07:22:27.838426Z",
     "iopub.status.idle": "2025-02-21T07:22:27.848713Z",
     "shell.execute_reply": "2025-02-21T07:22:27.847739Z"
    },
    "papermill": {
     "duration": 0.015447,
     "end_time": "2025-02-21T07:22:27.850336",
     "exception": false,
     "start_time": "2025-02-21T07:22:27.834889",
     "status": "completed"
    },
    "tags": []
   },
   "outputs": [
    {
     "name": "stdout",
     "output_type": "stream",
     "text": [
      "1 \n",
      "2 3 \n",
      "4 5 6 \n",
      "7 8 9 10 \n",
      "11 12 13 14 15 \n"
     ]
    }
   ],
   "source": [
    "n = 6\n",
    "start = 1;\n",
    "for i in range(1,n):\n",
    "    for j in range(1,i+1):\n",
    "        print(start,'',end='')\n",
    "        start += 1\n",
    "    print()"
   ]
  },
  {
   "cell_type": "code",
   "execution_count": 7,
   "id": "5c199fb9",
   "metadata": {
    "execution": {
     "iopub.execute_input": "2025-02-21T07:22:27.857409Z",
     "iopub.status.busy": "2025-02-21T07:22:27.857117Z",
     "iopub.status.idle": "2025-02-21T07:22:27.866327Z",
     "shell.execute_reply": "2025-02-21T07:22:27.865341Z"
    },
    "papermill": {
     "duration": 0.014572,
     "end_time": "2025-02-21T07:22:27.867989",
     "exception": false,
     "start_time": "2025-02-21T07:22:27.853417",
     "status": "completed"
    },
    "tags": []
   },
   "outputs": [
    {
     "name": "stdout",
     "output_type": "stream",
     "text": [
      "0 \n",
      "1 0 \n",
      "0 1 0 \n",
      "1 0 1 0 \n"
     ]
    }
   ],
   "source": [
    "n = 5\n",
    "o = 0\n",
    "e = 1\n",
    "for i in range(1,n):\n",
    "    for j in range(1,i+1):\n",
    "        if (i+j)%2==0:\n",
    "            print(o,'',end='')\n",
    "        else:\n",
    "            print(e,'',end='')\n",
    "    print()"
   ]
  },
  {
   "cell_type": "code",
   "execution_count": 8,
   "id": "61c2a83f",
   "metadata": {
    "execution": {
     "iopub.execute_input": "2025-02-21T07:22:27.875121Z",
     "iopub.status.busy": "2025-02-21T07:22:27.874801Z",
     "iopub.status.idle": "2025-02-21T07:22:27.885436Z",
     "shell.execute_reply": "2025-02-21T07:22:27.884723Z"
    },
    "papermill": {
     "duration": 0.015956,
     "end_time": "2025-02-21T07:22:27.887029",
     "exception": false,
     "start_time": "2025-02-21T07:22:27.871073",
     "status": "completed"
    },
    "tags": []
   },
   "outputs": [
    {
     "name": "stdout",
     "output_type": "stream",
     "text": [
      "        1 \n",
      "      2 1 2 \n",
      "    3 2 1 2 3 \n",
      "  4 3 2 1 2 3 4 \n"
     ]
    }
   ],
   "source": [
    "n = 5\n",
    "for i in range(1,n):\n",
    "    for k in range(n-i):\n",
    "        print('  ',end='')\n",
    "    for j in range(i,0,-1):\n",
    "        print(j,'',end='')\n",
    "    for l in range(1,i):\n",
    "        print(l+1,'',end='')\n",
    "    print()"
   ]
  }
 ],
 "metadata": {
  "kaggle": {
   "accelerator": "none",
   "dataSources": [],
   "dockerImageVersionId": 30918,
   "isGpuEnabled": false,
   "isInternetEnabled": false,
   "language": "python",
   "sourceType": "notebook"
  },
  "kernelspec": {
   "display_name": "Python 3",
   "language": "python",
   "name": "python3"
  },
  "language_info": {
   "codemirror_mode": {
    "name": "ipython",
    "version": 3
   },
   "file_extension": ".py",
   "mimetype": "text/x-python",
   "name": "python",
   "nbconvert_exporter": "python",
   "pygments_lexer": "ipython3",
   "version": "3.10.12"
  },
  "papermill": {
   "default_parameters": {},
   "duration": 3.275927,
   "end_time": "2025-02-21T07:22:28.308979",
   "environment_variables": {},
   "exception": null,
   "input_path": "__notebook__.ipynb",
   "output_path": "__notebook__.ipynb",
   "parameters": {},
   "start_time": "2025-02-21T07:22:25.033052",
   "version": "2.6.0"
  }
 },
 "nbformat": 4,
 "nbformat_minor": 5
}
