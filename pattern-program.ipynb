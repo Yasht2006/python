{
 "cells": [
  {
   "cell_type": "markdown",
   "id": "e29d24df",
   "metadata": {
    "papermill": {
     "duration": 0.008325,
     "end_time": "2025-02-22T14:31:21.477328",
     "exception": false,
     "start_time": "2025-02-22T14:31:21.469003",
     "status": "completed"
    },
    "tags": []
   },
   "source": [
    "# Pattern Program"
   ]
  },
  {
   "cell_type": "code",
   "execution_count": 1,
   "id": "82467114",
   "metadata": {
    "execution": {
     "iopub.execute_input": "2025-02-22T14:31:21.493112Z",
     "iopub.status.busy": "2025-02-22T14:31:21.492631Z",
     "iopub.status.idle": "2025-02-22T14:31:21.505461Z",
     "shell.execute_reply": "2025-02-22T14:31:21.503955Z"
    },
    "papermill": {
     "duration": 0.022957,
     "end_time": "2025-02-22T14:31:21.507484",
     "exception": false,
     "start_time": "2025-02-22T14:31:21.484527",
     "status": "completed"
    },
    "tags": []
   },
   "outputs": [
    {
     "name": "stdout",
     "output_type": "stream",
     "text": [
      "* * * * * \n",
      "*       * \n",
      "*       * \n",
      "*       * \n",
      "* * * * * \n"
     ]
    }
   ],
   "source": [
    "# 1. Square Hollow Pattern\n",
    "n = 6\n",
    "for i in range(1,n):\n",
    "    for j in range(1,n):\n",
    "        if(i==1 or j==1 or j==n-1 or i==n-1):\n",
    "            print('* ',end='')\n",
    "        else:\n",
    "            print('  ',end='')\n",
    "    print()"
   ]
  },
  {
   "cell_type": "code",
   "execution_count": 2,
   "id": "c1265628",
   "metadata": {
    "execution": {
     "iopub.execute_input": "2025-02-22T14:31:21.523891Z",
     "iopub.status.busy": "2025-02-22T14:31:21.523503Z",
     "iopub.status.idle": "2025-02-22T14:31:21.536450Z",
     "shell.execute_reply": "2025-02-22T14:31:21.535089Z"
    },
    "papermill": {
     "duration": 0.023685,
     "end_time": "2025-02-22T14:31:21.538872",
     "exception": false,
     "start_time": "2025-02-22T14:31:21.515187",
     "status": "completed"
    },
    "tags": []
   },
   "outputs": [
    {
     "name": "stdout",
     "output_type": "stream",
     "text": [
      "    1 \n",
      "   1 2 \n",
      "  1 2 3 \n",
      " 1 2 3 4 \n",
      "1 2 3 4 5 \n"
     ]
    }
   ],
   "source": [
    "# 2. Number triangle Pattern\n",
    "n = 6\n",
    "for i in range(1,n):\n",
    "    for k in range(1,n-i):\n",
    "        print(' ',end='')\n",
    "    for j in range(i):\n",
    "        print(j+1,'',end='')\n",
    "    print()"
   ]
  },
  {
   "cell_type": "code",
   "execution_count": 3,
   "id": "16f743cf",
   "metadata": {
    "execution": {
     "iopub.execute_input": "2025-02-22T14:31:21.556758Z",
     "iopub.status.busy": "2025-02-22T14:31:21.556306Z",
     "iopub.status.idle": "2025-02-22T14:31:21.571234Z",
     "shell.execute_reply": "2025-02-22T14:31:21.569822Z"
    },
    "papermill": {
     "duration": 0.026321,
     "end_time": "2025-02-22T14:31:21.573126",
     "exception": false,
     "start_time": "2025-02-22T14:31:21.546805",
     "status": "completed"
    },
    "tags": []
   },
   "outputs": [
    {
     "name": "stdout",
     "output_type": "stream",
     "text": [
      "    1 \n",
      "   2 2 \n",
      "  3 3 3 \n",
      " 4 4 4 4 \n",
      "5 5 5 5 5 \n"
     ]
    }
   ],
   "source": [
    "# 2. Number triangle Pattern\n",
    "n = 6\n",
    "for i in range(1,n):\n",
    "    for k in range(1,n-i):\n",
    "        print(' ',end='')\n",
    "    for j in range(i):\n",
    "        print(i,'',end='')\n",
    "    print()"
   ]
  },
  {
   "cell_type": "code",
   "execution_count": 4,
   "id": "4a1b1af6",
   "metadata": {
    "execution": {
     "iopub.execute_input": "2025-02-22T14:31:21.589281Z",
     "iopub.status.busy": "2025-02-22T14:31:21.588905Z",
     "iopub.status.idle": "2025-02-22T14:31:21.601359Z",
     "shell.execute_reply": "2025-02-22T14:31:21.600075Z"
    },
    "papermill": {
     "duration": 0.022575,
     "end_time": "2025-02-22T14:31:21.603306",
     "exception": false,
     "start_time": "2025-02-22T14:31:21.580731",
     "status": "completed"
    },
    "tags": []
   },
   "outputs": [
    {
     "name": "stdout",
     "output_type": "stream",
     "text": [
      "1 \n",
      "1 2 \n",
      "1 2 3 \n",
      "1 2 3 4 \n",
      "1 2 3 4 5 \n"
     ]
    }
   ],
   "source": [
    "# 3. Number-increasing Pyramid Pattern \n",
    "n = 6\n",
    "for i in range(1,n):\n",
    "    for j in range(1,i+1):\n",
    "        print(j,'',end='')\n",
    "    print()"
   ]
  },
  {
   "cell_type": "code",
   "execution_count": 5,
   "id": "2076efb4",
   "metadata": {
    "execution": {
     "iopub.execute_input": "2025-02-22T14:31:21.619451Z",
     "iopub.status.busy": "2025-02-22T14:31:21.619126Z",
     "iopub.status.idle": "2025-02-22T14:31:21.633108Z",
     "shell.execute_reply": "2025-02-22T14:31:21.631468Z"
    },
    "papermill": {
     "duration": 0.024076,
     "end_time": "2025-02-22T14:31:21.634987",
     "exception": false,
     "start_time": "2025-02-22T14:31:21.610911",
     "status": "completed"
    },
    "tags": []
   },
   "outputs": [
    {
     "name": "stdout",
     "output_type": "stream",
     "text": [
      "1 2 3 4 5 \n",
      "1 2 3 4 \n",
      "1 2 3 \n",
      "1 2 \n",
      "1 \n"
     ]
    }
   ],
   "source": [
    "# 4. Number-increasing Reverse Pyramid Pattern \n",
    "n = 6\n",
    "for i in range(n,1,-1):\n",
    "    for j in range(1,i):\n",
    "        print(j,'',end='')\n",
    "    print()"
   ]
  },
  {
   "cell_type": "code",
   "execution_count": 6,
   "id": "0a4b6fd1",
   "metadata": {
    "execution": {
     "iopub.execute_input": "2025-02-22T14:31:21.650967Z",
     "iopub.status.busy": "2025-02-22T14:31:21.650575Z",
     "iopub.status.idle": "2025-02-22T14:31:21.662390Z",
     "shell.execute_reply": "2025-02-22T14:31:21.661034Z"
    },
    "papermill": {
     "duration": 0.022021,
     "end_time": "2025-02-22T14:31:21.664409",
     "exception": false,
     "start_time": "2025-02-22T14:31:21.642388",
     "status": "completed"
    },
    "tags": []
   },
   "outputs": [
    {
     "name": "stdout",
     "output_type": "stream",
     "text": [
      "1 \n",
      "2 3 \n",
      "4 5 6 \n",
      "7 8 9 10 \n",
      "11 12 13 14 15 \n"
     ]
    }
   ],
   "source": [
    "# 5. Number-changing Pyramid Pattern \n",
    "n = 6\n",
    "start = 1;\n",
    "for i in range(1,n):\n",
    "    for j in range(1,i+1):\n",
    "        print(start,'',end='')\n",
    "        start += 1\n",
    "    print()"
   ]
  },
  {
   "cell_type": "code",
   "execution_count": 7,
   "id": "bc9e9339",
   "metadata": {
    "execution": {
     "iopub.execute_input": "2025-02-22T14:31:21.680732Z",
     "iopub.status.busy": "2025-02-22T14:31:21.680312Z",
     "iopub.status.idle": "2025-02-22T14:31:21.691221Z",
     "shell.execute_reply": "2025-02-22T14:31:21.689830Z"
    },
    "papermill": {
     "duration": 0.021276,
     "end_time": "2025-02-22T14:31:21.693301",
     "exception": false,
     "start_time": "2025-02-22T14:31:21.672025",
     "status": "completed"
    },
    "tags": []
   },
   "outputs": [
    {
     "name": "stdout",
     "output_type": "stream",
     "text": [
      "0 \n",
      "1 0 \n",
      "0 1 0 \n",
      "1 0 1 0 \n"
     ]
    }
   ],
   "source": [
    "# 6. Zero-One Triangle Pattern\n",
    "n = 5\n",
    "o = 0\n",
    "e = 1\n",
    "for i in range(1,n):\n",
    "    for j in range(1,i+1):\n",
    "        if (i+j)%2==0:\n",
    "            print(o,'',end='')\n",
    "        else:\n",
    "            print(e,'',end='')\n",
    "    print()"
   ]
  },
  {
   "cell_type": "code",
   "execution_count": 8,
   "id": "33bcfce4",
   "metadata": {
    "execution": {
     "iopub.execute_input": "2025-02-22T14:31:21.711167Z",
     "iopub.status.busy": "2025-02-22T14:31:21.710692Z",
     "iopub.status.idle": "2025-02-22T14:31:21.725963Z",
     "shell.execute_reply": "2025-02-22T14:31:21.722870Z"
    },
    "papermill": {
     "duration": 0.027234,
     "end_time": "2025-02-22T14:31:21.728299",
     "exception": false,
     "start_time": "2025-02-22T14:31:21.701065",
     "status": "completed"
    },
    "tags": []
   },
   "outputs": [
    {
     "name": "stdout",
     "output_type": "stream",
     "text": [
      "        1 \n",
      "      2 1 2 \n",
      "    3 2 1 2 3 \n",
      "  4 3 2 1 2 3 4 \n"
     ]
    }
   ],
   "source": [
    "# 7. Palindrome Triangle Pattern\n",
    "n = 5\n",
    "for i in range(1,n):\n",
    "    for k in range(n-i):\n",
    "        print('  ',end='')\n",
    "    for j in range(i,0,-1):\n",
    "        print(j,'',end='')\n",
    "    for l in range(1,i):\n",
    "        print(l+1,'',end='')\n",
    "    print()"
   ]
  },
  {
   "cell_type": "code",
   "execution_count": 9,
   "id": "c6020312",
   "metadata": {
    "execution": {
     "iopub.execute_input": "2025-02-22T14:31:21.745026Z",
     "iopub.status.busy": "2025-02-22T14:31:21.744541Z",
     "iopub.status.idle": "2025-02-22T14:31:21.758350Z",
     "shell.execute_reply": "2025-02-22T14:31:21.756913Z"
    },
    "papermill": {
     "duration": 0.024396,
     "end_time": "2025-02-22T14:31:21.760220",
     "exception": false,
     "start_time": "2025-02-22T14:31:21.735824",
     "status": "completed"
    },
    "tags": []
   },
   "outputs": [
    {
     "name": "stdout",
     "output_type": "stream",
     "text": [
      "    * * * * * \n",
      "   * * * * * \n",
      "  * * * * * \n",
      " * * * * * \n",
      "* * * * * \n"
     ]
    }
   ],
   "source": [
    "# 8. Rhombus Reverse Pattern\n",
    "n = 6\n",
    "for i in range(1,n):\n",
    "    for k in range(1,n-i):\n",
    "        print(' ',end='')\n",
    "    for j in range(1,n):\n",
    "        print('* ',end='')\n",
    "    print()"
   ]
  },
  {
   "cell_type": "code",
   "execution_count": 10,
   "id": "78728b08",
   "metadata": {
    "execution": {
     "iopub.execute_input": "2025-02-22T14:31:21.776878Z",
     "iopub.status.busy": "2025-02-22T14:31:21.776487Z",
     "iopub.status.idle": "2025-02-22T14:31:21.791913Z",
     "shell.execute_reply": "2025-02-22T14:31:21.790159Z"
    },
    "papermill": {
     "duration": 0.026048,
     "end_time": "2025-02-22T14:31:21.794075",
     "exception": false,
     "start_time": "2025-02-22T14:31:21.768027",
     "status": "completed"
    },
    "tags": []
   },
   "outputs": [
    {
     "name": "stdout",
     "output_type": "stream",
     "text": [
      "* * * * * \n",
      " * * * * * \n",
      "  * * * * * \n",
      "   * * * * * \n",
      "    * * * * * \n"
     ]
    }
   ],
   "source": [
    "# 8. Rhombus Pattern\n",
    "n = 6\n",
    "for i in range(1,n):\n",
    "    for k in range(1,i):\n",
    "        print(' ',end='')\n",
    "    for j in range(1,n):\n",
    "        print('* ',end='')\n",
    "    print()"
   ]
  },
  {
   "cell_type": "code",
   "execution_count": 11,
   "id": "f3650b7a",
   "metadata": {
    "execution": {
     "iopub.execute_input": "2025-02-22T14:31:21.813329Z",
     "iopub.status.busy": "2025-02-22T14:31:21.812966Z",
     "iopub.status.idle": "2025-02-22T14:31:21.829192Z",
     "shell.execute_reply": "2025-02-22T14:31:21.828042Z"
    },
    "papermill": {
     "duration": 0.028601,
     "end_time": "2025-02-22T14:31:21.830869",
     "exception": false,
     "start_time": "2025-02-22T14:31:21.802268",
     "status": "completed"
    },
    "tags": []
   },
   "outputs": [
    {
     "name": "stdout",
     "output_type": "stream",
     "text": [
      "        *   \n",
      "      *   *   \n",
      "    *   *   *   \n",
      "  *   *   *   *   \n",
      "*   *   *   *   *   \n",
      "  *   *   *   *   \n",
      "    *   *   *   \n",
      "      *   *   \n",
      "        *   \n"
     ]
    }
   ],
   "source": [
    "# 9. Diamond Star Pattern\n",
    "n = 6\n",
    "for i in range(1,n):\n",
    "    for k in range(1,n-i):\n",
    "        print('  ',end='')\n",
    "    for j in range(i):\n",
    "        print('*   ',end='')\n",
    "    print()\n",
    "for i in range(n-1,1,-1):\n",
    "    for k in range(n-i):\n",
    "        print('  ',end='')\n",
    "    for j in range(i-1):\n",
    "        print('*   ',end='')\n",
    "    print()"
   ]
  },
  {
   "cell_type": "code",
   "execution_count": 12,
   "id": "922319c8",
   "metadata": {
    "execution": {
     "iopub.execute_input": "2025-02-22T14:31:21.848764Z",
     "iopub.status.busy": "2025-02-22T14:31:21.848371Z",
     "iopub.status.idle": "2025-02-22T14:31:21.866148Z",
     "shell.execute_reply": "2025-02-22T14:31:21.865034Z"
    },
    "papermill": {
     "duration": 0.029392,
     "end_time": "2025-02-22T14:31:21.868387",
     "exception": false,
     "start_time": "2025-02-22T14:31:21.838995",
     "status": "completed"
    },
    "tags": []
   },
   "outputs": [
    {
     "name": "stdout",
     "output_type": "stream",
     "text": [
      "                    *  \n",
      "                *  *  \n",
      "            *  *  *  \n",
      "        *  *  *  *  \n",
      "    *  *  *  *  *  \n",
      "        *  *  *  *  \n",
      "            *  *  *  \n",
      "                *  *  \n",
      "                    *  \n"
     ]
    }
   ],
   "source": [
    "# Airoplane Pattern\n",
    "n = 6\n",
    "for i in range(1,n):\n",
    "    for k in range(n-i):\n",
    "        print('    ',end='')\n",
    "    for j in range(1,i+1):\n",
    "        print('*  ',end='')\n",
    "    print()\n",
    "for i in range(2,n):\n",
    "    for k in range(i):\n",
    "        print('    ',end='')\n",
    "    for j in range(n-i,0,-1):\n",
    "        print('*  ',end='')\n",
    "    print()"
   ]
  },
  {
   "cell_type": "code",
   "execution_count": 13,
   "id": "8df3befa",
   "metadata": {
    "execution": {
     "iopub.execute_input": "2025-02-22T14:31:21.887882Z",
     "iopub.status.busy": "2025-02-22T14:31:21.887441Z",
     "iopub.status.idle": "2025-02-22T14:31:21.914804Z",
     "shell.execute_reply": "2025-02-22T14:31:21.913034Z"
    },
    "papermill": {
     "duration": 0.039663,
     "end_time": "2025-02-22T14:31:21.916922",
     "exception": false,
     "start_time": "2025-02-22T14:31:21.877259",
     "status": "completed"
    },
    "tags": []
   },
   "outputs": [
    {
     "name": "stdout",
     "output_type": "stream",
     "text": [
      "*                 * \n",
      "* *             * * \n",
      "* * *         * * * \n",
      "* * * *     * * * * \n",
      "* * * * * * * * * * \n",
      "* * * * * * * * * * \n",
      "* * * *     * * * * \n",
      "* * *         * * * \n",
      "* *             * * \n",
      "*                 * \n"
     ]
    }
   ],
   "source": [
    "# 10. Butterfly Star Pattern\n",
    "n = 6\n",
    "for i in range(1,n):\n",
    "    for j in range(i):\n",
    "        print('* ',end='')\n",
    "    for k in range(2,2*(n-i)):\n",
    "        print('  ',end='')\n",
    "    for l in range(i):\n",
    "        print('* ',end='')\n",
    "    print()\n",
    "for i in range(n-1,0,-1):\n",
    "    for j in range(i):\n",
    "        print('* ',end='')\n",
    "    for k in range(2,2*(n-i)):\n",
    "        print('  ',end='')\n",
    "    for l in range(i):\n",
    "        print('* ',end='')\n",
    "    print()"
   ]
  },
  {
   "cell_type": "code",
   "execution_count": 14,
   "id": "155b3a64",
   "metadata": {
    "execution": {
     "iopub.execute_input": "2025-02-22T14:31:21.934827Z",
     "iopub.status.busy": "2025-02-22T14:31:21.934312Z",
     "iopub.status.idle": "2025-02-22T14:31:21.945706Z",
     "shell.execute_reply": "2025-02-22T14:31:21.942808Z"
    },
    "papermill": {
     "duration": 0.022849,
     "end_time": "2025-02-22T14:31:21.947903",
     "exception": false,
     "start_time": "2025-02-22T14:31:21.925054",
     "status": "completed"
    },
    "tags": []
   },
   "outputs": [
    {
     "name": "stdout",
     "output_type": "stream",
     "text": [
      "* * * * * \n",
      "* * * * * \n",
      "* * * * * \n",
      "* * * * * \n",
      "* * * * * \n"
     ]
    }
   ],
   "source": [
    "# 11. Square Fill Pattern\n",
    "n = 6\n",
    "for i in range(1,n):\n",
    "    for j in range(1,n):\n",
    "        print('* ',end='')\n",
    "    print()"
   ]
  },
  {
   "cell_type": "code",
   "execution_count": 15,
   "id": "fc129fef",
   "metadata": {
    "execution": {
     "iopub.execute_input": "2025-02-22T14:31:21.966036Z",
     "iopub.status.busy": "2025-02-22T14:31:21.965546Z",
     "iopub.status.idle": "2025-02-22T14:31:21.975332Z",
     "shell.execute_reply": "2025-02-22T14:31:21.973936Z"
    },
    "papermill": {
     "duration": 0.021281,
     "end_time": "2025-02-22T14:31:21.977259",
     "exception": false,
     "start_time": "2025-02-22T14:31:21.955978",
     "status": "completed"
    },
    "tags": []
   },
   "outputs": [
    {
     "name": "stdout",
     "output_type": "stream",
     "text": [
      "* \n",
      "* * \n",
      "* * * \n",
      "* * * * \n",
      "* * * * * \n"
     ]
    }
   ],
   "source": [
    "# 12. Right Half Pyramid Pattern\n",
    "n = 6\n",
    "for i in range(1,n):\n",
    "    for j in range(i):\n",
    "        print('* ',end='')\n",
    "    print()"
   ]
  },
  {
   "cell_type": "code",
   "execution_count": 16,
   "id": "9a26bb0e",
   "metadata": {
    "execution": {
     "iopub.execute_input": "2025-02-22T14:31:21.997384Z",
     "iopub.status.busy": "2025-02-22T14:31:21.996955Z",
     "iopub.status.idle": "2025-02-22T14:31:22.011522Z",
     "shell.execute_reply": "2025-02-22T14:31:22.009896Z"
    },
    "papermill": {
     "duration": 0.027498,
     "end_time": "2025-02-22T14:31:22.013859",
     "exception": false,
     "start_time": "2025-02-22T14:31:21.986361",
     "status": "completed"
    },
    "tags": []
   },
   "outputs": [
    {
     "name": "stdout",
     "output_type": "stream",
     "text": [
      "* * * * * \n",
      "* * * * \n",
      "* * * \n",
      "* * \n",
      "* \n"
     ]
    }
   ],
   "source": [
    "# 13. Reverse Right Half Pyramid Pattern\n",
    "n = 6\n",
    "for i in range(1,n):\n",
    "    for j in range(n-i):\n",
    "        print('* ',end='')\n",
    "    print()"
   ]
  },
  {
   "cell_type": "code",
   "execution_count": 17,
   "id": "49514ddb",
   "metadata": {
    "execution": {
     "iopub.execute_input": "2025-02-22T14:31:22.032808Z",
     "iopub.status.busy": "2025-02-22T14:31:22.032354Z",
     "iopub.status.idle": "2025-02-22T14:31:22.043950Z",
     "shell.execute_reply": "2025-02-22T14:31:22.042579Z"
    },
    "papermill": {
     "duration": 0.0236,
     "end_time": "2025-02-22T14:31:22.046114",
     "exception": false,
     "start_time": "2025-02-22T14:31:22.022514",
     "status": "completed"
    },
    "tags": []
   },
   "outputs": [
    {
     "name": "stdout",
     "output_type": "stream",
     "text": [
      "          * \n",
      "        * * \n",
      "      * * * \n",
      "    * * * * \n",
      "  * * * * * \n"
     ]
    }
   ],
   "source": [
    "# 14. Left Half Pyramid Pattern\n",
    "n = 6\n",
    "for i in range(1,n):\n",
    "    for k in range(n-i):\n",
    "        print('  ',end='')\n",
    "    for j in range(i):\n",
    "        print('* ',end='')\n",
    "    print()"
   ]
  },
  {
   "cell_type": "code",
   "execution_count": 18,
   "id": "1b6ae47e",
   "metadata": {
    "execution": {
     "iopub.execute_input": "2025-02-22T14:31:22.064322Z",
     "iopub.status.busy": "2025-02-22T14:31:22.063905Z",
     "iopub.status.idle": "2025-02-22T14:31:22.077279Z",
     "shell.execute_reply": "2025-02-22T14:31:22.075776Z"
    },
    "papermill": {
     "duration": 0.025287,
     "end_time": "2025-02-22T14:31:22.079697",
     "exception": false,
     "start_time": "2025-02-22T14:31:22.054410",
     "status": "completed"
    },
    "tags": []
   },
   "outputs": [
    {
     "name": "stdout",
     "output_type": "stream",
     "text": [
      "  * * * * * \n",
      "    * * * * \n",
      "      * * * \n",
      "        * * \n",
      "          * \n"
     ]
    }
   ],
   "source": [
    "# 15. Reverse Left Half Pyramid Pattern\n",
    "n = 6\n",
    "for i in range(1,n):\n",
    "    for k in range(i):\n",
    "        print('  ',end='')\n",
    "    for j in range(n-i):\n",
    "        print('* ',end='')\n",
    "    print()"
   ]
  },
  {
   "cell_type": "code",
   "execution_count": 19,
   "id": "51a697c8",
   "metadata": {
    "execution": {
     "iopub.execute_input": "2025-02-22T14:31:22.099129Z",
     "iopub.status.busy": "2025-02-22T14:31:22.098717Z",
     "iopub.status.idle": "2025-02-22T14:31:22.109194Z",
     "shell.execute_reply": "2025-02-22T14:31:22.106189Z"
    },
    "papermill": {
     "duration": 0.02295,
     "end_time": "2025-02-22T14:31:22.111415",
     "exception": false,
     "start_time": "2025-02-22T14:31:22.088465",
     "status": "completed"
    },
    "tags": []
   },
   "outputs": [
    {
     "name": "stdout",
     "output_type": "stream",
     "text": [
      "     * \n",
      "    * * \n",
      "   * * * \n",
      "  * * * * \n",
      " * * * * * \n"
     ]
    }
   ],
   "source": [
    "# 16. Triangle Star Pattern\n",
    "n = 6\n",
    "for i in range(1,n):\n",
    "    for k in range(n-i):\n",
    "        print(' ',end='')\n",
    "    for j in range(i):\n",
    "        print('* ',end='')\n",
    "    print()"
   ]
  },
  {
   "cell_type": "code",
   "execution_count": 20,
   "id": "5572d673",
   "metadata": {
    "execution": {
     "iopub.execute_input": "2025-02-22T14:31:22.131544Z",
     "iopub.status.busy": "2025-02-22T14:31:22.131147Z",
     "iopub.status.idle": "2025-02-22T14:31:22.147322Z",
     "shell.execute_reply": "2025-02-22T14:31:22.145922Z"
    },
    "papermill": {
     "duration": 0.028256,
     "end_time": "2025-02-22T14:31:22.149271",
     "exception": false,
     "start_time": "2025-02-22T14:31:22.121015",
     "status": "completed"
    },
    "tags": []
   },
   "outputs": [
    {
     "name": "stdout",
     "output_type": "stream",
     "text": [
      " 1 2 3 4 5 \n",
      "  2 3 4 5 \n",
      "   3 4 5 \n",
      "    4 5 \n",
      "     5 \n"
     ]
    }
   ],
   "source": [
    "# 17. Reverse number Triangle Pattern\n",
    "n = 6\n",
    "for i in range(1,n):\n",
    "    for k in range(i):\n",
    "        print(' ',end='')\n",
    "    for j in range(i,n):\n",
    "        print(j,'',end='')\n",
    "    print()"
   ]
  },
  {
   "cell_type": "code",
   "execution_count": 21,
   "id": "2cfa137d",
   "metadata": {
    "execution": {
     "iopub.execute_input": "2025-02-22T14:31:22.170612Z",
     "iopub.status.busy": "2025-02-22T14:31:22.169741Z",
     "iopub.status.idle": "2025-02-22T14:31:22.191862Z",
     "shell.execute_reply": "2025-02-22T14:31:22.190323Z"
    },
    "papermill": {
     "duration": 0.034843,
     "end_time": "2025-02-22T14:31:22.194268",
     "exception": false,
     "start_time": "2025-02-22T14:31:22.159425",
     "status": "completed"
    },
    "tags": []
   },
   "outputs": [
    {
     "name": "stdout",
     "output_type": "stream",
     "text": [
      " 1 2 3 4 5 \n",
      "  2 3 4 5 \n",
      "   3 4 5 \n",
      "    4 5 \n",
      "     5 \n",
      "    4 5 \n",
      "   3 4 5 \n",
      "  2 3 4 5 \n",
      " 1 2 3 4 5 \n"
     ]
    }
   ],
   "source": [
    "# 18. Mirror Image Triangle Pattern\n",
    "n = 6\n",
    "for i in range(1,n):\n",
    "    for k in range(i):\n",
    "        print(' ',end='')\n",
    "    for j in range(i,n):\n",
    "        print(j,'',end='')\n",
    "    print()\n",
    "for i in range(2,n):\n",
    "    for k in range(n-i):\n",
    "        print(' ',end='')\n",
    "    for j in range(i):\n",
    "        print(n-i+j,'',end='')\n",
    "    print()"
   ]
  },
  {
   "cell_type": "code",
   "execution_count": 22,
   "id": "b0c86bf1",
   "metadata": {
    "execution": {
     "iopub.execute_input": "2025-02-22T14:31:22.214403Z",
     "iopub.status.busy": "2025-02-22T14:31:22.214008Z",
     "iopub.status.idle": "2025-02-22T14:31:22.225749Z",
     "shell.execute_reply": "2025-02-22T14:31:22.224471Z"
    },
    "papermill": {
     "duration": 0.02435,
     "end_time": "2025-02-22T14:31:22.228156",
     "exception": false,
     "start_time": "2025-02-22T14:31:22.203806",
     "status": "completed"
    },
    "tags": []
   },
   "outputs": [
    {
     "name": "stdout",
     "output_type": "stream",
     "text": [
      "     * \n",
      "    * * \n",
      "   *   * \n",
      "  *     * \n",
      " * * * * * \n"
     ]
    }
   ],
   "source": [
    "# 19. Hollow Triangle Pattern\n",
    "n = 6\n",
    "for i in range(1,n):\n",
    "    for k in range(n-i):\n",
    "        print(' ',end='')\n",
    "    for j in range(1,i+1):\n",
    "        if(i==1 or j==1 or i==n-1 or j==i):\n",
    "            print('* ',end='')\n",
    "        else:\n",
    "            print('  ',end='')\n",
    "    print()"
   ]
  },
  {
   "cell_type": "code",
   "execution_count": 23,
   "id": "1c68812e",
   "metadata": {
    "execution": {
     "iopub.execute_input": "2025-02-22T14:31:22.248671Z",
     "iopub.status.busy": "2025-02-22T14:31:22.248246Z",
     "iopub.status.idle": "2025-02-22T14:31:22.260781Z",
     "shell.execute_reply": "2025-02-22T14:31:22.259469Z"
    },
    "papermill": {
     "duration": 0.025041,
     "end_time": "2025-02-22T14:31:22.263022",
     "exception": false,
     "start_time": "2025-02-22T14:31:22.237981",
     "status": "completed"
    },
    "tags": []
   },
   "outputs": [
    {
     "name": "stdout",
     "output_type": "stream",
     "text": [
      " * * * * * \n",
      "  *     * \n",
      "   *   * \n",
      "    * * \n",
      "     * \n"
     ]
    }
   ],
   "source": [
    "# 20. Hollow Reverse Triangle Pattern\n",
    "n = 6\n",
    "for i in range(1,n):\n",
    "    for k in range(1,i+1):\n",
    "        print(' ',end='')\n",
    "    for j in range(1,n-i+1):\n",
    "        if(i==1 or j==1 or j==n-i):\n",
    "            print('* ',end='')\n",
    "        else:\n",
    "            print('  ',end='')\n",
    "    print()"
   ]
  },
  {
   "cell_type": "code",
   "execution_count": 24,
   "id": "f1982fe2",
   "metadata": {
    "execution": {
     "iopub.execute_input": "2025-02-22T14:31:22.282090Z",
     "iopub.status.busy": "2025-02-22T14:31:22.281755Z",
     "iopub.status.idle": "2025-02-22T14:31:22.298957Z",
     "shell.execute_reply": "2025-02-22T14:31:22.296745Z"
    },
    "papermill": {
     "duration": 0.028826,
     "end_time": "2025-02-22T14:31:22.301045",
     "exception": false,
     "start_time": "2025-02-22T14:31:22.272219",
     "status": "completed"
    },
    "tags": []
   },
   "outputs": [
    {
     "name": "stdout",
     "output_type": "stream",
     "text": [
      "     * \n",
      "    * * \n",
      "   *   * \n",
      "  *     * \n",
      " *       * \n",
      "  *     * \n",
      "   *   * \n",
      "    * * \n",
      "     * \n"
     ]
    }
   ],
   "source": [
    "# 21. Hollow Diamond Pyramid\n",
    "n = 6\n",
    "for i in range(1,n):\n",
    "    for k in range(n-i):\n",
    "        print(' ',end='')\n",
    "    for j in range(1,i+1):\n",
    "        if(i==1 or j==1 or j==i):\n",
    "            print('* ',end='')\n",
    "        else:\n",
    "            print('  ',end='')\n",
    "    print()\n",
    "for i in range(2,n):\n",
    "    for k in range(1,i+1):\n",
    "        print(' ',end='')\n",
    "    for j in range(1,n-i+1):\n",
    "        if(i==1 or j==1 or j==n-i):\n",
    "            print('* ',end='')\n",
    "        else:\n",
    "            print('  ',end='')\n",
    "    print()"
   ]
  },
  {
   "cell_type": "code",
   "execution_count": 25,
   "id": "9d17df81",
   "metadata": {
    "execution": {
     "iopub.execute_input": "2025-02-22T14:31:22.320201Z",
     "iopub.status.busy": "2025-02-22T14:31:22.319790Z",
     "iopub.status.idle": "2025-02-22T14:31:22.338022Z",
     "shell.execute_reply": "2025-02-22T14:31:22.336371Z"
    },
    "papermill": {
     "duration": 0.030219,
     "end_time": "2025-02-22T14:31:22.340166",
     "exception": false,
     "start_time": "2025-02-22T14:31:22.309947",
     "status": "completed"
    },
    "tags": []
   },
   "outputs": [
    {
     "name": "stdout",
     "output_type": "stream",
     "text": [
      " * * * * * \n",
      "  *     * \n",
      "   *   * \n",
      "    * * \n",
      "     * \n",
      "    * * \n",
      "   *   * \n",
      "  *     * \n",
      " * * * * * \n"
     ]
    }
   ],
   "source": [
    "# 22. Hollow Hourglass Pattern\n",
    "n = 6\n",
    "for i in range(1,n):\n",
    "    for k in range(i):\n",
    "        print(' ',end='')\n",
    "    for j in range(1,n-i+1):\n",
    "        if(i==1 or i==n-1 or j==1 or j==n-i):\n",
    "            print('* ',end='')\n",
    "        else:\n",
    "            print('  ',end='')\n",
    "    print()\n",
    "for i in range(2,n):\n",
    "    for k in range(n-i):\n",
    "        print(' ',end='')\n",
    "    for j in range(1,i+1):\n",
    "        if(i==1 or i==n-1 or j==1 or j==i):\n",
    "            print('* ',end='')\n",
    "        else:\n",
    "            print('  ',end='')\n",
    "    print()"
   ]
  },
  {
   "cell_type": "code",
   "execution_count": 26,
   "id": "852a2a7b",
   "metadata": {
    "execution": {
     "iopub.execute_input": "2025-02-22T14:31:22.360516Z",
     "iopub.status.busy": "2025-02-22T14:31:22.360182Z",
     "iopub.status.idle": "2025-02-22T14:31:22.374615Z",
     "shell.execute_reply": "2025-02-22T14:31:22.368986Z"
    },
    "papermill": {
     "duration": 0.027073,
     "end_time": "2025-02-22T14:31:22.376775",
     "exception": false,
     "start_time": "2025-02-22T14:31:22.349702",
     "status": "completed"
    },
    "tags": []
   },
   "outputs": [
    {
     "name": "stdout",
     "output_type": "stream",
     "text": [
      "     1 \n",
      "    1 1 \n",
      "   1 2 1 \n",
      "  1 3 3 1 \n",
      " 1 4 6 4 1 \n"
     ]
    }
   ],
   "source": [
    "# 23. Pascal’s Triangle\n",
    "n = 6\n",
    "for i in range(1,n):\n",
    "    for k in range(n-i):\n",
    "        print(' ',end='')\n",
    "    val = 1\n",
    "    for j in range(1,i+1):\n",
    "        print(int(val),'',end='')\n",
    "        val = val * (i - j) / j\n",
    "    print()"
   ]
  },
  {
   "cell_type": "code",
   "execution_count": 27,
   "id": "fae2748e",
   "metadata": {
    "execution": {
     "iopub.execute_input": "2025-02-22T14:31:22.395904Z",
     "iopub.status.busy": "2025-02-22T14:31:22.395446Z",
     "iopub.status.idle": "2025-02-22T14:31:22.406060Z",
     "shell.execute_reply": "2025-02-22T14:31:22.404223Z"
    },
    "papermill": {
     "duration": 0.02241,
     "end_time": "2025-02-22T14:31:22.408063",
     "exception": false,
     "start_time": "2025-02-22T14:31:22.385653",
     "status": "completed"
    },
    "tags": []
   },
   "outputs": [
    {
     "name": "stdout",
     "output_type": "stream",
     "text": [
      "* \n",
      "* * \n",
      "* * * \n",
      "* * * * \n",
      "* * * * * \n",
      "* * * * \n",
      "* * * \n",
      "* * \n",
      "* \n"
     ]
    }
   ],
   "source": [
    "# 24. Right Pascal’s Triangle\n",
    "n = 6\n",
    "for i in range(1,n):\n",
    "    for j in range(i):\n",
    "        print('* ',end='')\n",
    "    print()\n",
    "for i in range(2,n):\n",
    "    for j in range(n-i):\n",
    "        print('* ',end='')\n",
    "    print()"
   ]
  },
  {
   "cell_type": "code",
   "execution_count": 28,
   "id": "119b6c44",
   "metadata": {
    "execution": {
     "iopub.execute_input": "2025-02-22T14:31:22.427672Z",
     "iopub.status.busy": "2025-02-22T14:31:22.427220Z",
     "iopub.status.idle": "2025-02-22T14:31:22.442520Z",
     "shell.execute_reply": "2025-02-22T14:31:22.440881Z"
    },
    "papermill": {
     "duration": 0.027504,
     "end_time": "2025-02-22T14:31:22.444632",
     "exception": false,
     "start_time": "2025-02-22T14:31:22.417128",
     "status": "completed"
    },
    "tags": []
   },
   "outputs": [
    {
     "name": "stdout",
     "output_type": "stream",
     "text": [
      "A \n",
      "A B A \n",
      "A B C B A \n",
      "A B C D C B A \n",
      "A B C D E D C B A \n"
     ]
    }
   ],
   "source": [
    "n = 6\n",
    "for i in range(1,n):\n",
    "    for j in range(1,i+1):\n",
    "        print(chr(64+j),'',end='')\n",
    "    for k in range(i-1,0,-1):\n",
    "        print(chr(64+k),'',end='')\n",
    "    print()"
   ]
  },
  {
   "cell_type": "code",
   "execution_count": 29,
   "id": "26c4d01a",
   "metadata": {
    "execution": {
     "iopub.execute_input": "2025-02-22T14:31:22.464425Z",
     "iopub.status.busy": "2025-02-22T14:31:22.464002Z",
     "iopub.status.idle": "2025-02-22T14:31:22.478764Z",
     "shell.execute_reply": "2025-02-22T14:31:22.477357Z"
    },
    "papermill": {
     "duration": 0.026972,
     "end_time": "2025-02-22T14:31:22.480752",
     "exception": false,
     "start_time": "2025-02-22T14:31:22.453780",
     "status": "completed"
    },
    "tags": []
   },
   "outputs": [
    {
     "name": "stdout",
     "output_type": "stream",
     "text": [
      "1 \n",
      "1 2 1 \n",
      "1 2 3 2 1 \n",
      "1 2 3 4 3 2 1 \n",
      "1 2 3 4 5 4 3 2 1 \n"
     ]
    }
   ],
   "source": [
    "n = 6\n",
    "for i in range(1,n):\n",
    "    for j in range(1,i+1):\n",
    "        print(j,'',end='')\n",
    "    for k in range(i-1,0,-1):\n",
    "        print(k,'',end='')\n",
    "    print()"
   ]
  },
  {
   "cell_type": "raw",
   "id": "a7db42de",
   "metadata": {
    "papermill": {
     "duration": 0.008517,
     "end_time": "2025-02-22T14:31:22.498551",
     "exception": false,
     "start_time": "2025-02-22T14:31:22.490034",
     "status": "completed"
    },
    "tags": []
   },
   "source": []
  },
  {
   "cell_type": "markdown",
   "id": "022c726a",
   "metadata": {
    "papermill": {
     "duration": 0.008604,
     "end_time": "2025-02-22T14:31:22.515814",
     "exception": false,
     "start_time": "2025-02-22T14:31:22.507210",
     "status": "completed"
    },
    "tags": []
   },
   "source": [
    "# Name Pattern"
   ]
  },
  {
   "cell_type": "code",
   "execution_count": 30,
   "id": "e727079f",
   "metadata": {
    "execution": {
     "iopub.execute_input": "2025-02-22T14:31:22.535034Z",
     "iopub.status.busy": "2025-02-22T14:31:22.534547Z",
     "iopub.status.idle": "2025-02-22T14:31:22.546665Z",
     "shell.execute_reply": "2025-02-22T14:31:22.545487Z"
    },
    "papermill": {
     "duration": 0.024111,
     "end_time": "2025-02-22T14:31:22.548628",
     "exception": false,
     "start_time": "2025-02-22T14:31:22.524517",
     "status": "completed"
    },
    "tags": []
   },
   "outputs": [
    {
     "name": "stdout",
     "output_type": "stream",
     "text": [
      "*       * \n",
      "  *   *   \n",
      "    * \n",
      "    * \n",
      "    * \n"
     ]
    }
   ],
   "source": [
    "# Y Pattern\n",
    "n = 3\n",
    "for i in range(1,n):\n",
    "    for j in range(1,i+1):\n",
    "        if i==1 or j==i:\n",
    "            print('* ',end='')\n",
    "        else:\n",
    "            print('  ',end='')\n",
    "    for k in range(3,2 * (n+1-i)):\n",
    "        print('  ',end='')\n",
    "    for l in range(1,i+1):\n",
    "        if l==1:\n",
    "            print('* ',end='')\n",
    "        else:\n",
    "            print('  ',end='')\n",
    "    print()\n",
    "for i in range(1,n+1):\n",
    "    for k in range((n-i)):\n",
    "        print('  ',end='')\n",
    "    for j in range(1,i+1):\n",
    "        if i==j:\n",
    "            print('* ',end='')\n",
    "        else:\n",
    "            print('  ',end='')\n",
    "    print()"
   ]
  },
  {
   "cell_type": "code",
   "execution_count": 31,
   "id": "43a8d11c",
   "metadata": {
    "execution": {
     "iopub.execute_input": "2025-02-22T14:31:22.570629Z",
     "iopub.status.busy": "2025-02-22T14:31:22.570213Z",
     "iopub.status.idle": "2025-02-22T14:31:22.583350Z",
     "shell.execute_reply": "2025-02-22T14:31:22.582036Z"
    },
    "papermill": {
     "duration": 0.026779,
     "end_time": "2025-02-22T14:31:22.585466",
     "exception": false,
     "start_time": "2025-02-22T14:31:22.558687",
     "status": "completed"
    },
    "tags": []
   },
   "outputs": [
    {
     "name": "stdout",
     "output_type": "stream",
     "text": [
      "     * \n",
      "    * * \n",
      "   *   * \n",
      "  * * * * \n",
      " *       * \n"
     ]
    }
   ],
   "source": [
    "# A Pattern\n",
    "n = 6\n",
    "for i in range(1,n):\n",
    "    for k in range(n-i):\n",
    "        print(' ',end='')\n",
    "    for j in range(1,i+1):\n",
    "        if i==1 or i==n-2 or j==1 or j==i:\n",
    "            print('* ',end='')\n",
    "        else:\n",
    "            print('  ',end='')\n",
    "    print()"
   ]
  },
  {
   "cell_type": "code",
   "execution_count": 32,
   "id": "d0e2e996",
   "metadata": {
    "execution": {
     "iopub.execute_input": "2025-02-22T14:31:22.605783Z",
     "iopub.status.busy": "2025-02-22T14:31:22.605395Z",
     "iopub.status.idle": "2025-02-22T14:31:22.617550Z",
     "shell.execute_reply": "2025-02-22T14:31:22.616019Z"
    },
    "papermill": {
     "duration": 0.024655,
     "end_time": "2025-02-22T14:31:22.619713",
     "exception": false,
     "start_time": "2025-02-22T14:31:22.595058",
     "status": "completed"
    },
    "tags": []
   },
   "outputs": [
    {
     "name": "stdout",
     "output_type": "stream",
     "text": [
      "* * * * * \n",
      "*         \n",
      "* * * * * \n",
      "        * \n",
      "* * * * * \n"
     ]
    }
   ],
   "source": [
    "# S Pattern\n",
    "import math\n",
    "n = 6\n",
    "for i in range(1,n):\n",
    "    for j in range(1,n):\n",
    "        if i==1 or i==n-1 or i==int(math.ceil((n-1)/2)) or (j==1 and i==2) or (j==n-1 and i==n-2):\n",
    "            print('* ',end='')\n",
    "        else:\n",
    "            print('  ',end='')\n",
    "    print()"
   ]
  },
  {
   "cell_type": "code",
   "execution_count": 33,
   "id": "8ac2cd8f",
   "metadata": {
    "execution": {
     "iopub.execute_input": "2025-02-22T14:31:22.640083Z",
     "iopub.status.busy": "2025-02-22T14:31:22.639581Z",
     "iopub.status.idle": "2025-02-22T14:31:22.648662Z",
     "shell.execute_reply": "2025-02-22T14:31:22.646664Z"
    },
    "papermill": {
     "duration": 0.021407,
     "end_time": "2025-02-22T14:31:22.650510",
     "exception": false,
     "start_time": "2025-02-22T14:31:22.629103",
     "status": "completed"
    },
    "tags": []
   },
   "outputs": [
    {
     "name": "stdout",
     "output_type": "stream",
     "text": [
      "*       * \n",
      "*       * \n",
      "* * * * * \n",
      "*       * \n",
      "*       * \n"
     ]
    }
   ],
   "source": [
    "# H Pattern\n",
    "import math\n",
    "n = 6\n",
    "for i in range(1,n):\n",
    "    for j in range(1,n):\n",
    "        if j==1 or j==n-1 or i==math.ceil((n-1)/2):\n",
    "            print('* ',end='')\n",
    "        else:\n",
    "            print('  ',end='')\n",
    "    print()"
   ]
  }
 ],
 "metadata": {
  "kaggle": {
   "accelerator": "none",
   "dataSources": [],
   "dockerImageVersionId": 30918,
   "isGpuEnabled": false,
   "isInternetEnabled": false,
   "language": "python",
   "sourceType": "notebook"
  },
  "kernelspec": {
   "display_name": "Python 3",
   "language": "python",
   "name": "python3"
  },
  "language_info": {
   "codemirror_mode": {
    "name": "ipython",
    "version": 3
   },
   "file_extension": ".py",
   "mimetype": "text/x-python",
   "name": "python",
   "nbconvert_exporter": "python",
   "pygments_lexer": "ipython3",
   "version": "3.10.12"
  },
  "papermill": {
   "default_parameters": {},
   "duration": 4.814648,
   "end_time": "2025-02-22T14:31:23.180939",
   "environment_variables": {},
   "exception": null,
   "input_path": "__notebook__.ipynb",
   "output_path": "__notebook__.ipynb",
   "parameters": {},
   "start_time": "2025-02-22T14:31:18.366291",
   "version": "2.6.0"
  }
 },
 "nbformat": 4,
 "nbformat_minor": 5
}
