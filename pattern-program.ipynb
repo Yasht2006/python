{
 "cells": [
  {
   "cell_type": "markdown",
   "id": "45849077",
   "metadata": {
    "papermill": {
     "duration": 0.006739,
     "end_time": "2025-02-21T12:17:08.847212",
     "exception": false,
     "start_time": "2025-02-21T12:17:08.840473",
     "status": "completed"
    },
    "tags": []
   },
   "source": [
    "# Pattern Program"
   ]
  },
  {
   "cell_type": "code",
   "execution_count": 1,
   "id": "73fd5d17",
   "metadata": {
    "execution": {
     "iopub.execute_input": "2025-02-21T12:17:08.861765Z",
     "iopub.status.busy": "2025-02-21T12:17:08.861242Z",
     "iopub.status.idle": "2025-02-21T12:17:08.873969Z",
     "shell.execute_reply": "2025-02-21T12:17:08.872815Z"
    },
    "papermill": {
     "duration": 0.022047,
     "end_time": "2025-02-21T12:17:08.875982",
     "exception": false,
     "start_time": "2025-02-21T12:17:08.853935",
     "status": "completed"
    },
    "tags": []
   },
   "outputs": [
    {
     "name": "stdout",
     "output_type": "stream",
     "text": [
      "* * * * * \n",
      "*       * \n",
      "*       * \n",
      "*       * \n",
      "* * * * * \n"
     ]
    }
   ],
   "source": [
    "# 1. Square Hollow Pattern\n",
    "n = 6\n",
    "for i in range(1,n):\n",
    "    for j in range(1,n):\n",
    "        if(i==1 or j==1 or j==n-1 or i==n-1):\n",
    "            print('* ',end='')\n",
    "        else:\n",
    "            print('  ',end='')\n",
    "    print()"
   ]
  },
  {
   "cell_type": "code",
   "execution_count": 2,
   "id": "5a1f7c98",
   "metadata": {
    "execution": {
     "iopub.execute_input": "2025-02-21T12:17:08.889655Z",
     "iopub.status.busy": "2025-02-21T12:17:08.889263Z",
     "iopub.status.idle": "2025-02-21T12:17:08.901652Z",
     "shell.execute_reply": "2025-02-21T12:17:08.900401Z"
    },
    "papermill": {
     "duration": 0.021586,
     "end_time": "2025-02-21T12:17:08.903681",
     "exception": false,
     "start_time": "2025-02-21T12:17:08.882095",
     "status": "completed"
    },
    "tags": []
   },
   "outputs": [
    {
     "name": "stdout",
     "output_type": "stream",
     "text": [
      "    1 \n",
      "   1 2 \n",
      "  1 2 3 \n",
      " 1 2 3 4 \n",
      "1 2 3 4 5 \n"
     ]
    }
   ],
   "source": [
    "# 2. Number triangle Pattern\n",
    "n = 6\n",
    "for i in range(1,n):\n",
    "    for k in range(1,n-i):\n",
    "        print(' ',end='')\n",
    "    for j in range(i):\n",
    "        print(j+1,'',end='')\n",
    "    print()"
   ]
  },
  {
   "cell_type": "code",
   "execution_count": 3,
   "id": "4e0ac9fe",
   "metadata": {
    "execution": {
     "iopub.execute_input": "2025-02-21T12:17:08.917931Z",
     "iopub.status.busy": "2025-02-21T12:17:08.917576Z",
     "iopub.status.idle": "2025-02-21T12:17:08.929204Z",
     "shell.execute_reply": "2025-02-21T12:17:08.927803Z"
    },
    "papermill": {
     "duration": 0.020911,
     "end_time": "2025-02-21T12:17:08.931129",
     "exception": false,
     "start_time": "2025-02-21T12:17:08.910218",
     "status": "completed"
    },
    "tags": []
   },
   "outputs": [
    {
     "name": "stdout",
     "output_type": "stream",
     "text": [
      "    1 \n",
      "   2 2 \n",
      "  3 3 3 \n",
      " 4 4 4 4 \n",
      "5 5 5 5 5 \n"
     ]
    }
   ],
   "source": [
    "# 2. Number triangle Pattern\n",
    "n = 6\n",
    "for i in range(1,n):\n",
    "    for k in range(1,n-i):\n",
    "        print(' ',end='')\n",
    "    for j in range(i):\n",
    "        print(i,'',end='')\n",
    "    print()"
   ]
  },
  {
   "cell_type": "code",
   "execution_count": 4,
   "id": "5d3645f9",
   "metadata": {
    "execution": {
     "iopub.execute_input": "2025-02-21T12:17:08.945276Z",
     "iopub.status.busy": "2025-02-21T12:17:08.944937Z",
     "iopub.status.idle": "2025-02-21T12:17:08.956862Z",
     "shell.execute_reply": "2025-02-21T12:17:08.954983Z"
    },
    "papermill": {
     "duration": 0.021155,
     "end_time": "2025-02-21T12:17:08.958822",
     "exception": false,
     "start_time": "2025-02-21T12:17:08.937667",
     "status": "completed"
    },
    "tags": []
   },
   "outputs": [
    {
     "name": "stdout",
     "output_type": "stream",
     "text": [
      "1 \n",
      "1 2 \n",
      "1 2 3 \n",
      "1 2 3 4 \n",
      "1 2 3 4 5 \n"
     ]
    }
   ],
   "source": [
    "# 3. Number-increasing Pyramid Pattern \n",
    "n = 6\n",
    "for i in range(1,n):\n",
    "    for j in range(1,i+1):\n",
    "        print(j,'',end='')\n",
    "    print()"
   ]
  },
  {
   "cell_type": "code",
   "execution_count": 5,
   "id": "4f755a9e",
   "metadata": {
    "execution": {
     "iopub.execute_input": "2025-02-21T12:17:08.972915Z",
     "iopub.status.busy": "2025-02-21T12:17:08.972566Z",
     "iopub.status.idle": "2025-02-21T12:17:08.983086Z",
     "shell.execute_reply": "2025-02-21T12:17:08.981985Z"
    },
    "papermill": {
     "duration": 0.019914,
     "end_time": "2025-02-21T12:17:08.985131",
     "exception": false,
     "start_time": "2025-02-21T12:17:08.965217",
     "status": "completed"
    },
    "tags": []
   },
   "outputs": [
    {
     "name": "stdout",
     "output_type": "stream",
     "text": [
      "1 2 3 4 5 \n",
      "1 2 3 4 \n",
      "1 2 3 \n",
      "1 2 \n",
      "1 \n"
     ]
    }
   ],
   "source": [
    "# 4. Number-increasing Reverse Pyramid Pattern \n",
    "n = 6\n",
    "for i in range(n,1,-1):\n",
    "    for j in range(1,i):\n",
    "        print(j,'',end='')\n",
    "    print()"
   ]
  },
  {
   "cell_type": "code",
   "execution_count": 6,
   "id": "1b24e28b",
   "metadata": {
    "execution": {
     "iopub.execute_input": "2025-02-21T12:17:08.999497Z",
     "iopub.status.busy": "2025-02-21T12:17:08.999089Z",
     "iopub.status.idle": "2025-02-21T12:17:09.008615Z",
     "shell.execute_reply": "2025-02-21T12:17:09.006247Z"
    },
    "papermill": {
     "duration": 0.019388,
     "end_time": "2025-02-21T12:17:09.011042",
     "exception": false,
     "start_time": "2025-02-21T12:17:08.991654",
     "status": "completed"
    },
    "tags": []
   },
   "outputs": [
    {
     "name": "stdout",
     "output_type": "stream",
     "text": [
      "1 \n",
      "2 3 \n",
      "4 5 6 \n",
      "7 8 9 10 \n",
      "11 12 13 14 15 \n"
     ]
    }
   ],
   "source": [
    "# 5. Number-changing Pyramid Pattern \n",
    "n = 6\n",
    "start = 1;\n",
    "for i in range(1,n):\n",
    "    for j in range(1,i+1):\n",
    "        print(start,'',end='')\n",
    "        start += 1\n",
    "    print()"
   ]
  },
  {
   "cell_type": "code",
   "execution_count": 7,
   "id": "68ba23dd",
   "metadata": {
    "execution": {
     "iopub.execute_input": "2025-02-21T12:17:09.025390Z",
     "iopub.status.busy": "2025-02-21T12:17:09.025046Z",
     "iopub.status.idle": "2025-02-21T12:17:09.036674Z",
     "shell.execute_reply": "2025-02-21T12:17:09.035548Z"
    },
    "papermill": {
     "duration": 0.021035,
     "end_time": "2025-02-21T12:17:09.038684",
     "exception": false,
     "start_time": "2025-02-21T12:17:09.017649",
     "status": "completed"
    },
    "tags": []
   },
   "outputs": [
    {
     "name": "stdout",
     "output_type": "stream",
     "text": [
      "0 \n",
      "1 0 \n",
      "0 1 0 \n",
      "1 0 1 0 \n"
     ]
    }
   ],
   "source": [
    "# 6. Zero-One Triangle Pattern\n",
    "n = 5\n",
    "o = 0\n",
    "e = 1\n",
    "for i in range(1,n):\n",
    "    for j in range(1,i+1):\n",
    "        if (i+j)%2==0:\n",
    "            print(o,'',end='')\n",
    "        else:\n",
    "            print(e,'',end='')\n",
    "    print()"
   ]
  },
  {
   "cell_type": "code",
   "execution_count": 8,
   "id": "e6c99eeb",
   "metadata": {
    "execution": {
     "iopub.execute_input": "2025-02-21T12:17:09.054083Z",
     "iopub.status.busy": "2025-02-21T12:17:09.053752Z",
     "iopub.status.idle": "2025-02-21T12:17:09.066614Z",
     "shell.execute_reply": "2025-02-21T12:17:09.065193Z"
    },
    "papermill": {
     "duration": 0.022203,
     "end_time": "2025-02-21T12:17:09.068523",
     "exception": false,
     "start_time": "2025-02-21T12:17:09.046320",
     "status": "completed"
    },
    "tags": []
   },
   "outputs": [
    {
     "name": "stdout",
     "output_type": "stream",
     "text": [
      "        1 \n",
      "      2 1 2 \n",
      "    3 2 1 2 3 \n",
      "  4 3 2 1 2 3 4 \n"
     ]
    }
   ],
   "source": [
    "# 7. Palindrome Triangle Pattern\n",
    "n = 5\n",
    "for i in range(1,n):\n",
    "    for k in range(n-i):\n",
    "        print('  ',end='')\n",
    "    for j in range(i,0,-1):\n",
    "        print(j,'',end='')\n",
    "    for l in range(1,i):\n",
    "        print(l+1,'',end='')\n",
    "    print()"
   ]
  },
  {
   "cell_type": "code",
   "execution_count": 9,
   "id": "be555a4a",
   "metadata": {
    "execution": {
     "iopub.execute_input": "2025-02-21T12:17:09.084685Z",
     "iopub.status.busy": "2025-02-21T12:17:09.084296Z",
     "iopub.status.idle": "2025-02-21T12:17:09.101306Z",
     "shell.execute_reply": "2025-02-21T12:17:09.099870Z"
    },
    "papermill": {
     "duration": 0.028268,
     "end_time": "2025-02-21T12:17:09.103424",
     "exception": false,
     "start_time": "2025-02-21T12:17:09.075156",
     "status": "completed"
    },
    "tags": []
   },
   "outputs": [
    {
     "name": "stdout",
     "output_type": "stream",
     "text": [
      "    * * * * * \n",
      "   * * * * * \n",
      "  * * * * * \n",
      " * * * * * \n",
      "* * * * * \n"
     ]
    }
   ],
   "source": [
    "# 8. Rhombus Reverse Pattern\n",
    "n = 6\n",
    "for i in range(1,n):\n",
    "    for k in range(1,n-i):\n",
    "        print(' ',end='')\n",
    "    for j in range(1,n):\n",
    "        print('* ',end='')\n",
    "    print()"
   ]
  },
  {
   "cell_type": "code",
   "execution_count": 10,
   "id": "675b27ef",
   "metadata": {
    "execution": {
     "iopub.execute_input": "2025-02-21T12:17:09.118819Z",
     "iopub.status.busy": "2025-02-21T12:17:09.118464Z",
     "iopub.status.idle": "2025-02-21T12:17:09.130093Z",
     "shell.execute_reply": "2025-02-21T12:17:09.128260Z"
    },
    "papermill": {
     "duration": 0.021137,
     "end_time": "2025-02-21T12:17:09.132104",
     "exception": false,
     "start_time": "2025-02-21T12:17:09.110967",
     "status": "completed"
    },
    "tags": []
   },
   "outputs": [
    {
     "name": "stdout",
     "output_type": "stream",
     "text": [
      "* * * * * \n",
      " * * * * * \n",
      "  * * * * * \n",
      "   * * * * * \n",
      "    * * * * * \n"
     ]
    }
   ],
   "source": [
    "# 8. Rhombus Pattern\n",
    "n = 6\n",
    "for i in range(1,n):\n",
    "    for k in range(1,i):\n",
    "        print(' ',end='')\n",
    "    for j in range(1,n):\n",
    "        print('* ',end='')\n",
    "    print()"
   ]
  },
  {
   "cell_type": "code",
   "execution_count": 11,
   "id": "5894b26e",
   "metadata": {
    "execution": {
     "iopub.execute_input": "2025-02-21T12:17:09.148560Z",
     "iopub.status.busy": "2025-02-21T12:17:09.148165Z",
     "iopub.status.idle": "2025-02-21T12:17:09.163071Z",
     "shell.execute_reply": "2025-02-21T12:17:09.161586Z"
    },
    "papermill": {
     "duration": 0.025128,
     "end_time": "2025-02-21T12:17:09.165065",
     "exception": false,
     "start_time": "2025-02-21T12:17:09.139937",
     "status": "completed"
    },
    "tags": []
   },
   "outputs": [
    {
     "name": "stdout",
     "output_type": "stream",
     "text": [
      "        *   \n",
      "      *   *   \n",
      "    *   *   *   \n",
      "  *   *   *   *   \n",
      "*   *   *   *   *   \n",
      "  *   *   *   *   \n",
      "    *   *   *   \n",
      "      *   *   \n",
      "        *   \n"
     ]
    }
   ],
   "source": [
    "# 9. Diamond Star Pattern\n",
    "n = 6\n",
    "for i in range(1,n):\n",
    "    for k in range(1,n-i):\n",
    "        print('  ',end='')\n",
    "    for j in range(i):\n",
    "        print('*   ',end='')\n",
    "    print()\n",
    "for i in range(n-1,1,-1):\n",
    "    for k in range(n-i):\n",
    "        print('  ',end='')\n",
    "    for j in range(i-1):\n",
    "        print('*   ',end='')\n",
    "    print()"
   ]
  },
  {
   "cell_type": "code",
   "execution_count": 12,
   "id": "7490a0e0",
   "metadata": {
    "execution": {
     "iopub.execute_input": "2025-02-21T12:17:09.180688Z",
     "iopub.status.busy": "2025-02-21T12:17:09.180301Z",
     "iopub.status.idle": "2025-02-21T12:17:09.210013Z",
     "shell.execute_reply": "2025-02-21T12:17:09.205326Z"
    },
    "papermill": {
     "duration": 0.039748,
     "end_time": "2025-02-21T12:17:09.212036",
     "exception": false,
     "start_time": "2025-02-21T12:17:09.172288",
     "status": "completed"
    },
    "tags": []
   },
   "outputs": [
    {
     "name": "stdout",
     "output_type": "stream",
     "text": [
      "*                 * \n",
      "* *             * * \n",
      "* * *         * * * \n",
      "* * * *     * * * * \n",
      "* * * * * * * * * * \n",
      "* * * * * * * * * * \n",
      "* * * *     * * * * \n",
      "* * *         * * * \n",
      "* *             * * \n",
      "*                 * \n"
     ]
    }
   ],
   "source": [
    "# 10. Butterfly Star Pattern\n",
    "n = 6\n",
    "for i in range(1,n):\n",
    "    for j in range(i):\n",
    "        print('* ',end='')\n",
    "    for k in range(2,2*(n-i)):\n",
    "        print('  ',end='')\n",
    "    for l in range(i):\n",
    "        print('* ',end='')\n",
    "    print()\n",
    "for i in range(n-1,0,-1):\n",
    "    for j in range(i):\n",
    "        print('* ',end='')\n",
    "    for k in range(2,2*(n-i)):\n",
    "        print('  ',end='')\n",
    "    for l in range(i):\n",
    "        print('* ',end='')\n",
    "    print()"
   ]
  },
  {
   "cell_type": "code",
   "execution_count": 13,
   "id": "50f8a874",
   "metadata": {
    "execution": {
     "iopub.execute_input": "2025-02-21T12:17:09.226974Z",
     "iopub.status.busy": "2025-02-21T12:17:09.226612Z",
     "iopub.status.idle": "2025-02-21T12:17:09.236473Z",
     "shell.execute_reply": "2025-02-21T12:17:09.234528Z"
    },
    "papermill": {
     "duration": 0.019625,
     "end_time": "2025-02-21T12:17:09.238509",
     "exception": false,
     "start_time": "2025-02-21T12:17:09.218884",
     "status": "completed"
    },
    "tags": []
   },
   "outputs": [
    {
     "name": "stdout",
     "output_type": "stream",
     "text": [
      "* * * * * \n",
      "* * * * * \n",
      "* * * * * \n",
      "* * * * * \n",
      "* * * * * \n"
     ]
    }
   ],
   "source": [
    "# 11. Square Fill Pattern\n",
    "n = 6\n",
    "for i in range(1,n):\n",
    "    for j in range(1,n):\n",
    "        print('* ',end='')\n",
    "    print()"
   ]
  },
  {
   "cell_type": "code",
   "execution_count": 14,
   "id": "8b8c1ea9",
   "metadata": {
    "execution": {
     "iopub.execute_input": "2025-02-21T12:17:09.254122Z",
     "iopub.status.busy": "2025-02-21T12:17:09.253767Z",
     "iopub.status.idle": "2025-02-21T12:17:09.264574Z",
     "shell.execute_reply": "2025-02-21T12:17:09.263392Z"
    },
    "papermill": {
     "duration": 0.02086,
     "end_time": "2025-02-21T12:17:09.266662",
     "exception": false,
     "start_time": "2025-02-21T12:17:09.245802",
     "status": "completed"
    },
    "tags": []
   },
   "outputs": [
    {
     "name": "stdout",
     "output_type": "stream",
     "text": [
      "* \n",
      "* * \n",
      "* * * \n",
      "* * * * \n",
      "* * * * * \n"
     ]
    }
   ],
   "source": [
    "# 12. Right Half Pyramid Pattern\n",
    "n = 6\n",
    "for i in range(1,n):\n",
    "    for j in range(i):\n",
    "        print('* ',end='')\n",
    "    print()"
   ]
  },
  {
   "cell_type": "code",
   "execution_count": 15,
   "id": "3ac902e2",
   "metadata": {
    "execution": {
     "iopub.execute_input": "2025-02-21T12:17:09.282245Z",
     "iopub.status.busy": "2025-02-21T12:17:09.281911Z",
     "iopub.status.idle": "2025-02-21T12:17:09.290774Z",
     "shell.execute_reply": "2025-02-21T12:17:09.289522Z"
    },
    "papermill": {
     "duration": 0.020003,
     "end_time": "2025-02-21T12:17:09.293847",
     "exception": false,
     "start_time": "2025-02-21T12:17:09.273844",
     "status": "completed"
    },
    "tags": []
   },
   "outputs": [
    {
     "name": "stdout",
     "output_type": "stream",
     "text": [
      "* * * * * \n",
      "* * * * \n",
      "* * * \n",
      "* * \n",
      "* \n"
     ]
    }
   ],
   "source": [
    "# 13. Reverse Right Half Pyramid Pattern\n",
    "n = 6\n",
    "for i in range(1,n):\n",
    "    for j in range(n-i):\n",
    "        print('* ',end='')\n",
    "    print()"
   ]
  },
  {
   "cell_type": "code",
   "execution_count": 16,
   "id": "bdaeaa35",
   "metadata": {
    "execution": {
     "iopub.execute_input": "2025-02-21T12:17:09.311018Z",
     "iopub.status.busy": "2025-02-21T12:17:09.310628Z",
     "iopub.status.idle": "2025-02-21T12:17:09.321336Z",
     "shell.execute_reply": "2025-02-21T12:17:09.320079Z"
    },
    "papermill": {
     "duration": 0.020879,
     "end_time": "2025-02-21T12:17:09.323156",
     "exception": false,
     "start_time": "2025-02-21T12:17:09.302277",
     "status": "completed"
    },
    "tags": []
   },
   "outputs": [
    {
     "name": "stdout",
     "output_type": "stream",
     "text": [
      "          * \n",
      "        * * \n",
      "      * * * \n",
      "    * * * * \n",
      "  * * * * * \n"
     ]
    }
   ],
   "source": [
    "# 14. Left Half Pyramid Pattern\n",
    "n = 6\n",
    "for i in range(1,n):\n",
    "    for k in range(n-i):\n",
    "        print('  ',end='')\n",
    "    for j in range(i):\n",
    "        print('* ',end='')\n",
    "    print()"
   ]
  },
  {
   "cell_type": "code",
   "execution_count": 17,
   "id": "52001cab",
   "metadata": {
    "execution": {
     "iopub.execute_input": "2025-02-21T12:17:09.340177Z",
     "iopub.status.busy": "2025-02-21T12:17:09.339796Z",
     "iopub.status.idle": "2025-02-21T12:17:09.349326Z",
     "shell.execute_reply": "2025-02-21T12:17:09.345729Z"
    },
    "papermill": {
     "duration": 0.021317,
     "end_time": "2025-02-21T12:17:09.352054",
     "exception": false,
     "start_time": "2025-02-21T12:17:09.330737",
     "status": "completed"
    },
    "tags": []
   },
   "outputs": [
    {
     "name": "stdout",
     "output_type": "stream",
     "text": [
      "  * * * * * \n",
      "    * * * * \n",
      "      * * * \n",
      "        * * \n",
      "          * \n"
     ]
    }
   ],
   "source": [
    "# 15. Reverse Left Half Pyramid Pattern\n",
    "n = 6\n",
    "for i in range(1,n):\n",
    "    for k in range(i):\n",
    "        print('  ',end='')\n",
    "    for j in range(n-i):\n",
    "        print('* ',end='')\n",
    "    print()"
   ]
  },
  {
   "cell_type": "code",
   "execution_count": 18,
   "id": "4e72fe0c",
   "metadata": {
    "execution": {
     "iopub.execute_input": "2025-02-21T12:17:09.368182Z",
     "iopub.status.busy": "2025-02-21T12:17:09.367828Z",
     "iopub.status.idle": "2025-02-21T12:17:09.378957Z",
     "shell.execute_reply": "2025-02-21T12:17:09.375653Z"
    },
    "papermill": {
     "duration": 0.021552,
     "end_time": "2025-02-21T12:17:09.380889",
     "exception": false,
     "start_time": "2025-02-21T12:17:09.359337",
     "status": "completed"
    },
    "tags": []
   },
   "outputs": [
    {
     "name": "stdout",
     "output_type": "stream",
     "text": [
      "     * \n",
      "    * * \n",
      "   * * * \n",
      "  * * * * \n",
      " * * * * * \n"
     ]
    }
   ],
   "source": [
    "# 16. Triangle Star Pattern\n",
    "n = 6\n",
    "for i in range(1,n):\n",
    "    for k in range(n-i):\n",
    "        print(' ',end='')\n",
    "    for j in range(i):\n",
    "        print('* ',end='')\n",
    "    print()"
   ]
  },
  {
   "cell_type": "code",
   "execution_count": 19,
   "id": "0acbdabe",
   "metadata": {
    "execution": {
     "iopub.execute_input": "2025-02-21T12:17:09.397689Z",
     "iopub.status.busy": "2025-02-21T12:17:09.397290Z",
     "iopub.status.idle": "2025-02-21T12:17:09.410635Z",
     "shell.execute_reply": "2025-02-21T12:17:09.408388Z"
    },
    "papermill": {
     "duration": 0.023841,
     "end_time": "2025-02-21T12:17:09.412577",
     "exception": false,
     "start_time": "2025-02-21T12:17:09.388736",
     "status": "completed"
    },
    "tags": []
   },
   "outputs": [
    {
     "name": "stdout",
     "output_type": "stream",
     "text": [
      " 1 2 3 4 5 \n",
      "  2 3 4 5 \n",
      "   3 4 5 \n",
      "    4 5 \n",
      "     5 \n"
     ]
    }
   ],
   "source": [
    "# 17. Reverse number Triangle Pattern\n",
    "n = 6\n",
    "for i in range(1,n):\n",
    "    for k in range(i):\n",
    "        print(' ',end='')\n",
    "    for j in range(i,n):\n",
    "        print(j,'',end='')\n",
    "    print()"
   ]
  },
  {
   "cell_type": "code",
   "execution_count": 20,
   "id": "567b7818",
   "metadata": {
    "execution": {
     "iopub.execute_input": "2025-02-21T12:17:09.430505Z",
     "iopub.status.busy": "2025-02-21T12:17:09.430117Z",
     "iopub.status.idle": "2025-02-21T12:17:09.457264Z",
     "shell.execute_reply": "2025-02-21T12:17:09.455930Z"
    },
    "papermill": {
     "duration": 0.037406,
     "end_time": "2025-02-21T12:17:09.459055",
     "exception": false,
     "start_time": "2025-02-21T12:17:09.421649",
     "status": "completed"
    },
    "tags": []
   },
   "outputs": [
    {
     "name": "stdout",
     "output_type": "stream",
     "text": [
      " 1 2 3 4 5 \n",
      "  2 3 4 5 \n",
      "   3 4 5 \n",
      "    4 5 \n",
      "     5 \n",
      "    4 5 \n",
      "   3 4 5 \n",
      "  2 3 4 5 \n",
      " 1 2 3 4 5 \n"
     ]
    }
   ],
   "source": [
    "# 18. Mirror Image Triangle Pattern\n",
    "n = 6\n",
    "for i in range(1,n):\n",
    "    for k in range(i):\n",
    "        print(' ',end='')\n",
    "    for j in range(i,n):\n",
    "        print(j,'',end='')\n",
    "    print()\n",
    "for i in range(2,n):\n",
    "    for k in range(n-i):\n",
    "        print(' ',end='')\n",
    "    for j in range(i):\n",
    "        print(n-i+j,'',end='')\n",
    "    print()"
   ]
  },
  {
   "cell_type": "code",
   "execution_count": 21,
   "id": "534f6e01",
   "metadata": {
    "execution": {
     "iopub.execute_input": "2025-02-21T12:17:09.475530Z",
     "iopub.status.busy": "2025-02-21T12:17:09.475107Z",
     "iopub.status.idle": "2025-02-21T12:17:09.485414Z",
     "shell.execute_reply": "2025-02-21T12:17:09.484483Z"
    },
    "papermill": {
     "duration": 0.0206,
     "end_time": "2025-02-21T12:17:09.487310",
     "exception": false,
     "start_time": "2025-02-21T12:17:09.466710",
     "status": "completed"
    },
    "tags": []
   },
   "outputs": [
    {
     "name": "stdout",
     "output_type": "stream",
     "text": [
      "     * \n",
      "    * * \n",
      "   *   * \n",
      "  *     * \n",
      " * * * * * \n"
     ]
    }
   ],
   "source": [
    "# 19. Hollow Triangle Pattern\n",
    "n = 6\n",
    "for i in range(1,n):\n",
    "    for k in range(n-i):\n",
    "        print(' ',end='')\n",
    "    for j in range(1,i+1):\n",
    "        if(i==1 or j==1 or i==n-1 or j==i):\n",
    "            print('* ',end='')\n",
    "        else:\n",
    "            print('  ',end='')\n",
    "    print()"
   ]
  },
  {
   "cell_type": "code",
   "execution_count": 22,
   "id": "43703875",
   "metadata": {
    "execution": {
     "iopub.execute_input": "2025-02-21T12:17:09.504489Z",
     "iopub.status.busy": "2025-02-21T12:17:09.504017Z",
     "iopub.status.idle": "2025-02-21T12:17:09.517836Z",
     "shell.execute_reply": "2025-02-21T12:17:09.516711Z"
    },
    "papermill": {
     "duration": 0.02441,
     "end_time": "2025-02-21T12:17:09.519759",
     "exception": false,
     "start_time": "2025-02-21T12:17:09.495349",
     "status": "completed"
    },
    "tags": []
   },
   "outputs": [
    {
     "name": "stdout",
     "output_type": "stream",
     "text": [
      " * * * * * \n",
      "  *     * \n",
      "   *   * \n",
      "    * * \n",
      "     * \n"
     ]
    }
   ],
   "source": [
    "# 20. Hollow Reverse Triangle Pattern\n",
    "n = 6\n",
    "for i in range(1,n):\n",
    "    for k in range(1,i+1):\n",
    "        print(' ',end='')\n",
    "    for j in range(1,n-i+1):\n",
    "        if(i==1 or j==1 or j==n-i):\n",
    "            print('* ',end='')\n",
    "        else:\n",
    "            print('  ',end='')\n",
    "    print()"
   ]
  },
  {
   "cell_type": "code",
   "execution_count": 23,
   "id": "f109ed05",
   "metadata": {
    "execution": {
     "iopub.execute_input": "2025-02-21T12:17:09.537119Z",
     "iopub.status.busy": "2025-02-21T12:17:09.536758Z",
     "iopub.status.idle": "2025-02-21T12:17:09.550446Z",
     "shell.execute_reply": "2025-02-21T12:17:09.547823Z"
    },
    "papermill": {
     "duration": 0.024852,
     "end_time": "2025-02-21T12:17:09.552881",
     "exception": false,
     "start_time": "2025-02-21T12:17:09.528029",
     "status": "completed"
    },
    "tags": []
   },
   "outputs": [
    {
     "name": "stdout",
     "output_type": "stream",
     "text": [
      "     * \n",
      "    * * \n",
      "   *   * \n",
      "  *     * \n",
      " *       * \n",
      "  *     * \n",
      "   *   * \n",
      "    * * \n",
      "     * \n"
     ]
    }
   ],
   "source": [
    "# 21. Hollow Diamond Pyramid\n",
    "n = 6\n",
    "for i in range(1,n):\n",
    "    for k in range(n-i):\n",
    "        print(' ',end='')\n",
    "    for j in range(1,i+1):\n",
    "        if(i==1 or j==1 or j==i):\n",
    "            print('* ',end='')\n",
    "        else:\n",
    "            print('  ',end='')\n",
    "    print()\n",
    "for i in range(2,n):\n",
    "    for k in range(1,i+1):\n",
    "        print(' ',end='')\n",
    "    for j in range(1,n-i+1):\n",
    "        if(i==1 or j==1 or j==n-i):\n",
    "            print('* ',end='')\n",
    "        else:\n",
    "            print('  ',end='')\n",
    "    print()"
   ]
  },
  {
   "cell_type": "code",
   "execution_count": 24,
   "id": "7c5ce99a",
   "metadata": {
    "execution": {
     "iopub.execute_input": "2025-02-21T12:17:09.570425Z",
     "iopub.status.busy": "2025-02-21T12:17:09.570089Z",
     "iopub.status.idle": "2025-02-21T12:17:09.588194Z",
     "shell.execute_reply": "2025-02-21T12:17:09.587095Z"
    },
    "papermill": {
     "duration": 0.02878,
     "end_time": "2025-02-21T12:17:09.589938",
     "exception": false,
     "start_time": "2025-02-21T12:17:09.561158",
     "status": "completed"
    },
    "tags": []
   },
   "outputs": [
    {
     "name": "stdout",
     "output_type": "stream",
     "text": [
      " * * * * * \n",
      "  *     * \n",
      "   *   * \n",
      "    * * \n",
      "     * \n",
      "    * * \n",
      "   *   * \n",
      "  *     * \n",
      " * * * * * \n"
     ]
    }
   ],
   "source": [
    "# 22. Hollow Hourglass Pattern\n",
    "n = 6\n",
    "for i in range(1,n):\n",
    "    for k in range(i):\n",
    "        print(' ',end='')\n",
    "    for j in range(1,n-i+1):\n",
    "        if(i==1 or i==n-1 or j==1 or j==n-i):\n",
    "            print('* ',end='')\n",
    "        else:\n",
    "            print('  ',end='')\n",
    "    print()\n",
    "for i in range(2,n):\n",
    "    for k in range(n-i):\n",
    "        print(' ',end='')\n",
    "    for j in range(1,i+1):\n",
    "        if(i==1 or i==n-1 or j==1 or j==i):\n",
    "            print('* ',end='')\n",
    "        else:\n",
    "            print('  ',end='')\n",
    "    print()"
   ]
  },
  {
   "cell_type": "code",
   "execution_count": 25,
   "id": "00591b23",
   "metadata": {
    "execution": {
     "iopub.execute_input": "2025-02-21T12:17:09.607329Z",
     "iopub.status.busy": "2025-02-21T12:17:09.606978Z",
     "iopub.status.idle": "2025-02-21T12:17:09.620030Z",
     "shell.execute_reply": "2025-02-21T12:17:09.618824Z"
    },
    "papermill": {
     "duration": 0.023775,
     "end_time": "2025-02-21T12:17:09.621781",
     "exception": false,
     "start_time": "2025-02-21T12:17:09.598006",
     "status": "completed"
    },
    "tags": []
   },
   "outputs": [
    {
     "name": "stdout",
     "output_type": "stream",
     "text": [
      "     1 \n",
      "    1 1 \n",
      "   1 2 1 \n",
      "  1 3 3 1 \n",
      " 1 4 6 4 1 \n"
     ]
    }
   ],
   "source": [
    "# 23. Pascal’s Triangle\n",
    "n = 6\n",
    "for i in range(1,n):\n",
    "    for k in range(n-i):\n",
    "        print(' ',end='')\n",
    "    val = 1\n",
    "    for j in range(1,i+1):\n",
    "        print(int(val),'',end='')\n",
    "        val = val * (i - j) / j\n",
    "    print()"
   ]
  },
  {
   "cell_type": "code",
   "execution_count": 26,
   "id": "ed3ee437",
   "metadata": {
    "execution": {
     "iopub.execute_input": "2025-02-21T12:17:09.639485Z",
     "iopub.status.busy": "2025-02-21T12:17:09.639031Z",
     "iopub.status.idle": "2025-02-21T12:17:09.648472Z",
     "shell.execute_reply": "2025-02-21T12:17:09.647336Z"
    },
    "papermill": {
     "duration": 0.020765,
     "end_time": "2025-02-21T12:17:09.650547",
     "exception": false,
     "start_time": "2025-02-21T12:17:09.629782",
     "status": "completed"
    },
    "tags": []
   },
   "outputs": [
    {
     "name": "stdout",
     "output_type": "stream",
     "text": [
      "* \n",
      "* * \n",
      "* * * \n",
      "* * * * \n",
      "* * * * * \n",
      "* * * * \n",
      "* * * \n",
      "* * \n",
      "* \n"
     ]
    }
   ],
   "source": [
    "# 24. Right Pascal’s Triangle\n",
    "n = 6\n",
    "for i in range(1,n):\n",
    "    for j in range(i):\n",
    "        print('* ',end='')\n",
    "    print()\n",
    "for i in range(2,n):\n",
    "    for j in range(n-i):\n",
    "        print('* ',end='')\n",
    "    print()"
   ]
  },
  {
   "cell_type": "code",
   "execution_count": 27,
   "id": "a332e40f",
   "metadata": {
    "execution": {
     "iopub.execute_input": "2025-02-21T12:17:09.668252Z",
     "iopub.status.busy": "2025-02-21T12:17:09.667932Z",
     "iopub.status.idle": "2025-02-21T12:17:09.681602Z",
     "shell.execute_reply": "2025-02-21T12:17:09.680195Z"
    },
    "papermill": {
     "duration": 0.02458,
     "end_time": "2025-02-21T12:17:09.683388",
     "exception": false,
     "start_time": "2025-02-21T12:17:09.658808",
     "status": "completed"
    },
    "tags": []
   },
   "outputs": [
    {
     "name": "stdout",
     "output_type": "stream",
     "text": [
      "A \n",
      "A B A \n",
      "A B C B A \n",
      "A B C D C B A \n",
      "A B C D E D C B A \n"
     ]
    }
   ],
   "source": [
    "n = 6\n",
    "for i in range(1,n):\n",
    "    for j in range(1,i+1):\n",
    "        print(chr(64+j),'',end='')\n",
    "    for k in range(i-1,0,-1):\n",
    "        print(chr(64+k),'',end='')\n",
    "    print()"
   ]
  },
  {
   "cell_type": "code",
   "execution_count": 28,
   "id": "43e223b4",
   "metadata": {
    "execution": {
     "iopub.execute_input": "2025-02-21T12:17:09.700861Z",
     "iopub.status.busy": "2025-02-21T12:17:09.700419Z",
     "iopub.status.idle": "2025-02-21T12:17:09.716512Z",
     "shell.execute_reply": "2025-02-21T12:17:09.715342Z"
    },
    "papermill": {
     "duration": 0.027014,
     "end_time": "2025-02-21T12:17:09.718643",
     "exception": false,
     "start_time": "2025-02-21T12:17:09.691629",
     "status": "completed"
    },
    "tags": []
   },
   "outputs": [
    {
     "name": "stdout",
     "output_type": "stream",
     "text": [
      "1 \n",
      "1 2 1 \n",
      "1 2 3 2 1 \n",
      "1 2 3 4 3 2 1 \n",
      "1 2 3 4 5 4 3 2 1 \n"
     ]
    }
   ],
   "source": [
    "n = 6\n",
    "for i in range(1,n):\n",
    "    for j in range(1,i+1):\n",
    "        print(j,'',end='')\n",
    "    for k in range(i-1,0,-1):\n",
    "        print(k,'',end='')\n",
    "    print()"
   ]
  }
 ],
 "metadata": {
  "kaggle": {
   "accelerator": "none",
   "dataSources": [],
   "dockerImageVersionId": 30918,
   "isGpuEnabled": false,
   "isInternetEnabled": false,
   "language": "python",
   "sourceType": "notebook"
  },
  "kernelspec": {
   "display_name": "Python 3",
   "language": "python",
   "name": "python3"
  },
  "language_info": {
   "codemirror_mode": {
    "name": "ipython",
    "version": 3
   },
   "file_extension": ".py",
   "mimetype": "text/x-python",
   "name": "python",
   "nbconvert_exporter": "python",
   "pygments_lexer": "ipython3",
   "version": "3.10.12"
  },
  "papermill": {
   "default_parameters": {},
   "duration": 4.369566,
   "end_time": "2025-02-21T12:17:10.247640",
   "environment_variables": {},
   "exception": null,
   "input_path": "__notebook__.ipynb",
   "output_path": "__notebook__.ipynb",
   "parameters": {},
   "start_time": "2025-02-21T12:17:05.878074",
   "version": "2.6.0"
  }
 },
 "nbformat": 4,
 "nbformat_minor": 5
}
