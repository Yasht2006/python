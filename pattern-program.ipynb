{
 "cells": [
  {
   "cell_type": "markdown",
   "id": "6e599a99",
   "metadata": {
    "papermill": {
     "duration": 0.007019,
     "end_time": "2025-02-22T14:08:24.971928",
     "exception": false,
     "start_time": "2025-02-22T14:08:24.964909",
     "status": "completed"
    },
    "tags": []
   },
   "source": [
    "# Pattern Program"
   ]
  },
  {
   "cell_type": "code",
   "execution_count": 1,
   "id": "050fb7ee",
   "metadata": {
    "execution": {
     "iopub.execute_input": "2025-02-22T14:08:24.986838Z",
     "iopub.status.busy": "2025-02-22T14:08:24.986473Z",
     "iopub.status.idle": "2025-02-22T14:08:24.997261Z",
     "shell.execute_reply": "2025-02-22T14:08:24.995215Z"
    },
    "papermill": {
     "duration": 0.020111,
     "end_time": "2025-02-22T14:08:24.999112",
     "exception": false,
     "start_time": "2025-02-22T14:08:24.979001",
     "status": "completed"
    },
    "tags": []
   },
   "outputs": [
    {
     "name": "stdout",
     "output_type": "stream",
     "text": [
      "* * * * * \n",
      "*       * \n",
      "*       * \n",
      "*       * \n",
      "* * * * * \n"
     ]
    }
   ],
   "source": [
    "# 1. Square Hollow Pattern\n",
    "n = 6\n",
    "for i in range(1,n):\n",
    "    for j in range(1,n):\n",
    "        if(i==1 or j==1 or j==n-1 or i==n-1):\n",
    "            print('* ',end='')\n",
    "        else:\n",
    "            print('  ',end='')\n",
    "    print()"
   ]
  },
  {
   "cell_type": "code",
   "execution_count": 2,
   "id": "6c33b5a9",
   "metadata": {
    "execution": {
     "iopub.execute_input": "2025-02-22T14:08:25.013649Z",
     "iopub.status.busy": "2025-02-22T14:08:25.013279Z",
     "iopub.status.idle": "2025-02-22T14:08:25.026187Z",
     "shell.execute_reply": "2025-02-22T14:08:25.024879Z"
    },
    "papermill": {
     "duration": 0.02211,
     "end_time": "2025-02-22T14:08:25.027969",
     "exception": false,
     "start_time": "2025-02-22T14:08:25.005859",
     "status": "completed"
    },
    "tags": []
   },
   "outputs": [
    {
     "name": "stdout",
     "output_type": "stream",
     "text": [
      "    1 \n",
      "   1 2 \n",
      "  1 2 3 \n",
      " 1 2 3 4 \n",
      "1 2 3 4 5 \n"
     ]
    }
   ],
   "source": [
    "# 2. Number triangle Pattern\n",
    "n = 6\n",
    "for i in range(1,n):\n",
    "    for k in range(1,n-i):\n",
    "        print(' ',end='')\n",
    "    for j in range(i):\n",
    "        print(j+1,'',end='')\n",
    "    print()"
   ]
  },
  {
   "cell_type": "code",
   "execution_count": 3,
   "id": "14836e67",
   "metadata": {
    "execution": {
     "iopub.execute_input": "2025-02-22T14:08:25.042805Z",
     "iopub.status.busy": "2025-02-22T14:08:25.042442Z",
     "iopub.status.idle": "2025-02-22T14:08:25.056285Z",
     "shell.execute_reply": "2025-02-22T14:08:25.055373Z"
    },
    "papermill": {
     "duration": 0.023297,
     "end_time": "2025-02-22T14:08:25.058054",
     "exception": false,
     "start_time": "2025-02-22T14:08:25.034757",
     "status": "completed"
    },
    "tags": []
   },
   "outputs": [
    {
     "name": "stdout",
     "output_type": "stream",
     "text": [
      "    1 \n",
      "   2 2 \n",
      "  3 3 3 \n",
      " 4 4 4 4 \n",
      "5 5 5 5 5 \n"
     ]
    }
   ],
   "source": [
    "# 2. Number triangle Pattern\n",
    "n = 6\n",
    "for i in range(1,n):\n",
    "    for k in range(1,n-i):\n",
    "        print(' ',end='')\n",
    "    for j in range(i):\n",
    "        print(i,'',end='')\n",
    "    print()"
   ]
  },
  {
   "cell_type": "code",
   "execution_count": 4,
   "id": "9a416a61",
   "metadata": {
    "execution": {
     "iopub.execute_input": "2025-02-22T14:08:25.072730Z",
     "iopub.status.busy": "2025-02-22T14:08:25.072372Z",
     "iopub.status.idle": "2025-02-22T14:08:25.082920Z",
     "shell.execute_reply": "2025-02-22T14:08:25.080398Z"
    },
    "papermill": {
     "duration": 0.019992,
     "end_time": "2025-02-22T14:08:25.084775",
     "exception": false,
     "start_time": "2025-02-22T14:08:25.064783",
     "status": "completed"
    },
    "tags": []
   },
   "outputs": [
    {
     "name": "stdout",
     "output_type": "stream",
     "text": [
      "1 \n",
      "1 2 \n",
      "1 2 3 \n",
      "1 2 3 4 \n",
      "1 2 3 4 5 \n"
     ]
    }
   ],
   "source": [
    "# 3. Number-increasing Pyramid Pattern \n",
    "n = 6\n",
    "for i in range(1,n):\n",
    "    for j in range(1,i+1):\n",
    "        print(j,'',end='')\n",
    "    print()"
   ]
  },
  {
   "cell_type": "code",
   "execution_count": 5,
   "id": "1240cf77",
   "metadata": {
    "execution": {
     "iopub.execute_input": "2025-02-22T14:08:25.100236Z",
     "iopub.status.busy": "2025-02-22T14:08:25.099740Z",
     "iopub.status.idle": "2025-02-22T14:08:25.109468Z",
     "shell.execute_reply": "2025-02-22T14:08:25.108536Z"
    },
    "papermill": {
     "duration": 0.019502,
     "end_time": "2025-02-22T14:08:25.111176",
     "exception": false,
     "start_time": "2025-02-22T14:08:25.091674",
     "status": "completed"
    },
    "tags": []
   },
   "outputs": [
    {
     "name": "stdout",
     "output_type": "stream",
     "text": [
      "1 2 3 4 5 \n",
      "1 2 3 4 \n",
      "1 2 3 \n",
      "1 2 \n",
      "1 \n"
     ]
    }
   ],
   "source": [
    "# 4. Number-increasing Reverse Pyramid Pattern \n",
    "n = 6\n",
    "for i in range(n,1,-1):\n",
    "    for j in range(1,i):\n",
    "        print(j,'',end='')\n",
    "    print()"
   ]
  },
  {
   "cell_type": "code",
   "execution_count": 6,
   "id": "7695a78d",
   "metadata": {
    "execution": {
     "iopub.execute_input": "2025-02-22T14:08:25.128522Z",
     "iopub.status.busy": "2025-02-22T14:08:25.128134Z",
     "iopub.status.idle": "2025-02-22T14:08:25.140877Z",
     "shell.execute_reply": "2025-02-22T14:08:25.139323Z"
    },
    "papermill": {
     "duration": 0.023972,
     "end_time": "2025-02-22T14:08:25.143205",
     "exception": false,
     "start_time": "2025-02-22T14:08:25.119233",
     "status": "completed"
    },
    "tags": []
   },
   "outputs": [
    {
     "name": "stdout",
     "output_type": "stream",
     "text": [
      "1 \n",
      "2 3 \n",
      "4 5 6 \n",
      "7 8 9 10 \n",
      "11 12 13 14 15 \n"
     ]
    }
   ],
   "source": [
    "# 5. Number-changing Pyramid Pattern \n",
    "n = 6\n",
    "start = 1;\n",
    "for i in range(1,n):\n",
    "    for j in range(1,i+1):\n",
    "        print(start,'',end='')\n",
    "        start += 1\n",
    "    print()"
   ]
  },
  {
   "cell_type": "code",
   "execution_count": 7,
   "id": "258b2b3f",
   "metadata": {
    "execution": {
     "iopub.execute_input": "2025-02-22T14:08:25.158804Z",
     "iopub.status.busy": "2025-02-22T14:08:25.158426Z",
     "iopub.status.idle": "2025-02-22T14:08:25.166904Z",
     "shell.execute_reply": "2025-02-22T14:08:25.166000Z"
    },
    "papermill": {
     "duration": 0.018364,
     "end_time": "2025-02-22T14:08:25.168675",
     "exception": false,
     "start_time": "2025-02-22T14:08:25.150311",
     "status": "completed"
    },
    "tags": []
   },
   "outputs": [
    {
     "name": "stdout",
     "output_type": "stream",
     "text": [
      "0 \n",
      "1 0 \n",
      "0 1 0 \n",
      "1 0 1 0 \n"
     ]
    }
   ],
   "source": [
    "# 6. Zero-One Triangle Pattern\n",
    "n = 5\n",
    "o = 0\n",
    "e = 1\n",
    "for i in range(1,n):\n",
    "    for j in range(1,i+1):\n",
    "        if (i+j)%2==0:\n",
    "            print(o,'',end='')\n",
    "        else:\n",
    "            print(e,'',end='')\n",
    "    print()"
   ]
  },
  {
   "cell_type": "code",
   "execution_count": 8,
   "id": "8cea218a",
   "metadata": {
    "execution": {
     "iopub.execute_input": "2025-02-22T14:08:25.183987Z",
     "iopub.status.busy": "2025-02-22T14:08:25.183654Z",
     "iopub.status.idle": "2025-02-22T14:08:25.197021Z",
     "shell.execute_reply": "2025-02-22T14:08:25.195995Z"
    },
    "papermill": {
     "duration": 0.023143,
     "end_time": "2025-02-22T14:08:25.198939",
     "exception": false,
     "start_time": "2025-02-22T14:08:25.175796",
     "status": "completed"
    },
    "tags": []
   },
   "outputs": [
    {
     "name": "stdout",
     "output_type": "stream",
     "text": [
      "        1 \n",
      "      2 1 2 \n",
      "    3 2 1 2 3 \n",
      "  4 3 2 1 2 3 4 \n"
     ]
    }
   ],
   "source": [
    "# 7. Palindrome Triangle Pattern\n",
    "n = 5\n",
    "for i in range(1,n):\n",
    "    for k in range(n-i):\n",
    "        print('  ',end='')\n",
    "    for j in range(i,0,-1):\n",
    "        print(j,'',end='')\n",
    "    for l in range(1,i):\n",
    "        print(l+1,'',end='')\n",
    "    print()"
   ]
  },
  {
   "cell_type": "code",
   "execution_count": 9,
   "id": "c4d9802d",
   "metadata": {
    "execution": {
     "iopub.execute_input": "2025-02-22T14:08:25.214547Z",
     "iopub.status.busy": "2025-02-22T14:08:25.214131Z",
     "iopub.status.idle": "2025-02-22T14:08:25.225213Z",
     "shell.execute_reply": "2025-02-22T14:08:25.221364Z"
    },
    "papermill": {
     "duration": 0.021432,
     "end_time": "2025-02-22T14:08:25.227483",
     "exception": false,
     "start_time": "2025-02-22T14:08:25.206051",
     "status": "completed"
    },
    "tags": []
   },
   "outputs": [
    {
     "name": "stdout",
     "output_type": "stream",
     "text": [
      "    * * * * * \n",
      "   * * * * * \n",
      "  * * * * * \n",
      " * * * * * \n",
      "* * * * * \n"
     ]
    }
   ],
   "source": [
    "# 8. Rhombus Reverse Pattern\n",
    "n = 6\n",
    "for i in range(1,n):\n",
    "    for k in range(1,n-i):\n",
    "        print(' ',end='')\n",
    "    for j in range(1,n):\n",
    "        print('* ',end='')\n",
    "    print()"
   ]
  },
  {
   "cell_type": "code",
   "execution_count": 10,
   "id": "2975f4e6",
   "metadata": {
    "execution": {
     "iopub.execute_input": "2025-02-22T14:08:25.243374Z",
     "iopub.status.busy": "2025-02-22T14:08:25.242973Z",
     "iopub.status.idle": "2025-02-22T14:08:25.254209Z",
     "shell.execute_reply": "2025-02-22T14:08:25.253247Z"
    },
    "papermill": {
     "duration": 0.021062,
     "end_time": "2025-02-22T14:08:25.255877",
     "exception": false,
     "start_time": "2025-02-22T14:08:25.234815",
     "status": "completed"
    },
    "tags": []
   },
   "outputs": [
    {
     "name": "stdout",
     "output_type": "stream",
     "text": [
      "* * * * * \n",
      " * * * * * \n",
      "  * * * * * \n",
      "   * * * * * \n",
      "    * * * * * \n"
     ]
    }
   ],
   "source": [
    "# 8. Rhombus Pattern\n",
    "n = 6\n",
    "for i in range(1,n):\n",
    "    for k in range(1,i):\n",
    "        print(' ',end='')\n",
    "    for j in range(1,n):\n",
    "        print('* ',end='')\n",
    "    print()"
   ]
  },
  {
   "cell_type": "code",
   "execution_count": 11,
   "id": "f124e56c",
   "metadata": {
    "execution": {
     "iopub.execute_input": "2025-02-22T14:08:25.271997Z",
     "iopub.status.busy": "2025-02-22T14:08:25.271637Z",
     "iopub.status.idle": "2025-02-22T14:08:25.289313Z",
     "shell.execute_reply": "2025-02-22T14:08:25.287924Z"
    },
    "papermill": {
     "duration": 0.027925,
     "end_time": "2025-02-22T14:08:25.291212",
     "exception": false,
     "start_time": "2025-02-22T14:08:25.263287",
     "status": "completed"
    },
    "tags": []
   },
   "outputs": [
    {
     "name": "stdout",
     "output_type": "stream",
     "text": [
      "        *   \n",
      "      *   *   \n",
      "    *   *   *   \n",
      "  *   *   *   *   \n",
      "*   *   *   *   *   \n",
      "  *   *   *   *   \n",
      "    *   *   *   \n",
      "      *   *   \n",
      "        *   \n"
     ]
    }
   ],
   "source": [
    "# 9. Diamond Star Pattern\n",
    "n = 6\n",
    "for i in range(1,n):\n",
    "    for k in range(1,n-i):\n",
    "        print('  ',end='')\n",
    "    for j in range(i):\n",
    "        print('*   ',end='')\n",
    "    print()\n",
    "for i in range(n-1,1,-1):\n",
    "    for k in range(n-i):\n",
    "        print('  ',end='')\n",
    "    for j in range(i-1):\n",
    "        print('*   ',end='')\n",
    "    print()"
   ]
  },
  {
   "cell_type": "code",
   "execution_count": 12,
   "id": "121a4314",
   "metadata": {
    "execution": {
     "iopub.execute_input": "2025-02-22T14:08:25.307755Z",
     "iopub.status.busy": "2025-02-22T14:08:25.307316Z",
     "iopub.status.idle": "2025-02-22T14:08:25.322832Z",
     "shell.execute_reply": "2025-02-22T14:08:25.321281Z"
    },
    "papermill": {
     "duration": 0.026006,
     "end_time": "2025-02-22T14:08:25.324908",
     "exception": false,
     "start_time": "2025-02-22T14:08:25.298902",
     "status": "completed"
    },
    "tags": []
   },
   "outputs": [
    {
     "name": "stdout",
     "output_type": "stream",
     "text": [
      "                    *  \n",
      "                *  *  \n",
      "            *  *  *  \n",
      "        *  *  *  *  \n",
      "    *  *  *  *  *  \n",
      "        *  *  *  *  \n",
      "            *  *  *  \n",
      "                *  *  \n",
      "                    *  \n"
     ]
    }
   ],
   "source": [
    "# Airoplane Pattern\n",
    "n = 6\n",
    "for i in range(1,n):\n",
    "    for k in range(n-i):\n",
    "        print('    ',end='')\n",
    "    for j in range(1,i+1):\n",
    "        print('*  ',end='')\n",
    "    print()\n",
    "for i in range(2,n):\n",
    "    for k in range(i):\n",
    "        print('    ',end='')\n",
    "    for j in range(n-i,0,-1):\n",
    "        print('*  ',end='')\n",
    "    print()"
   ]
  },
  {
   "cell_type": "code",
   "execution_count": 13,
   "id": "9dc598a1",
   "metadata": {
    "execution": {
     "iopub.execute_input": "2025-02-22T14:08:25.342111Z",
     "iopub.status.busy": "2025-02-22T14:08:25.341755Z",
     "iopub.status.idle": "2025-02-22T14:08:25.366963Z",
     "shell.execute_reply": "2025-02-22T14:08:25.366065Z"
    },
    "papermill": {
     "duration": 0.03614,
     "end_time": "2025-02-22T14:08:25.368671",
     "exception": false,
     "start_time": "2025-02-22T14:08:25.332531",
     "status": "completed"
    },
    "tags": []
   },
   "outputs": [
    {
     "name": "stdout",
     "output_type": "stream",
     "text": [
      "*                 * \n",
      "* *             * * \n",
      "* * *         * * * \n",
      "* * * *     * * * * \n",
      "* * * * * * * * * * \n",
      "* * * * * * * * * * \n",
      "* * * *     * * * * \n",
      "* * *         * * * \n",
      "* *             * * \n",
      "*                 * \n"
     ]
    }
   ],
   "source": [
    "# 10. Butterfly Star Pattern\n",
    "n = 6\n",
    "for i in range(1,n):\n",
    "    for j in range(i):\n",
    "        print('* ',end='')\n",
    "    for k in range(2,2*(n-i)):\n",
    "        print('  ',end='')\n",
    "    for l in range(i):\n",
    "        print('* ',end='')\n",
    "    print()\n",
    "for i in range(n-1,0,-1):\n",
    "    for j in range(i):\n",
    "        print('* ',end='')\n",
    "    for k in range(2,2*(n-i)):\n",
    "        print('  ',end='')\n",
    "    for l in range(i):\n",
    "        print('* ',end='')\n",
    "    print()"
   ]
  },
  {
   "cell_type": "code",
   "execution_count": 14,
   "id": "5d8247fe",
   "metadata": {
    "execution": {
     "iopub.execute_input": "2025-02-22T14:08:25.386772Z",
     "iopub.status.busy": "2025-02-22T14:08:25.386382Z",
     "iopub.status.idle": "2025-02-22T14:08:25.397130Z",
     "shell.execute_reply": "2025-02-22T14:08:25.395530Z"
    },
    "papermill": {
     "duration": 0.021156,
     "end_time": "2025-02-22T14:08:25.398914",
     "exception": false,
     "start_time": "2025-02-22T14:08:25.377758",
     "status": "completed"
    },
    "tags": []
   },
   "outputs": [
    {
     "name": "stdout",
     "output_type": "stream",
     "text": [
      "* * * * * \n",
      "* * * * * \n",
      "* * * * * \n",
      "* * * * * \n",
      "* * * * * \n"
     ]
    }
   ],
   "source": [
    "# 11. Square Fill Pattern\n",
    "n = 6\n",
    "for i in range(1,n):\n",
    "    for j in range(1,n):\n",
    "        print('* ',end='')\n",
    "    print()"
   ]
  },
  {
   "cell_type": "code",
   "execution_count": 15,
   "id": "7b59179d",
   "metadata": {
    "execution": {
     "iopub.execute_input": "2025-02-22T14:08:25.416148Z",
     "iopub.status.busy": "2025-02-22T14:08:25.415825Z",
     "iopub.status.idle": "2025-02-22T14:08:25.423667Z",
     "shell.execute_reply": "2025-02-22T14:08:25.420821Z"
    },
    "papermill": {
     "duration": 0.019423,
     "end_time": "2025-02-22T14:08:25.426434",
     "exception": false,
     "start_time": "2025-02-22T14:08:25.407011",
     "status": "completed"
    },
    "tags": []
   },
   "outputs": [
    {
     "name": "stdout",
     "output_type": "stream",
     "text": [
      "* \n",
      "* * \n",
      "* * * \n",
      "* * * * \n",
      "* * * * * \n"
     ]
    }
   ],
   "source": [
    "# 12. Right Half Pyramid Pattern\n",
    "n = 6\n",
    "for i in range(1,n):\n",
    "    for j in range(i):\n",
    "        print('* ',end='')\n",
    "    print()"
   ]
  },
  {
   "cell_type": "code",
   "execution_count": 16,
   "id": "916b5496",
   "metadata": {
    "execution": {
     "iopub.execute_input": "2025-02-22T14:08:25.444482Z",
     "iopub.status.busy": "2025-02-22T14:08:25.444098Z",
     "iopub.status.idle": "2025-02-22T14:08:25.451840Z",
     "shell.execute_reply": "2025-02-22T14:08:25.450874Z"
    },
    "papermill": {
     "duration": 0.019918,
     "end_time": "2025-02-22T14:08:25.454234",
     "exception": false,
     "start_time": "2025-02-22T14:08:25.434316",
     "status": "completed"
    },
    "tags": []
   },
   "outputs": [
    {
     "name": "stdout",
     "output_type": "stream",
     "text": [
      "* * * * * \n",
      "* * * * \n",
      "* * * \n",
      "* * \n",
      "* \n"
     ]
    }
   ],
   "source": [
    "# 13. Reverse Right Half Pyramid Pattern\n",
    "n = 6\n",
    "for i in range(1,n):\n",
    "    for j in range(n-i):\n",
    "        print('* ',end='')\n",
    "    print()"
   ]
  },
  {
   "cell_type": "code",
   "execution_count": 17,
   "id": "b7738095",
   "metadata": {
    "execution": {
     "iopub.execute_input": "2025-02-22T14:08:25.473239Z",
     "iopub.status.busy": "2025-02-22T14:08:25.472918Z",
     "iopub.status.idle": "2025-02-22T14:08:25.484281Z",
     "shell.execute_reply": "2025-02-22T14:08:25.483195Z"
    },
    "papermill": {
     "duration": 0.023058,
     "end_time": "2025-02-22T14:08:25.486049",
     "exception": false,
     "start_time": "2025-02-22T14:08:25.462991",
     "status": "completed"
    },
    "tags": []
   },
   "outputs": [
    {
     "name": "stdout",
     "output_type": "stream",
     "text": [
      "          * \n",
      "        * * \n",
      "      * * * \n",
      "    * * * * \n",
      "  * * * * * \n"
     ]
    }
   ],
   "source": [
    "# 14. Left Half Pyramid Pattern\n",
    "n = 6\n",
    "for i in range(1,n):\n",
    "    for k in range(n-i):\n",
    "        print('  ',end='')\n",
    "    for j in range(i):\n",
    "        print('* ',end='')\n",
    "    print()"
   ]
  },
  {
   "cell_type": "code",
   "execution_count": 18,
   "id": "f0469c91",
   "metadata": {
    "execution": {
     "iopub.execute_input": "2025-02-22T14:08:25.504944Z",
     "iopub.status.busy": "2025-02-22T14:08:25.504603Z",
     "iopub.status.idle": "2025-02-22T14:08:25.513790Z",
     "shell.execute_reply": "2025-02-22T14:08:25.511172Z"
    },
    "papermill": {
     "duration": 0.020681,
     "end_time": "2025-02-22T14:08:25.515492",
     "exception": false,
     "start_time": "2025-02-22T14:08:25.494811",
     "status": "completed"
    },
    "tags": []
   },
   "outputs": [
    {
     "name": "stdout",
     "output_type": "stream",
     "text": [
      "  * * * * * \n",
      "    * * * * \n",
      "      * * * \n",
      "        * * \n",
      "          * \n"
     ]
    }
   ],
   "source": [
    "# 15. Reverse Left Half Pyramid Pattern\n",
    "n = 6\n",
    "for i in range(1,n):\n",
    "    for k in range(i):\n",
    "        print('  ',end='')\n",
    "    for j in range(n-i):\n",
    "        print('* ',end='')\n",
    "    print()"
   ]
  },
  {
   "cell_type": "code",
   "execution_count": 19,
   "id": "e9945984",
   "metadata": {
    "execution": {
     "iopub.execute_input": "2025-02-22T14:08:25.533698Z",
     "iopub.status.busy": "2025-02-22T14:08:25.533314Z",
     "iopub.status.idle": "2025-02-22T14:08:25.543850Z",
     "shell.execute_reply": "2025-02-22T14:08:25.542887Z"
    },
    "papermill": {
     "duration": 0.021814,
     "end_time": "2025-02-22T14:08:25.545690",
     "exception": false,
     "start_time": "2025-02-22T14:08:25.523876",
     "status": "completed"
    },
    "tags": []
   },
   "outputs": [
    {
     "name": "stdout",
     "output_type": "stream",
     "text": [
      "     * \n",
      "    * * \n",
      "   * * * \n",
      "  * * * * \n",
      " * * * * * \n"
     ]
    }
   ],
   "source": [
    "# 16. Triangle Star Pattern\n",
    "n = 6\n",
    "for i in range(1,n):\n",
    "    for k in range(n-i):\n",
    "        print(' ',end='')\n",
    "    for j in range(i):\n",
    "        print('* ',end='')\n",
    "    print()"
   ]
  },
  {
   "cell_type": "code",
   "execution_count": 20,
   "id": "3bc6c1ae",
   "metadata": {
    "execution": {
     "iopub.execute_input": "2025-02-22T14:08:25.563542Z",
     "iopub.status.busy": "2025-02-22T14:08:25.563181Z",
     "iopub.status.idle": "2025-02-22T14:08:25.575136Z",
     "shell.execute_reply": "2025-02-22T14:08:25.574055Z"
    },
    "papermill": {
     "duration": 0.022822,
     "end_time": "2025-02-22T14:08:25.576947",
     "exception": false,
     "start_time": "2025-02-22T14:08:25.554125",
     "status": "completed"
    },
    "tags": []
   },
   "outputs": [
    {
     "name": "stdout",
     "output_type": "stream",
     "text": [
      " 1 2 3 4 5 \n",
      "  2 3 4 5 \n",
      "   3 4 5 \n",
      "    4 5 \n",
      "     5 \n"
     ]
    }
   ],
   "source": [
    "# 17. Reverse number Triangle Pattern\n",
    "n = 6\n",
    "for i in range(1,n):\n",
    "    for k in range(i):\n",
    "        print(' ',end='')\n",
    "    for j in range(i,n):\n",
    "        print(j,'',end='')\n",
    "    print()"
   ]
  },
  {
   "cell_type": "code",
   "execution_count": 21,
   "id": "e62b5de0",
   "metadata": {
    "execution": {
     "iopub.execute_input": "2025-02-22T14:08:25.595571Z",
     "iopub.status.busy": "2025-02-22T14:08:25.595181Z",
     "iopub.status.idle": "2025-02-22T14:08:25.618044Z",
     "shell.execute_reply": "2025-02-22T14:08:25.616935Z"
    },
    "papermill": {
     "duration": 0.034404,
     "end_time": "2025-02-22T14:08:25.619861",
     "exception": false,
     "start_time": "2025-02-22T14:08:25.585457",
     "status": "completed"
    },
    "tags": []
   },
   "outputs": [
    {
     "name": "stdout",
     "output_type": "stream",
     "text": [
      " 1 2 3 4 5 \n",
      "  2 3 4 5 \n",
      "   3 4 5 \n",
      "    4 5 \n",
      "     5 \n",
      "    4 5 \n",
      "   3 4 5 \n",
      "  2 3 4 5 \n",
      " 1 2 3 4 5 \n"
     ]
    }
   ],
   "source": [
    "# 18. Mirror Image Triangle Pattern\n",
    "n = 6\n",
    "for i in range(1,n):\n",
    "    for k in range(i):\n",
    "        print(' ',end='')\n",
    "    for j in range(i,n):\n",
    "        print(j,'',end='')\n",
    "    print()\n",
    "for i in range(2,n):\n",
    "    for k in range(n-i):\n",
    "        print(' ',end='')\n",
    "    for j in range(i):\n",
    "        print(n-i+j,'',end='')\n",
    "    print()"
   ]
  },
  {
   "cell_type": "code",
   "execution_count": 22,
   "id": "e7b8efc3",
   "metadata": {
    "execution": {
     "iopub.execute_input": "2025-02-22T14:08:25.637868Z",
     "iopub.status.busy": "2025-02-22T14:08:25.637529Z",
     "iopub.status.idle": "2025-02-22T14:08:25.648389Z",
     "shell.execute_reply": "2025-02-22T14:08:25.647241Z"
    },
    "papermill": {
     "duration": 0.021687,
     "end_time": "2025-02-22T14:08:25.650070",
     "exception": false,
     "start_time": "2025-02-22T14:08:25.628383",
     "status": "completed"
    },
    "tags": []
   },
   "outputs": [
    {
     "name": "stdout",
     "output_type": "stream",
     "text": [
      "     * \n",
      "    * * \n",
      "   *   * \n",
      "  *     * \n",
      " * * * * * \n"
     ]
    }
   ],
   "source": [
    "# 19. Hollow Triangle Pattern\n",
    "n = 6\n",
    "for i in range(1,n):\n",
    "    for k in range(n-i):\n",
    "        print(' ',end='')\n",
    "    for j in range(1,i+1):\n",
    "        if(i==1 or j==1 or i==n-1 or j==i):\n",
    "            print('* ',end='')\n",
    "        else:\n",
    "            print('  ',end='')\n",
    "    print()"
   ]
  },
  {
   "cell_type": "code",
   "execution_count": 23,
   "id": "2af42b60",
   "metadata": {
    "execution": {
     "iopub.execute_input": "2025-02-22T14:08:25.668311Z",
     "iopub.status.busy": "2025-02-22T14:08:25.667951Z",
     "iopub.status.idle": "2025-02-22T14:08:25.678272Z",
     "shell.execute_reply": "2025-02-22T14:08:25.677129Z"
    },
    "papermill": {
     "duration": 0.021779,
     "end_time": "2025-02-22T14:08:25.680487",
     "exception": false,
     "start_time": "2025-02-22T14:08:25.658708",
     "status": "completed"
    },
    "tags": []
   },
   "outputs": [
    {
     "name": "stdout",
     "output_type": "stream",
     "text": [
      " * * * * * \n",
      "  *     * \n",
      "   *   * \n",
      "    * * \n",
      "     * \n"
     ]
    }
   ],
   "source": [
    "# 20. Hollow Reverse Triangle Pattern\n",
    "n = 6\n",
    "for i in range(1,n):\n",
    "    for k in range(1,i+1):\n",
    "        print(' ',end='')\n",
    "    for j in range(1,n-i+1):\n",
    "        if(i==1 or j==1 or j==n-i):\n",
    "            print('* ',end='')\n",
    "        else:\n",
    "            print('  ',end='')\n",
    "    print()"
   ]
  },
  {
   "cell_type": "code",
   "execution_count": 24,
   "id": "f5dd4195",
   "metadata": {
    "execution": {
     "iopub.execute_input": "2025-02-22T14:08:25.698608Z",
     "iopub.status.busy": "2025-02-22T14:08:25.698237Z",
     "iopub.status.idle": "2025-02-22T14:08:25.714690Z",
     "shell.execute_reply": "2025-02-22T14:08:25.713608Z"
    },
    "papermill": {
     "duration": 0.027368,
     "end_time": "2025-02-22T14:08:25.716392",
     "exception": false,
     "start_time": "2025-02-22T14:08:25.689024",
     "status": "completed"
    },
    "tags": []
   },
   "outputs": [
    {
     "name": "stdout",
     "output_type": "stream",
     "text": [
      "     * \n",
      "    * * \n",
      "   *   * \n",
      "  *     * \n",
      " *       * \n",
      "  *     * \n",
      "   *   * \n",
      "    * * \n",
      "     * \n"
     ]
    }
   ],
   "source": [
    "# 21. Hollow Diamond Pyramid\n",
    "n = 6\n",
    "for i in range(1,n):\n",
    "    for k in range(n-i):\n",
    "        print(' ',end='')\n",
    "    for j in range(1,i+1):\n",
    "        if(i==1 or j==1 or j==i):\n",
    "            print('* ',end='')\n",
    "        else:\n",
    "            print('  ',end='')\n",
    "    print()\n",
    "for i in range(2,n):\n",
    "    for k in range(1,i+1):\n",
    "        print(' ',end='')\n",
    "    for j in range(1,n-i+1):\n",
    "        if(i==1 or j==1 or j==n-i):\n",
    "            print('* ',end='')\n",
    "        else:\n",
    "            print('  ',end='')\n",
    "    print()"
   ]
  },
  {
   "cell_type": "code",
   "execution_count": 25,
   "id": "7541e668",
   "metadata": {
    "execution": {
     "iopub.execute_input": "2025-02-22T14:08:25.735628Z",
     "iopub.status.busy": "2025-02-22T14:08:25.735223Z",
     "iopub.status.idle": "2025-02-22T14:08:25.753351Z",
     "shell.execute_reply": "2025-02-22T14:08:25.752241Z"
    },
    "papermill": {
     "duration": 0.029079,
     "end_time": "2025-02-22T14:08:25.754935",
     "exception": false,
     "start_time": "2025-02-22T14:08:25.725856",
     "status": "completed"
    },
    "tags": []
   },
   "outputs": [
    {
     "name": "stdout",
     "output_type": "stream",
     "text": [
      " * * * * * \n",
      "  *     * \n",
      "   *   * \n",
      "    * * \n",
      "     * \n",
      "    * * \n",
      "   *   * \n",
      "  *     * \n",
      " * * * * * \n"
     ]
    }
   ],
   "source": [
    "# 22. Hollow Hourglass Pattern\n",
    "n = 6\n",
    "for i in range(1,n):\n",
    "    for k in range(i):\n",
    "        print(' ',end='')\n",
    "    for j in range(1,n-i+1):\n",
    "        if(i==1 or i==n-1 or j==1 or j==n-i):\n",
    "            print('* ',end='')\n",
    "        else:\n",
    "            print('  ',end='')\n",
    "    print()\n",
    "for i in range(2,n):\n",
    "    for k in range(n-i):\n",
    "        print(' ',end='')\n",
    "    for j in range(1,i+1):\n",
    "        if(i==1 or i==n-1 or j==1 or j==i):\n",
    "            print('* ',end='')\n",
    "        else:\n",
    "            print('  ',end='')\n",
    "    print()"
   ]
  },
  {
   "cell_type": "code",
   "execution_count": 26,
   "id": "54e67381",
   "metadata": {
    "execution": {
     "iopub.execute_input": "2025-02-22T14:08:25.774389Z",
     "iopub.status.busy": "2025-02-22T14:08:25.774013Z",
     "iopub.status.idle": "2025-02-22T14:08:25.789687Z",
     "shell.execute_reply": "2025-02-22T14:08:25.788411Z"
    },
    "papermill": {
     "duration": 0.027507,
     "end_time": "2025-02-22T14:08:25.791491",
     "exception": false,
     "start_time": "2025-02-22T14:08:25.763984",
     "status": "completed"
    },
    "tags": []
   },
   "outputs": [
    {
     "name": "stdout",
     "output_type": "stream",
     "text": [
      "     1 \n",
      "    1 1 \n",
      "   1 2 1 \n",
      "  1 3 3 1 \n",
      " 1 4 6 4 1 \n"
     ]
    }
   ],
   "source": [
    "# 23. Pascal’s Triangle\n",
    "n = 6\n",
    "for i in range(1,n):\n",
    "    for k in range(n-i):\n",
    "        print(' ',end='')\n",
    "    val = 1\n",
    "    for j in range(1,i+1):\n",
    "        print(int(val),'',end='')\n",
    "        val = val * (i - j) / j\n",
    "    print()"
   ]
  },
  {
   "cell_type": "code",
   "execution_count": 27,
   "id": "04ec8161",
   "metadata": {
    "execution": {
     "iopub.execute_input": "2025-02-22T14:08:25.812838Z",
     "iopub.status.busy": "2025-02-22T14:08:25.812459Z",
     "iopub.status.idle": "2025-02-22T14:08:25.824585Z",
     "shell.execute_reply": "2025-02-22T14:08:25.823301Z"
    },
    "papermill": {
     "duration": 0.025884,
     "end_time": "2025-02-22T14:08:25.826317",
     "exception": false,
     "start_time": "2025-02-22T14:08:25.800433",
     "status": "completed"
    },
    "tags": []
   },
   "outputs": [
    {
     "name": "stdout",
     "output_type": "stream",
     "text": [
      "* \n",
      "* * \n",
      "* * * \n",
      "* * * * \n",
      "* * * * * \n",
      "* * * * \n",
      "* * * \n",
      "* * \n",
      "* \n"
     ]
    }
   ],
   "source": [
    "# 24. Right Pascal’s Triangle\n",
    "n = 6\n",
    "for i in range(1,n):\n",
    "    for j in range(i):\n",
    "        print('* ',end='')\n",
    "    print()\n",
    "for i in range(2,n):\n",
    "    for j in range(n-i):\n",
    "        print('* ',end='')\n",
    "    print()"
   ]
  },
  {
   "cell_type": "code",
   "execution_count": 28,
   "id": "d7b46a47",
   "metadata": {
    "execution": {
     "iopub.execute_input": "2025-02-22T14:08:25.845708Z",
     "iopub.status.busy": "2025-02-22T14:08:25.845277Z",
     "iopub.status.idle": "2025-02-22T14:08:25.858952Z",
     "shell.execute_reply": "2025-02-22T14:08:25.857194Z"
    },
    "papermill": {
     "duration": 0.026112,
     "end_time": "2025-02-22T14:08:25.861585",
     "exception": false,
     "start_time": "2025-02-22T14:08:25.835473",
     "status": "completed"
    },
    "tags": []
   },
   "outputs": [
    {
     "name": "stdout",
     "output_type": "stream",
     "text": [
      "A \n",
      "A B A \n",
      "A B C B A \n",
      "A B C D C B A \n",
      "A B C D E D C B A \n"
     ]
    }
   ],
   "source": [
    "n = 6\n",
    "for i in range(1,n):\n",
    "    for j in range(1,i+1):\n",
    "        print(chr(64+j),'',end='')\n",
    "    for k in range(i-1,0,-1):\n",
    "        print(chr(64+k),'',end='')\n",
    "    print()"
   ]
  },
  {
   "cell_type": "code",
   "execution_count": 29,
   "id": "25db8db8",
   "metadata": {
    "execution": {
     "iopub.execute_input": "2025-02-22T14:08:25.882457Z",
     "iopub.status.busy": "2025-02-22T14:08:25.882051Z",
     "iopub.status.idle": "2025-02-22T14:08:25.895291Z",
     "shell.execute_reply": "2025-02-22T14:08:25.893737Z"
    },
    "papermill": {
     "duration": 0.025762,
     "end_time": "2025-02-22T14:08:25.897527",
     "exception": false,
     "start_time": "2025-02-22T14:08:25.871765",
     "status": "completed"
    },
    "tags": []
   },
   "outputs": [
    {
     "name": "stdout",
     "output_type": "stream",
     "text": [
      "1 \n",
      "1 2 1 \n",
      "1 2 3 2 1 \n",
      "1 2 3 4 3 2 1 \n",
      "1 2 3 4 5 4 3 2 1 \n"
     ]
    }
   ],
   "source": [
    "n = 6\n",
    "for i in range(1,n):\n",
    "    for j in range(1,i+1):\n",
    "        print(j,'',end='')\n",
    "    for k in range(i-1,0,-1):\n",
    "        print(k,'',end='')\n",
    "    print()"
   ]
  },
  {
   "cell_type": "raw",
   "id": "a274a255",
   "metadata": {
    "papermill": {
     "duration": 0.008492,
     "end_time": "2025-02-22T14:08:25.915287",
     "exception": false,
     "start_time": "2025-02-22T14:08:25.906795",
     "status": "completed"
    },
    "tags": []
   },
   "source": []
  },
  {
   "cell_type": "markdown",
   "id": "a6fcdfbc",
   "metadata": {
    "papermill": {
     "duration": 0.008509,
     "end_time": "2025-02-22T14:08:25.932693",
     "exception": false,
     "start_time": "2025-02-22T14:08:25.924184",
     "status": "completed"
    },
    "tags": []
   },
   "source": [
    "# Name Pattern"
   ]
  },
  {
   "cell_type": "code",
   "execution_count": 30,
   "id": "334167a8",
   "metadata": {
    "execution": {
     "iopub.execute_input": "2025-02-22T14:08:25.952306Z",
     "iopub.status.busy": "2025-02-22T14:08:25.951953Z",
     "iopub.status.idle": "2025-02-22T14:08:25.962101Z",
     "shell.execute_reply": "2025-02-22T14:08:25.958655Z"
    },
    "papermill": {
     "duration": 0.022348,
     "end_time": "2025-02-22T14:08:25.963875",
     "exception": false,
     "start_time": "2025-02-22T14:08:25.941527",
     "status": "completed"
    },
    "tags": []
   },
   "outputs": [
    {
     "name": "stdout",
     "output_type": "stream",
     "text": [
      "*       * \n",
      "  *   *   \n",
      "    * \n",
      "    * \n",
      "    * \n"
     ]
    }
   ],
   "source": [
    "# Y Pattern\n",
    "n = 3\n",
    "for i in range(1,n):\n",
    "    for j in range(1,i+1):\n",
    "        if i==1 or j==i:\n",
    "            print('* ',end='')\n",
    "        else:\n",
    "            print('  ',end='')\n",
    "    for k in range(3,2 * (n+1-i)):\n",
    "        print('  ',end='')\n",
    "    for l in range(1,i+1):\n",
    "        if l==1:\n",
    "            print('* ',end='')\n",
    "        else:\n",
    "            print('  ',end='')\n",
    "    print()\n",
    "for i in range(1,n+1):\n",
    "    for k in range((n-i)):\n",
    "        print('  ',end='')\n",
    "    for j in range(1,i+1):\n",
    "        if i==j:\n",
    "            print('* ',end='')\n",
    "        else:\n",
    "            print('  ',end='')\n",
    "    print()"
   ]
  }
 ],
 "metadata": {
  "kaggle": {
   "accelerator": "none",
   "dataSources": [],
   "dockerImageVersionId": 30918,
   "isGpuEnabled": false,
   "isInternetEnabled": false,
   "language": "python",
   "sourceType": "notebook"
  },
  "kernelspec": {
   "display_name": "Python 3",
   "language": "python",
   "name": "python3"
  },
  "language_info": {
   "codemirror_mode": {
    "name": "ipython",
    "version": 3
   },
   "file_extension": ".py",
   "mimetype": "text/x-python",
   "name": "python",
   "nbconvert_exporter": "python",
   "pygments_lexer": "ipython3",
   "version": "3.10.12"
  },
  "papermill": {
   "default_parameters": {},
   "duration": 4.276693,
   "end_time": "2025-02-22T14:08:26.392555",
   "environment_variables": {},
   "exception": null,
   "input_path": "__notebook__.ipynb",
   "output_path": "__notebook__.ipynb",
   "parameters": {},
   "start_time": "2025-02-22T14:08:22.115862",
   "version": "2.6.0"
  }
 },
 "nbformat": 4,
 "nbformat_minor": 5
}
