{
 "cells": [
  {
   "cell_type": "markdown",
   "id": "7bde4b2f",
   "metadata": {
    "papermill": {
     "duration": 0.004192,
     "end_time": "2025-02-21T07:54:34.221472",
     "exception": false,
     "start_time": "2025-02-21T07:54:34.217280",
     "status": "completed"
    },
    "tags": []
   },
   "source": [
    "# Pattern Program"
   ]
  },
  {
   "cell_type": "code",
   "execution_count": 1,
   "id": "4b0f5860",
   "metadata": {
    "execution": {
     "iopub.execute_input": "2025-02-21T07:54:34.229566Z",
     "iopub.status.busy": "2025-02-21T07:54:34.229029Z",
     "iopub.status.idle": "2025-02-21T07:54:34.243016Z",
     "shell.execute_reply": "2025-02-21T07:54:34.241874Z"
    },
    "papermill": {
     "duration": 0.019911,
     "end_time": "2025-02-21T07:54:34.244828",
     "exception": false,
     "start_time": "2025-02-21T07:54:34.224917",
     "status": "completed"
    },
    "tags": []
   },
   "outputs": [
    {
     "name": "stdout",
     "output_type": "stream",
     "text": [
      "* * * * * \n",
      "*       * \n",
      "*       * \n",
      "*       * \n",
      "* * * * * \n"
     ]
    }
   ],
   "source": [
    "# 1. Square Hollow Pattern\n",
    "n = 6\n",
    "for i in range(1,n):\n",
    "    for j in range(1,n):\n",
    "        if(i==1 or j==1 or j==n-1 or i==n-1):\n",
    "            print('* ',end='')\n",
    "        else:\n",
    "            print('  ',end='')\n",
    "    print()"
   ]
  },
  {
   "cell_type": "code",
   "execution_count": 2,
   "id": "9f02a4a1",
   "metadata": {
    "execution": {
     "iopub.execute_input": "2025-02-21T07:54:34.252631Z",
     "iopub.status.busy": "2025-02-21T07:54:34.252308Z",
     "iopub.status.idle": "2025-02-21T07:54:34.263142Z",
     "shell.execute_reply": "2025-02-21T07:54:34.262025Z"
    },
    "papermill": {
     "duration": 0.016557,
     "end_time": "2025-02-21T07:54:34.264841",
     "exception": false,
     "start_time": "2025-02-21T07:54:34.248284",
     "status": "completed"
    },
    "tags": []
   },
   "outputs": [
    {
     "name": "stdout",
     "output_type": "stream",
     "text": [
      "    1 \n",
      "   1 2 \n",
      "  1 2 3 \n",
      " 1 2 3 4 \n",
      "1 2 3 4 5 \n"
     ]
    }
   ],
   "source": [
    "# 2. Number triangle Pattern\n",
    "n = 6\n",
    "for i in range(1,n):\n",
    "    for k in range(1,n-i):\n",
    "        print(' ',end='')\n",
    "    for j in range(i):\n",
    "        print(j+1,'',end='')\n",
    "    print()"
   ]
  },
  {
   "cell_type": "code",
   "execution_count": 3,
   "id": "f084f68c",
   "metadata": {
    "execution": {
     "iopub.execute_input": "2025-02-21T07:54:34.272722Z",
     "iopub.status.busy": "2025-02-21T07:54:34.272335Z",
     "iopub.status.idle": "2025-02-21T07:54:34.283273Z",
     "shell.execute_reply": "2025-02-21T07:54:34.282316Z"
    },
    "papermill": {
     "duration": 0.016601,
     "end_time": "2025-02-21T07:54:34.284958",
     "exception": false,
     "start_time": "2025-02-21T07:54:34.268357",
     "status": "completed"
    },
    "tags": []
   },
   "outputs": [
    {
     "name": "stdout",
     "output_type": "stream",
     "text": [
      "    1 \n",
      "   2 2 \n",
      "  3 3 3 \n",
      " 4 4 4 4 \n",
      "5 5 5 5 5 \n"
     ]
    }
   ],
   "source": [
    "# 2. Number triangle Pattern\n",
    "n = 6\n",
    "for i in range(1,n):\n",
    "    for k in range(1,n-i):\n",
    "        print(' ',end='')\n",
    "    for j in range(i):\n",
    "        print(i,'',end='')\n",
    "    print()"
   ]
  },
  {
   "cell_type": "code",
   "execution_count": 4,
   "id": "2cecdd37",
   "metadata": {
    "execution": {
     "iopub.execute_input": "2025-02-21T07:54:34.292962Z",
     "iopub.status.busy": "2025-02-21T07:54:34.292662Z",
     "iopub.status.idle": "2025-02-21T07:54:34.303596Z",
     "shell.execute_reply": "2025-02-21T07:54:34.302190Z"
    },
    "papermill": {
     "duration": 0.01689,
     "end_time": "2025-02-21T07:54:34.305339",
     "exception": false,
     "start_time": "2025-02-21T07:54:34.288449",
     "status": "completed"
    },
    "tags": []
   },
   "outputs": [
    {
     "name": "stdout",
     "output_type": "stream",
     "text": [
      "1 \n",
      "1 2 \n",
      "1 2 3 \n",
      "1 2 3 4 \n",
      "1 2 3 4 5 \n"
     ]
    }
   ],
   "source": [
    "# 3. Number-increasing Pyramid Pattern \n",
    "n = 6\n",
    "for i in range(1,n):\n",
    "    for j in range(1,i+1):\n",
    "        print(j,'',end='')\n",
    "    print()"
   ]
  },
  {
   "cell_type": "code",
   "execution_count": 5,
   "id": "4554278c",
   "metadata": {
    "execution": {
     "iopub.execute_input": "2025-02-21T07:54:34.313761Z",
     "iopub.status.busy": "2025-02-21T07:54:34.313348Z",
     "iopub.status.idle": "2025-02-21T07:54:34.326873Z",
     "shell.execute_reply": "2025-02-21T07:54:34.325742Z"
    },
    "papermill": {
     "duration": 0.019846,
     "end_time": "2025-02-21T07:54:34.328773",
     "exception": false,
     "start_time": "2025-02-21T07:54:34.308927",
     "status": "completed"
    },
    "tags": []
   },
   "outputs": [
    {
     "name": "stdout",
     "output_type": "stream",
     "text": [
      "1 2 3 4 5 \n",
      "1 2 3 4 \n",
      "1 2 3 \n",
      "1 2 \n",
      "1 \n"
     ]
    }
   ],
   "source": [
    "# 4. Number-increasing Reverse Pyramid Pattern \n",
    "n = 6\n",
    "for i in range(n,1,-1):\n",
    "    for j in range(1,i):\n",
    "        print(j,'',end='')\n",
    "    print()"
   ]
  },
  {
   "cell_type": "code",
   "execution_count": 6,
   "id": "ee7ce3a5",
   "metadata": {
    "execution": {
     "iopub.execute_input": "2025-02-21T07:54:34.336914Z",
     "iopub.status.busy": "2025-02-21T07:54:34.336546Z",
     "iopub.status.idle": "2025-02-21T07:54:34.346183Z",
     "shell.execute_reply": "2025-02-21T07:54:34.342990Z"
    },
    "papermill": {
     "duration": 0.015437,
     "end_time": "2025-02-21T07:54:34.347877",
     "exception": false,
     "start_time": "2025-02-21T07:54:34.332440",
     "status": "completed"
    },
    "tags": []
   },
   "outputs": [
    {
     "name": "stdout",
     "output_type": "stream",
     "text": [
      "1 \n",
      "2 3 \n",
      "4 5 6 \n",
      "7 8 9 10 \n",
      "11 12 13 14 15 \n"
     ]
    }
   ],
   "source": [
    "# 5. Number-changing Pyramid Pattern \n",
    "n = 6\n",
    "start = 1;\n",
    "for i in range(1,n):\n",
    "    for j in range(1,i+1):\n",
    "        print(start,'',end='')\n",
    "        start += 1\n",
    "    print()"
   ]
  },
  {
   "cell_type": "code",
   "execution_count": 7,
   "id": "25d7863b",
   "metadata": {
    "execution": {
     "iopub.execute_input": "2025-02-21T07:54:34.355959Z",
     "iopub.status.busy": "2025-02-21T07:54:34.355635Z",
     "iopub.status.idle": "2025-02-21T07:54:34.365370Z",
     "shell.execute_reply": "2025-02-21T07:54:34.361091Z"
    },
    "papermill": {
     "duration": 0.015617,
     "end_time": "2025-02-21T07:54:34.367142",
     "exception": false,
     "start_time": "2025-02-21T07:54:34.351525",
     "status": "completed"
    },
    "tags": []
   },
   "outputs": [
    {
     "name": "stdout",
     "output_type": "stream",
     "text": [
      "0 \n",
      "1 0 \n",
      "0 1 0 \n",
      "1 0 1 0 \n"
     ]
    }
   ],
   "source": [
    "# 6. Zero-One Triangle Pattern\n",
    "n = 5\n",
    "o = 0\n",
    "e = 1\n",
    "for i in range(1,n):\n",
    "    for j in range(1,i+1):\n",
    "        if (i+j)%2==0:\n",
    "            print(o,'',end='')\n",
    "        else:\n",
    "            print(e,'',end='')\n",
    "    print()"
   ]
  },
  {
   "cell_type": "code",
   "execution_count": 8,
   "id": "31ed193e",
   "metadata": {
    "execution": {
     "iopub.execute_input": "2025-02-21T07:54:34.375331Z",
     "iopub.status.busy": "2025-02-21T07:54:34.374977Z",
     "iopub.status.idle": "2025-02-21T07:54:34.386823Z",
     "shell.execute_reply": "2025-02-21T07:54:34.385693Z"
    },
    "papermill": {
     "duration": 0.017845,
     "end_time": "2025-02-21T07:54:34.388594",
     "exception": false,
     "start_time": "2025-02-21T07:54:34.370749",
     "status": "completed"
    },
    "tags": []
   },
   "outputs": [
    {
     "name": "stdout",
     "output_type": "stream",
     "text": [
      "        1 \n",
      "      2 1 2 \n",
      "    3 2 1 2 3 \n",
      "  4 3 2 1 2 3 4 \n"
     ]
    }
   ],
   "source": [
    "# 7. Palindrome Triangle Pattern\n",
    "n = 5\n",
    "for i in range(1,n):\n",
    "    for k in range(n-i):\n",
    "        print('  ',end='')\n",
    "    for j in range(i,0,-1):\n",
    "        print(j,'',end='')\n",
    "    for l in range(1,i):\n",
    "        print(l+1,'',end='')\n",
    "    print()"
   ]
  },
  {
   "cell_type": "code",
   "execution_count": 9,
   "id": "bb7ae0a5",
   "metadata": {
    "execution": {
     "iopub.execute_input": "2025-02-21T07:54:34.397255Z",
     "iopub.status.busy": "2025-02-21T07:54:34.396888Z",
     "iopub.status.idle": "2025-02-21T07:54:34.405250Z",
     "shell.execute_reply": "2025-02-21T07:54:34.403798Z"
    },
    "papermill": {
     "duration": 0.01489,
     "end_time": "2025-02-21T07:54:34.407145",
     "exception": false,
     "start_time": "2025-02-21T07:54:34.392255",
     "status": "completed"
    },
    "tags": []
   },
   "outputs": [
    {
     "name": "stdout",
     "output_type": "stream",
     "text": [
      "    * * * * * \n",
      "   * * * * * \n",
      "  * * * * * \n",
      " * * * * * \n",
      "* * * * * \n"
     ]
    }
   ],
   "source": [
    "# 8. Rhombus Reverse Pattern\n",
    "n = 6\n",
    "for i in range(1,n):\n",
    "    for k in range(1,n-i):\n",
    "        print(' ',end='')\n",
    "    for j in range(1,n):\n",
    "        print('* ',end='')\n",
    "    print()"
   ]
  },
  {
   "cell_type": "code",
   "execution_count": 10,
   "id": "7d926c72",
   "metadata": {
    "execution": {
     "iopub.execute_input": "2025-02-21T07:54:34.416984Z",
     "iopub.status.busy": "2025-02-21T07:54:34.416644Z",
     "iopub.status.idle": "2025-02-21T07:54:34.427743Z",
     "shell.execute_reply": "2025-02-21T07:54:34.425065Z"
    },
    "papermill": {
     "duration": 0.017486,
     "end_time": "2025-02-21T07:54:34.429663",
     "exception": false,
     "start_time": "2025-02-21T07:54:34.412177",
     "status": "completed"
    },
    "tags": []
   },
   "outputs": [
    {
     "name": "stdout",
     "output_type": "stream",
     "text": [
      "* * * * * \n",
      " * * * * * \n",
      "  * * * * * \n",
      "   * * * * * \n",
      "    * * * * * \n"
     ]
    }
   ],
   "source": [
    "# 8. Rhombus Pattern\n",
    "n = 6\n",
    "for i in range(1,n):\n",
    "    for k in range(1,i):\n",
    "        print(' ',end='')\n",
    "    for j in range(1,n):\n",
    "        print('* ',end='')\n",
    "    print()"
   ]
  },
  {
   "cell_type": "code",
   "execution_count": 11,
   "id": "73d408d1",
   "metadata": {
    "execution": {
     "iopub.execute_input": "2025-02-21T07:54:34.438984Z",
     "iopub.status.busy": "2025-02-21T07:54:34.438471Z",
     "iopub.status.idle": "2025-02-21T07:54:34.455012Z",
     "shell.execute_reply": "2025-02-21T07:54:34.448456Z"
    },
    "papermill": {
     "duration": 0.023212,
     "end_time": "2025-02-21T07:54:34.456919",
     "exception": false,
     "start_time": "2025-02-21T07:54:34.433707",
     "status": "completed"
    },
    "tags": []
   },
   "outputs": [
    {
     "name": "stdout",
     "output_type": "stream",
     "text": [
      "        *   \n",
      "      *   *   \n",
      "    *   *   *   \n",
      "  *   *   *   *   \n",
      "*   *   *   *   *   \n",
      "  *   *   *   *   \n",
      "    *   *   *   \n",
      "      *   *   \n",
      "        *   \n"
     ]
    }
   ],
   "source": [
    "# 9. Diamond Star Pattern\n",
    "n = 6\n",
    "for i in range(1,n):\n",
    "    for k in range(1,n-i):\n",
    "        print('  ',end='')\n",
    "    for j in range(i):\n",
    "        print('*   ',end='')\n",
    "    print()\n",
    "for i in range(n-1,1,-1):\n",
    "    for k in range(n-i):\n",
    "        print('  ',end='')\n",
    "    for j in range(i-1):\n",
    "        print('*   ',end='')\n",
    "    print()"
   ]
  }
 ],
 "metadata": {
  "kaggle": {
   "accelerator": "none",
   "dataSources": [],
   "dockerImageVersionId": 30918,
   "isGpuEnabled": false,
   "isInternetEnabled": false,
   "language": "python",
   "sourceType": "notebook"
  },
  "kernelspec": {
   "display_name": "Python 3",
   "language": "python",
   "name": "python3"
  },
  "language_info": {
   "codemirror_mode": {
    "name": "ipython",
    "version": 3
   },
   "file_extension": ".py",
   "mimetype": "text/x-python",
   "name": "python",
   "nbconvert_exporter": "python",
   "pygments_lexer": "ipython3",
   "version": "3.10.12"
  },
  "papermill": {
   "default_parameters": {},
   "duration": 3.491077,
   "end_time": "2025-02-21T07:54:34.879907",
   "environment_variables": {},
   "exception": null,
   "input_path": "__notebook__.ipynb",
   "output_path": "__notebook__.ipynb",
   "parameters": {},
   "start_time": "2025-02-21T07:54:31.388830",
   "version": "2.6.0"
  }
 },
 "nbformat": 4,
 "nbformat_minor": 5
}
